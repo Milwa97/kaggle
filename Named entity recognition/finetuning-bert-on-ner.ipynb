{
 "cells": [
  {
   "cell_type": "markdown",
   "metadata": {
    "id": "pxlNApY9uMih"
   },
   "source": [
    "# Name Entity Recognition (NER) Dataset\n",
    "\n",
    "Link: https://www.kaggle.com/datasets/debasisdotcom/name-entity-recognition-ner-dataset\n",
    "\n",
    "Dataset description:\n",
    "\n",
    "This is a very clean dataset and is for anyone who wants to try his/her hand on the NER ( Named Entity recognition ) task of NLP.\n",
    "\n",
    "Tags:\n",
    "\n",
    "* ORGANIZATION - Georgia-Pacific Corp., WHO\n",
    "* PERSON - Eddy Bonte, President Obama\n",
    "* LOCATION - Murray River, Mount Everest\n",
    "* DATE - June, 2008-06-29\n",
    "* TIME - two fifty a m, 1:30 p.m.\n",
    "* MONEY - 175 million Canadian Dollars, GBP 10.40\n",
    "* PERCENT - twenty pct, 18.75 %\n",
    "* FACILITY - Washington Monument, Stonehenge\n",
    "* GPE - South East Asia, Midlothian"
   ]
  },
  {
   "cell_type": "code",
   "execution_count": 1,
   "metadata": {
    "id": "4ccddzWUwQqH",
    "outputId": "e7a7f059-303e-4a95-bc9e-c091217fd1b1"
   },
   "outputs": [],
   "source": [
    "!pip install -qU transformers\n",
    "!pip install -qU datasets\n",
    "!pip install -qU seqeval"
   ]
  },
  {
   "cell_type": "code",
   "execution_count": 2,
   "metadata": {
    "id": "b5ccc971",
    "outputId": "c067d8ea-5bec-4afb-f3bd-aa424b38aff7",
    "scrolled": true
   },
   "outputs": [
    {
     "data": {
      "text/plain": [
       "device(type='cuda')"
      ]
     },
     "execution_count": 2,
     "metadata": {},
     "output_type": "execute_result"
    }
   ],
   "source": [
    "import re\n",
    "import pandas as pd\n",
    "import matplotlib.pyplot as plt\n",
    "import seaborn as sns\n",
    "import time\n",
    "import json\n",
    "\n",
    "from transformers import AutoTokenizer, BertForTokenClassification\n",
    "import torch\n",
    "from torch.utils.data import TensorDataset, DataLoader, RandomSampler, SequentialSampler,random_split, Dataset\n",
    "from torch.nn.functional import pad\n",
    "from transformers import BertForSequenceClassification, AdamW, BertConfig, BertTokenizer\n",
    "from tqdm.auto import tqdm\n",
    "from datasets import load_metric\n",
    "\n",
    "import warnings\n",
    "warnings.filterwarnings(action=\"ignore\")\n",
    "\n",
    "pd.set_option('display.max_colwidth', 3000)\n",
    "pd.set_option('display.max_columns', None)\n",
    "\n",
    "device = torch.device('cuda' if torch.cuda.is_available() else 'cpu')\n",
    "device"
   ]
  },
  {
   "cell_type": "code",
   "execution_count": 3,
   "metadata": {
    "id": "EAwNG1tiET-9"
   },
   "outputs": [],
   "source": [
    "CYELGREENBG = '\\033[43m'\n",
    "CFUKSIABG = '\\033[45m'\n",
    "CLBLUEBG = '\\033[46m'\n",
    "CGREYBG    = '\\33[100m'\n",
    "CREDBG    = '\\33[101m'\n",
    "CGREENBG  = '\\33[102m'\n",
    "CYELLOWBG = '\\33[103m'\n",
    "CBLUEBG   = '\\33[104m'\n",
    "CVIOLETBG = '\\33[105m'\n",
    "CBEIGEBG  = '\\33[106m'\n",
    "CEND  = '\\33[107m'\n",
    "\n",
    "color_mapping = {'O': CEND, 'GEO': CYELLOWBG, 'GPE': CREDBG, 'PER': CBLUEBG, 'ORG':CVIOLETBG,\n",
    "                 'TIM': CBEIGEBG, 'ART': CYELGREENBG, 'NAT': CFUKSIABG, 'EVE':CLBLUEBG\n",
    "                 }"
   ]
  },
  {
   "cell_type": "markdown",
   "metadata": {
    "id": "ece0778a"
   },
   "source": [
    "## Data preprocessing"
   ]
  },
  {
   "cell_type": "code",
   "execution_count": 4,
   "metadata": {
    "id": "c8652fba",
    "outputId": "df228a02-eac6-4d51-ea61-3898ec9824cb"
   },
   "outputs": [
    {
     "data": {
      "text/html": [
       "<div>\n",
       "<style scoped>\n",
       "    .dataframe tbody tr th:only-of-type {\n",
       "        vertical-align: middle;\n",
       "    }\n",
       "\n",
       "    .dataframe tbody tr th {\n",
       "        vertical-align: top;\n",
       "    }\n",
       "\n",
       "    .dataframe thead th {\n",
       "        text-align: right;\n",
       "    }\n",
       "</style>\n",
       "<table border=\"1\" class=\"dataframe\">\n",
       "  <thead>\n",
       "    <tr style=\"text-align: right;\">\n",
       "      <th></th>\n",
       "      <th>Sentence</th>\n",
       "      <th>Word</th>\n",
       "      <th>POS</th>\n",
       "      <th>Tag</th>\n",
       "      <th>TagGeneral</th>\n",
       "      <th>TagPos</th>\n",
       "    </tr>\n",
       "  </thead>\n",
       "  <tbody>\n",
       "    <tr>\n",
       "      <th>0</th>\n",
       "      <td>Sentence: 1</td>\n",
       "      <td>Thousands</td>\n",
       "      <td>NNS</td>\n",
       "      <td>O</td>\n",
       "      <td>O</td>\n",
       "      <td>O</td>\n",
       "    </tr>\n",
       "    <tr>\n",
       "      <th>1</th>\n",
       "      <td>NaN</td>\n",
       "      <td>of</td>\n",
       "      <td>IN</td>\n",
       "      <td>O</td>\n",
       "      <td>O</td>\n",
       "      <td>O</td>\n",
       "    </tr>\n",
       "    <tr>\n",
       "      <th>2</th>\n",
       "      <td>NaN</td>\n",
       "      <td>demonstrators</td>\n",
       "      <td>NNS</td>\n",
       "      <td>O</td>\n",
       "      <td>O</td>\n",
       "      <td>O</td>\n",
       "    </tr>\n",
       "    <tr>\n",
       "      <th>3</th>\n",
       "      <td>NaN</td>\n",
       "      <td>have</td>\n",
       "      <td>VBP</td>\n",
       "      <td>O</td>\n",
       "      <td>O</td>\n",
       "      <td>O</td>\n",
       "    </tr>\n",
       "    <tr>\n",
       "      <th>4</th>\n",
       "      <td>NaN</td>\n",
       "      <td>marched</td>\n",
       "      <td>VBN</td>\n",
       "      <td>O</td>\n",
       "      <td>O</td>\n",
       "      <td>O</td>\n",
       "    </tr>\n",
       "    <tr>\n",
       "      <th>...</th>\n",
       "      <td>...</td>\n",
       "      <td>...</td>\n",
       "      <td>...</td>\n",
       "      <td>...</td>\n",
       "      <td>...</td>\n",
       "      <td>...</td>\n",
       "    </tr>\n",
       "    <tr>\n",
       "      <th>1048570</th>\n",
       "      <td>NaN</td>\n",
       "      <td>they</td>\n",
       "      <td>PRP</td>\n",
       "      <td>O</td>\n",
       "      <td>O</td>\n",
       "      <td>O</td>\n",
       "    </tr>\n",
       "    <tr>\n",
       "      <th>1048571</th>\n",
       "      <td>NaN</td>\n",
       "      <td>responded</td>\n",
       "      <td>VBD</td>\n",
       "      <td>O</td>\n",
       "      <td>O</td>\n",
       "      <td>O</td>\n",
       "    </tr>\n",
       "    <tr>\n",
       "      <th>1048572</th>\n",
       "      <td>NaN</td>\n",
       "      <td>to</td>\n",
       "      <td>TO</td>\n",
       "      <td>O</td>\n",
       "      <td>O</td>\n",
       "      <td>O</td>\n",
       "    </tr>\n",
       "    <tr>\n",
       "      <th>1048573</th>\n",
       "      <td>NaN</td>\n",
       "      <td>the</td>\n",
       "      <td>DT</td>\n",
       "      <td>O</td>\n",
       "      <td>O</td>\n",
       "      <td>O</td>\n",
       "    </tr>\n",
       "    <tr>\n",
       "      <th>1048574</th>\n",
       "      <td>NaN</td>\n",
       "      <td>attack</td>\n",
       "      <td>NN</td>\n",
       "      <td>O</td>\n",
       "      <td>O</td>\n",
       "      <td>O</td>\n",
       "    </tr>\n",
       "  </tbody>\n",
       "</table>\n",
       "<p>1048575 rows × 6 columns</p>\n",
       "</div>"
      ],
      "text/plain": [
       "            Sentence           Word  POS Tag TagGeneral TagPos\n",
       "0        Sentence: 1      Thousands  NNS   O          O      O\n",
       "1                NaN             of   IN   O          O      O\n",
       "2                NaN  demonstrators  NNS   O          O      O\n",
       "3                NaN           have  VBP   O          O      O\n",
       "4                NaN        marched  VBN   O          O      O\n",
       "...              ...            ...  ...  ..        ...    ...\n",
       "1048570          NaN           they  PRP   O          O      O\n",
       "1048571          NaN      responded  VBD   O          O      O\n",
       "1048572          NaN             to   TO   O          O      O\n",
       "1048573          NaN            the   DT   O          O      O\n",
       "1048574          NaN         attack   NN   O          O      O\n",
       "\n",
       "[1048575 rows x 6 columns]"
      ]
     },
     "execution_count": 4,
     "metadata": {},
     "output_type": "execute_result"
    }
   ],
   "source": [
    "#df = pd.read_csv(\"/kaggle/input/name-entity-recognition-ner-dataset/NER dataset.csv\", encoding='unicode_escape').rename(columns={\"Sentence #\": \"Sentence\"})\n",
    "df = pd.read_csv(\"dataset.csv\", encoding='unicode_escape').rename(columns={\"Sentence #\": \"Sentence\"})\n",
    "\n",
    "df[\"Tag\"] = df[\"Tag\"].apply(lambda x: x.upper())\n",
    "df[\"TagGeneral\"] = df[\"Tag\"].apply(lambda x: x.split(\"-\")[-1])\n",
    "df[\"TagPos\"] = df[\"Tag\"].apply(lambda x: x.split(\"-\")[0])\n",
    "df[\"Word\"].fillna(\"None\", inplace=True)\n",
    "\n",
    "df"
   ]
  },
  {
   "cell_type": "code",
   "execution_count": 5,
   "metadata": {
    "id": "1-U5m1TVrNX7",
    "outputId": "add8124d-7de4-41ee-a75a-2fe25895bcef"
   },
   "outputs": [
    {
     "data": {
      "text/html": [
       "<div>\n",
       "<style scoped>\n",
       "    .dataframe tbody tr th:only-of-type {\n",
       "        vertical-align: middle;\n",
       "    }\n",
       "\n",
       "    .dataframe tbody tr th {\n",
       "        vertical-align: top;\n",
       "    }\n",
       "\n",
       "    .dataframe thead th {\n",
       "        text-align: right;\n",
       "    }\n",
       "</style>\n",
       "<table border=\"1\" class=\"dataframe\">\n",
       "  <thead>\n",
       "    <tr style=\"text-align: right;\">\n",
       "      <th></th>\n",
       "      <th>Sentence</th>\n",
       "      <th>Word</th>\n",
       "      <th>POS</th>\n",
       "      <th>Tag</th>\n",
       "      <th>TagGeneral</th>\n",
       "      <th>TagPos</th>\n",
       "      <th>TagId</th>\n",
       "    </tr>\n",
       "  </thead>\n",
       "  <tbody>\n",
       "    <tr>\n",
       "      <th>0</th>\n",
       "      <td>Sentence: 1</td>\n",
       "      <td>Thousands</td>\n",
       "      <td>NNS</td>\n",
       "      <td>O</td>\n",
       "      <td>O</td>\n",
       "      <td>O</td>\n",
       "      <td>0</td>\n",
       "    </tr>\n",
       "    <tr>\n",
       "      <th>1</th>\n",
       "      <td>NaN</td>\n",
       "      <td>of</td>\n",
       "      <td>IN</td>\n",
       "      <td>O</td>\n",
       "      <td>O</td>\n",
       "      <td>O</td>\n",
       "      <td>0</td>\n",
       "    </tr>\n",
       "    <tr>\n",
       "      <th>2</th>\n",
       "      <td>NaN</td>\n",
       "      <td>demonstrators</td>\n",
       "      <td>NNS</td>\n",
       "      <td>O</td>\n",
       "      <td>O</td>\n",
       "      <td>O</td>\n",
       "      <td>0</td>\n",
       "    </tr>\n",
       "    <tr>\n",
       "      <th>3</th>\n",
       "      <td>NaN</td>\n",
       "      <td>have</td>\n",
       "      <td>VBP</td>\n",
       "      <td>O</td>\n",
       "      <td>O</td>\n",
       "      <td>O</td>\n",
       "      <td>0</td>\n",
       "    </tr>\n",
       "    <tr>\n",
       "      <th>4</th>\n",
       "      <td>NaN</td>\n",
       "      <td>marched</td>\n",
       "      <td>VBN</td>\n",
       "      <td>O</td>\n",
       "      <td>O</td>\n",
       "      <td>O</td>\n",
       "      <td>0</td>\n",
       "    </tr>\n",
       "    <tr>\n",
       "      <th>...</th>\n",
       "      <td>...</td>\n",
       "      <td>...</td>\n",
       "      <td>...</td>\n",
       "      <td>...</td>\n",
       "      <td>...</td>\n",
       "      <td>...</td>\n",
       "      <td>...</td>\n",
       "    </tr>\n",
       "    <tr>\n",
       "      <th>1048570</th>\n",
       "      <td>NaN</td>\n",
       "      <td>they</td>\n",
       "      <td>PRP</td>\n",
       "      <td>O</td>\n",
       "      <td>O</td>\n",
       "      <td>O</td>\n",
       "      <td>0</td>\n",
       "    </tr>\n",
       "    <tr>\n",
       "      <th>1048571</th>\n",
       "      <td>NaN</td>\n",
       "      <td>responded</td>\n",
       "      <td>VBD</td>\n",
       "      <td>O</td>\n",
       "      <td>O</td>\n",
       "      <td>O</td>\n",
       "      <td>0</td>\n",
       "    </tr>\n",
       "    <tr>\n",
       "      <th>1048572</th>\n",
       "      <td>NaN</td>\n",
       "      <td>to</td>\n",
       "      <td>TO</td>\n",
       "      <td>O</td>\n",
       "      <td>O</td>\n",
       "      <td>O</td>\n",
       "      <td>0</td>\n",
       "    </tr>\n",
       "    <tr>\n",
       "      <th>1048573</th>\n",
       "      <td>NaN</td>\n",
       "      <td>the</td>\n",
       "      <td>DT</td>\n",
       "      <td>O</td>\n",
       "      <td>O</td>\n",
       "      <td>O</td>\n",
       "      <td>0</td>\n",
       "    </tr>\n",
       "    <tr>\n",
       "      <th>1048574</th>\n",
       "      <td>NaN</td>\n",
       "      <td>attack</td>\n",
       "      <td>NN</td>\n",
       "      <td>O</td>\n",
       "      <td>O</td>\n",
       "      <td>O</td>\n",
       "      <td>0</td>\n",
       "    </tr>\n",
       "  </tbody>\n",
       "</table>\n",
       "<p>1048575 rows × 7 columns</p>\n",
       "</div>"
      ],
      "text/plain": [
       "            Sentence           Word  POS Tag TagGeneral TagPos  TagId\n",
       "0        Sentence: 1      Thousands  NNS   O          O      O      0\n",
       "1                NaN             of   IN   O          O      O      0\n",
       "2                NaN  demonstrators  NNS   O          O      O      0\n",
       "3                NaN           have  VBP   O          O      O      0\n",
       "4                NaN        marched  VBN   O          O      O      0\n",
       "...              ...            ...  ...  ..        ...    ...    ...\n",
       "1048570          NaN           they  PRP   O          O      O      0\n",
       "1048571          NaN      responded  VBD   O          O      O      0\n",
       "1048572          NaN             to   TO   O          O      O      0\n",
       "1048573          NaN            the   DT   O          O      O      0\n",
       "1048574          NaN         attack   NN   O          O      O      0\n",
       "\n",
       "[1048575 rows x 7 columns]"
      ]
     },
     "execution_count": 5,
     "metadata": {},
     "output_type": "execute_result"
    }
   ],
   "source": [
    "tag_list = df[\"Tag\"].unique()\n",
    "tag_general_list = df[\"TagGeneral\"].unique()\n",
    "\n",
    "n_tags = len(tag_list)\n",
    "n_tag_general = len(tag_general_list)\n",
    "\n",
    "tags2ids = {tag: i for i, tag in enumerate(tag_list)}\n",
    "ids2tags = {i: tag for i, tag in enumerate(tag_list)}\n",
    "\n",
    "df[\"TagId\"] = df[\"Tag\"].map(tags2ids)\n",
    "df"
   ]
  },
  {
   "cell_type": "code",
   "execution_count": 6,
   "metadata": {
    "id": "49GmwTXY-m-x",
    "outputId": "e3749ab7-4509-4cee-c6ee-f7c069751e3a"
   },
   "outputs": [
    {
     "data": {
      "image/png": "[encoded data removed]",
      "text/plain": [
       "<Figure size 1100x800 with 2 Axes>"
      ]
     },
     "metadata": {},
     "output_type": "display_data"
    }
   ],
   "source": [
    "sns.set_palette(palette=\"Pastel1\")\n",
    "sns.set_style(\"whitegrid\")\n",
    "\n",
    "fig, axs =plt.subplots(2,1, figsize=(11,8))\n",
    "sns.countplot(x=df['TagGeneral'], ax=axs[0])\n",
    "sns.countplot(x=df['TagGeneral'], ax=axs[1], hue =df[\"TagPos\"])\n",
    "axs[0].tick_params(axis='x', rotation=85)\n",
    "axs[1].tick_params(axis='x', rotation=85)\n",
    "\n",
    "total = len(df)\n",
    "for ax in axs:\n",
    "  ax.set_yscale(\"log\")\n",
    "  for p in ax.patches:\n",
    "      percentage = '{:.2f}%'.format(100 * p.get_height()/total)\n",
    "      x = p.get_x() + p.get_width()/2\n",
    "      y = p.get_height()/2\n",
    "      ax.annotate(percentage, (x, y), ha='center', fontsize=10, rotation=0)\n",
    "fig.tight_layout()\n",
    "fig.show()"
   ]
  },
  {
   "cell_type": "code",
   "execution_count": 7,
   "metadata": {
    "id": "-mTQF5A68qMF",
    "outputId": "d38364e9-c816-46db-d375-712d90fa9dce"
   },
   "outputs": [
    {
     "name": "stdout",
     "output_type": "stream",
     "text": [
      "Number of records: 47959\n"
     ]
    },
    {
     "data": {
      "text/html": [
       "<div>\n",
       "<style scoped>\n",
       "    .dataframe tbody tr th:only-of-type {\n",
       "        vertical-align: middle;\n",
       "    }\n",
       "\n",
       "    .dataframe tbody tr th {\n",
       "        vertical-align: top;\n",
       "    }\n",
       "\n",
       "    .dataframe thead th {\n",
       "        text-align: right;\n",
       "    }\n",
       "</style>\n",
       "<table border=\"1\" class=\"dataframe\">\n",
       "  <thead>\n",
       "    <tr style=\"text-align: right;\">\n",
       "      <th></th>\n",
       "      <th>Word</th>\n",
       "      <th>POS</th>\n",
       "      <th>Tag</th>\n",
       "      <th>TagGeneral</th>\n",
       "      <th>TagPos</th>\n",
       "      <th>TagId</th>\n",
       "    </tr>\n",
       "  </thead>\n",
       "  <tbody>\n",
       "    <tr>\n",
       "      <th>0</th>\n",
       "      <td>[Thousands, of, demonstrators, have, marched, through, London, to, protest, the, war, in, Iraq, and, demand, the, withdrawal, of, British, troops, from, that, country, .]</td>\n",
       "      <td>[NNS, IN, NNS, VBP, VBN, IN, NNP, TO, VB, DT, NN, IN, NNP, CC, VB, DT, NN, IN, JJ, NNS, IN, DT, NN, .]</td>\n",
       "      <td>[O, O, O, O, O, O, B-GEO, O, O, O, O, O, B-GEO, O, O, O, O, O, B-GPE, O, O, O, O, O]</td>\n",
       "      <td>[O, O, O, O, O, O, GEO, O, O, O, O, O, GEO, O, O, O, O, O, GPE, O, O, O, O, O]</td>\n",
       "      <td>[O, O, O, O, O, O, B, O, O, O, O, O, B, O, O, O, O, O, B, O, O, O, O, O]</td>\n",
       "      <td>[0, 0, 0, 0, 0, 0, 1, 0, 0, 0, 0, 0, 1, 0, 0, 0, 0, 0, 2, 0, 0, 0, 0, 0]</td>\n",
       "    </tr>\n",
       "    <tr>\n",
       "      <th>1</th>\n",
       "      <td>[Iranian, officials, say, they, expect, to, get, access, to, sealed, sensitive, parts, of, the, plant, Wednesday, ,, after, an, IAEA, surveillance, system, begins, functioning, .]</td>\n",
       "      <td>[JJ, NNS, VBP, PRP, VBP, TO, VB, NN, TO, JJ, JJ, NNS, IN, DT, NN, NNP, ,, IN, DT, NNP, NN, NN, VBZ, VBG, .]</td>\n",
       "      <td>[B-GPE, O, O, O, O, O, O, O, O, O, O, O, O, O, O, B-TIM, O, O, O, B-ORG, O, O, O, O, O]</td>\n",
       "      <td>[GPE, O, O, O, O, O, O, O, O, O, O, O, O, O, O, TIM, O, O, O, ORG, O, O, O, O, O]</td>\n",
       "      <td>[B, O, O, O, O, O, O, O, O, O, O, O, O, O, O, B, O, O, O, B, O, O, O, O, O]</td>\n",
       "      <td>[2, 0, 0, 0, 0, 0, 0, 0, 0, 0, 0, 0, 0, 0, 0, 7, 0, 0, 0, 5, 0, 0, 0, 0, 0]</td>\n",
       "    </tr>\n",
       "    <tr>\n",
       "      <th>2</th>\n",
       "      <td>[Helicopter, gunships, Saturday, pounded, militant, hideouts, in, the, Orakzai, tribal, region, ,, where, many, Taliban, militants, are, believed, to, have, fled, to, avoid, an, earlier, military, offensive, in, nearby, South, Waziristan, .]</td>\n",
       "      <td>[NN, NNS, NNP, VBD, JJ, NNS, IN, DT, NNP, JJ, NN, ,, WRB, JJ, NNP, NNS, VBP, VBN, TO, VB, VBN, TO, VB, DT, JJR, JJ, NN, IN, JJ, NNP, NNP, .]</td>\n",
       "      <td>[O, O, B-TIM, O, O, O, O, O, B-GEO, O, O, O, O, O, B-ORG, O, O, O, O, O, O, O, O, O, O, O, O, O, O, B-GEO, I-GEO, O]</td>\n",
       "      <td>[O, O, TIM, O, O, O, O, O, GEO, O, O, O, O, O, ORG, O, O, O, O, O, O, O, O, O, O, O, O, O, O, GEO, GEO, O]</td>\n",
       "      <td>[O, O, B, O, O, O, O, O, B, O, O, O, O, O, B, O, O, O, O, O, O, O, O, O, O, O, O, O, O, B, I, O]</td>\n",
       "      <td>[0, 0, 7, 0, 0, 0, 0, 0, 1, 0, 0, 0, 0, 0, 5, 0, 0, 0, 0, 0, 0, 0, 0, 0, 0, 0, 0, 0, 0, 1, 4, 0]</td>\n",
       "    </tr>\n",
       "    <tr>\n",
       "      <th>3</th>\n",
       "      <td>[They, left, after, a, tense, hour-long, standoff, with, riot, police, .]</td>\n",
       "      <td>[PRP, VBD, IN, DT, NN, JJ, NN, IN, NN, NNS, .]</td>\n",
       "      <td>[O, O, O, O, O, O, O, O, O, O, O]</td>\n",
       "      <td>[O, O, O, O, O, O, O, O, O, O, O]</td>\n",
       "      <td>[O, O, O, O, O, O, O, O, O, O, O]</td>\n",
       "      <td>[0, 0, 0, 0, 0, 0, 0, 0, 0, 0, 0]</td>\n",
       "    </tr>\n",
       "    <tr>\n",
       "      <th>4</th>\n",
       "      <td>[U.N., relief, coordinator, Jan, Egeland, said, Sunday, ,, U.S., ,, Indonesian, and, Australian, military, helicopters, are, ferrying, out, food, and, supplies, to, remote, areas, of, western, Aceh, province, that, ground, crews, can, not, reach, .]</td>\n",
       "      <td>[NNP, NN, NN, NNP, NNP, VBD, NNP, ,, NNP, ,, JJ, CC, JJ, JJ, NNS, VBP, VBG, RP, NN, CC, NNS, TO, VB, NNS, IN, JJ, NNP, NN, IN, NN, NNS, MD, RB, VB, .]</td>\n",
       "      <td>[B-GEO, O, O, B-PER, I-PER, O, B-TIM, O, B-GEO, O, B-GPE, O, B-GPE, O, O, O, O, O, O, O, O, O, O, O, O, O, B-GEO, O, O, O, O, O, O, O, O]</td>\n",
       "      <td>[GEO, O, O, PER, PER, O, TIM, O, GEO, O, GPE, O, GPE, O, O, O, O, O, O, O, O, O, O, O, O, O, GEO, O, O, O, O, O, O, O, O]</td>\n",
       "      <td>[B, O, O, B, I, O, B, O, B, O, B, O, B, O, O, O, O, O, O, O, O, O, O, O, O, O, B, O, O, O, O, O, O, O, O]</td>\n",
       "      <td>[1, 0, 0, 3, 10, 0, 7, 0, 1, 0, 2, 0, 2, 0, 0, 0, 0, 0, 0, 0, 0, 0, 0, 0, 0, 0, 1, 0, 0, 0, 0, 0, 0, 0, 0]</td>\n",
       "    </tr>\n",
       "  </tbody>\n",
       "</table>\n",
       "</div>"
      ],
      "text/plain": [
       "                                                                                                                                                                                                                                                        Word  \\\n",
       "0                                                                                 [Thousands, of, demonstrators, have, marched, through, London, to, protest, the, war, in, Iraq, and, demand, the, withdrawal, of, British, troops, from, that, country, .]   \n",
       "1                                                                        [Iranian, officials, say, they, expect, to, get, access, to, sealed, sensitive, parts, of, the, plant, Wednesday, ,, after, an, IAEA, surveillance, system, begins, functioning, .]   \n",
       "2          [Helicopter, gunships, Saturday, pounded, militant, hideouts, in, the, Orakzai, tribal, region, ,, where, many, Taliban, militants, are, believed, to, have, fled, to, avoid, an, earlier, military, offensive, in, nearby, South, Waziristan, .]   \n",
       "3                                                                                                                                                                                  [They, left, after, a, tense, hour-long, standoff, with, riot, police, .]   \n",
       "4  [U.N., relief, coordinator, Jan, Egeland, said, Sunday, ,, U.S., ,, Indonesian, and, Australian, military, helicopters, are, ferrying, out, food, and, supplies, to, remote, areas, of, western, Aceh, province, that, ground, crews, can, not, reach, .]   \n",
       "\n",
       "                                                                                                                                                      POS  \\\n",
       "0                                                  [NNS, IN, NNS, VBP, VBN, IN, NNP, TO, VB, DT, NN, IN, NNP, CC, VB, DT, NN, IN, JJ, NNS, IN, DT, NN, .]   \n",
       "1                                             [JJ, NNS, VBP, PRP, VBP, TO, VB, NN, TO, JJ, JJ, NNS, IN, DT, NN, NNP, ,, IN, DT, NNP, NN, NN, VBZ, VBG, .]   \n",
       "2            [NN, NNS, NNP, VBD, JJ, NNS, IN, DT, NNP, JJ, NN, ,, WRB, JJ, NNP, NNS, VBP, VBN, TO, VB, VBN, TO, VB, DT, JJR, JJ, NN, IN, JJ, NNP, NNP, .]   \n",
       "3                                                                                                          [PRP, VBD, IN, DT, NN, JJ, NN, IN, NN, NNS, .]   \n",
       "4  [NNP, NN, NN, NNP, NNP, VBD, NNP, ,, NNP, ,, JJ, CC, JJ, JJ, NNS, VBP, VBG, RP, NN, CC, NNS, TO, VB, NNS, IN, JJ, NNP, NN, IN, NN, NNS, MD, RB, VB, .]   \n",
       "\n",
       "                                                                                                                                         Tag  \\\n",
       "0                                                       [O, O, O, O, O, O, B-GEO, O, O, O, O, O, B-GEO, O, O, O, O, O, B-GPE, O, O, O, O, O]   \n",
       "1                                                    [B-GPE, O, O, O, O, O, O, O, O, O, O, O, O, O, O, B-TIM, O, O, O, B-ORG, O, O, O, O, O]   \n",
       "2                       [O, O, B-TIM, O, O, O, O, O, B-GEO, O, O, O, O, O, B-ORG, O, O, O, O, O, O, O, O, O, O, O, O, O, O, B-GEO, I-GEO, O]   \n",
       "3                                                                                                          [O, O, O, O, O, O, O, O, O, O, O]   \n",
       "4  [B-GEO, O, O, B-PER, I-PER, O, B-TIM, O, B-GEO, O, B-GPE, O, B-GPE, O, O, O, O, O, O, O, O, O, O, O, O, O, B-GEO, O, O, O, O, O, O, O, O]   \n",
       "\n",
       "                                                                                                                  TagGeneral  \\\n",
       "0                                             [O, O, O, O, O, O, GEO, O, O, O, O, O, GEO, O, O, O, O, O, GPE, O, O, O, O, O]   \n",
       "1                                          [GPE, O, O, O, O, O, O, O, O, O, O, O, O, O, O, TIM, O, O, O, ORG, O, O, O, O, O]   \n",
       "2                 [O, O, TIM, O, O, O, O, O, GEO, O, O, O, O, O, ORG, O, O, O, O, O, O, O, O, O, O, O, O, O, O, GEO, GEO, O]   \n",
       "3                                                                                          [O, O, O, O, O, O, O, O, O, O, O]   \n",
       "4  [GEO, O, O, PER, PER, O, TIM, O, GEO, O, GPE, O, GPE, O, O, O, O, O, O, O, O, O, O, O, O, O, GEO, O, O, O, O, O, O, O, O]   \n",
       "\n",
       "                                                                                                      TagPos  \\\n",
       "0                                   [O, O, O, O, O, O, B, O, O, O, O, O, B, O, O, O, O, O, B, O, O, O, O, O]   \n",
       "1                                [B, O, O, O, O, O, O, O, O, O, O, O, O, O, O, B, O, O, O, B, O, O, O, O, O]   \n",
       "2           [O, O, B, O, O, O, O, O, B, O, O, O, O, O, B, O, O, O, O, O, O, O, O, O, O, O, O, O, O, B, I, O]   \n",
       "3                                                                          [O, O, O, O, O, O, O, O, O, O, O]   \n",
       "4  [B, O, O, B, I, O, B, O, B, O, B, O, B, O, O, O, O, O, O, O, O, O, O, O, O, O, B, O, O, O, O, O, O, O, O]   \n",
       "\n",
       "                                                                                                        TagId  \n",
       "0                                    [0, 0, 0, 0, 0, 0, 1, 0, 0, 0, 0, 0, 1, 0, 0, 0, 0, 0, 2, 0, 0, 0, 0, 0]  \n",
       "1                                 [2, 0, 0, 0, 0, 0, 0, 0, 0, 0, 0, 0, 0, 0, 0, 7, 0, 0, 0, 5, 0, 0, 0, 0, 0]  \n",
       "2            [0, 0, 7, 0, 0, 0, 0, 0, 1, 0, 0, 0, 0, 0, 5, 0, 0, 0, 0, 0, 0, 0, 0, 0, 0, 0, 0, 0, 0, 1, 4, 0]  \n",
       "3                                                                           [0, 0, 0, 0, 0, 0, 0, 0, 0, 0, 0]  \n",
       "4  [1, 0, 0, 3, 10, 0, 7, 0, 1, 0, 2, 0, 2, 0, 0, 0, 0, 0, 0, 0, 0, 0, 0, 0, 0, 0, 1, 0, 0, 0, 0, 0, 0, 0, 0]  "
      ]
     },
     "execution_count": 7,
     "metadata": {},
     "output_type": "execute_result"
    }
   ],
   "source": [
    "df[\"Sentence\"] = df[\"Sentence\"].fillna(method='ffill')\n",
    "df = df.groupby(\"Sentence\").agg(list).reset_index().drop(\"Sentence\", axis=1)\n",
    "print(f\"Number of records: {len(df)}\")\n",
    "df.head(5)"
   ]
  },
  {
   "cell_type": "markdown",
   "metadata": {},
   "source": [
    "# Show example data with entities named"
   ]
  },
  {
   "cell_type": "code",
   "execution_count": 8,
   "metadata": {
    "id": "mqXHdGBIRDUJ"
   },
   "outputs": [
    {
     "name": "stdout",
     "output_type": "stream",
     "text": [
      "\u001b[107mThousands \u001b[107mof \u001b[107mdemonstrators \u001b[107mhave \u001b[107mmarched \u001b[107mthrough \u001b[103mLondon \u001b[107mto \u001b[107mprotest \u001b[107mthe \u001b[107mwar \u001b[107min \u001b[103mIraq \u001b[107mand \u001b[107mdemand \u001b[107mthe \u001b[107mwithdrawal \u001b[107mof \u001b[101mBritish \u001b[107mtroops \u001b[107mfrom \u001b[107mthat \u001b[107mcountry \u001b[107m.\u001b[107m\n",
      "\u001b[107mThe \u001b[103mU.S. \u001b[107mrap \u001b[107mstar \u001b[104mSnoop \u001b[104mDogg \u001b[107mand \u001b[107mfive \u001b[107mof \u001b[107mhis \u001b[107massociates \u001b[107mhave \u001b[107mbeen \u001b[107marrested \u001b[107min \u001b[103mBritain \u001b[107mafter \u001b[107ma \u001b[107mdisturbance \u001b[107mat \u001b[103mLondon \u001b[107m's \u001b[103mHeathrow \u001b[103mAirport \u001b[107m.\u001b[107m\n"
     ]
    }
   ],
   "source": [
    "def display_formatted_text(words, tags):\n",
    "    formatted_text = \" \".join([color_mapping[tag] + word for word, tag in zip(words, tags)]) + CEND\n",
    "    print(formatted_text)\n",
    "\n",
    "text = df.loc[0, \"Word\"]\n",
    "tags = df.loc[0, \"TagGeneral\"]\n",
    "display_formatted_text(text, tags)\n",
    "\n",
    "text = df.loc[42, \"Word\"]\n",
    "tags = df.loc[42, \"TagGeneral\"]\n",
    "display_formatted_text(text, tags)"
   ]
  },
  {
   "cell_type": "markdown",
   "metadata": {
    "id": "6e7b2d0d"
   },
   "source": [
    "# Tokenizer and Model"
   ]
  },
  {
   "cell_type": "code",
   "execution_count": 9,
   "metadata": {
    "id": "ccb13b2f",
    "outputId": "be06e160-abb6-4d9c-c6dc-d737500163e6"
   },
   "outputs": [
    {
     "data": {
      "text/plain": [
       "{'unk_token': '[UNK]',\n",
       " 'sep_token': '[SEP]',\n",
       " 'pad_token': '[PAD]',\n",
       " 'cls_token': '[CLS]',\n",
       " 'mask_token': '[MASK]'}"
      ]
     },
     "execution_count": 9,
     "metadata": {},
     "output_type": "execute_result"
    }
   ],
   "source": [
    "huggingface_model = \"bert-base-cased\"\n",
    "tokenizer = AutoTokenizer.from_pretrained(huggingface_model, do_lower_case=True)\n",
    "tokenizer.special_tokens_map"
   ]
  },
  {
   "cell_type": "code",
   "execution_count": 10,
   "metadata": {
    "id": "23716ce6",
    "outputId": "b0dbe949-316e-42ce-9c4f-d24e2f589cc3"
   },
   "outputs": [
    {
     "name": "stderr",
     "output_type": "stream",
     "text": [
      "Some weights of BertForTokenClassification were not initialized from the model checkpoint at bert-base-cased and are newly initialized: ['classifier.weight', 'classifier.bias']\n",
      "You should probably TRAIN this model on a down-stream task to be able to use it for predictions and inference.\n"
     ]
    }
   ],
   "source": [
    "model = BertForTokenClassification.from_pretrained(\n",
    "    huggingface_model,\n",
    "    num_labels = n_tags,\n",
    "    output_attentions = False,\n",
    "    output_hidden_states = False,\n",
    ").to(device)"
   ]
  },
  {
   "cell_type": "markdown",
   "metadata": {
    "id": "0224e3da"
   },
   "source": [
    "## Dataset & Dataloaders"
   ]
  },
  {
   "cell_type": "code",
   "execution_count": 11,
   "metadata": {
    "id": "4010ec9e"
   },
   "outputs": [],
   "source": [
    "class CustomDataset(torch.utils.data.Dataset):\n",
    "\n",
    "    def __init__(self, df, tokenizer):\n",
    "        super().__init__()\n",
    "        self.tokenizer = tokenizer\n",
    "        self.inputs = df[\"Word\"].values\n",
    "        self.labels =df[\"TagId\"].values\n",
    "        self.len = len(self.labels)\n",
    "\n",
    "    def __getitem__(self, idx):\n",
    "        encoded_dict = tokenizer(self.inputs[idx],\n",
    "                                 is_split_into_words=True,\n",
    "                                 add_special_tokens = True,\n",
    "                                 return_attention_mask = True,\n",
    "                                 return_tensors = 'pt',\n",
    "                   )\n",
    "        token_labels = self.__create_token_labels(self.labels[idx], encoded_dict.word_ids())\n",
    "        return encoded_dict['input_ids'][0], encoded_dict['token_type_ids'][0], encoded_dict['attention_mask'][0], token_labels\n",
    "\n",
    "    def __create_token_labels(self, labels, word_ids ):\n",
    "        extended_labels = [-100 if word_id is None else labels[word_id] for word_id in word_ids]\n",
    "        return torch.tensor(extended_labels).to(torch.int64)\n",
    "\n",
    "    def __len__(self):\n",
    "        return self.len"
   ]
  },
  {
   "cell_type": "code",
   "execution_count": 12,
   "metadata": {
    "id": "84bfd478"
   },
   "outputs": [],
   "source": [
    "def collate_fn(batch):\n",
    "    max_len = max([len(sample[0]) for sample in batch])\n",
    "\n",
    "    ids = []\n",
    "    token_types = []\n",
    "    attention_masks = []\n",
    "    labels = []\n",
    "\n",
    "    for sample in batch:\n",
    "        pad_length = max_len - len(sample[0])\n",
    "        ids.append(pad(sample[0], (0, pad_length), value=0))\n",
    "        token_types.append(pad(sample[1], (0, pad_length), value=0))\n",
    "        attention_masks.append(pad(sample[2], (0, pad_length), value=0))\n",
    "        labels.append(pad(sample[3], (0, pad_length), value=-100))\n",
    "\n",
    "    return torch.stack(ids).to(device), torch.stack(token_types).to(device), torch.stack(attention_masks).to(device), torch.stack(labels).to(device)"
   ]
  },
  {
   "cell_type": "code",
   "execution_count": 13,
   "metadata": {
    "id": "052243ba",
    "outputId": "6303b527-02b3-4b54-ba76-b16f236cbe5f"
   },
   "outputs": [
    {
     "name": "stdout",
     "output_type": "stream",
     "text": [
      "38,367 training samples\n",
      "9,592 validation samples\n"
     ]
    }
   ],
   "source": [
    "dataset = CustomDataset(df, tokenizer)\n",
    "train_size = int(0.8 * len(dataset))\n",
    "validation_size = len(dataset)  - train_size\n",
    "train_dataset, validation_dataset = random_split(dataset, [train_size, validation_size])\n",
    "\n",
    "print('{:>5,} training samples'.format(train_size))\n",
    "print('{:>5,} validation samples'.format(validation_size))"
   ]
  },
  {
   "cell_type": "code",
   "execution_count": 14,
   "metadata": {
    "id": "4da21f1c"
   },
   "outputs": [],
   "source": [
    "batch_size = 8\n",
    "\n",
    "train_dataloader = DataLoader(\n",
    "            train_dataset,\n",
    "            sampler = RandomSampler(train_dataset),\n",
    "            batch_size = batch_size,\n",
    "            collate_fn=collate_fn\n",
    "        )\n",
    "\n",
    "validation_dataloader = DataLoader(\n",
    "            validation_dataset,\n",
    "            sampler = SequentialSampler(validation_dataset),\n",
    "            batch_size = batch_size,\n",
    "            collate_fn=collate_fn\n",
    "        )"
   ]
  },
  {
   "cell_type": "code",
   "execution_count": 15,
   "metadata": {
    "id": "a713bf93"
   },
   "outputs": [],
   "source": [
    "optimizer = AdamW(model.parameters(),\n",
    "                  lr = 2e-5,\n",
    "                  eps = 1e-8\n",
    "                  )"
   ]
  },
  {
   "cell_type": "markdown",
   "metadata": {
    "id": "e385efa5"
   },
   "source": [
    "# Training"
   ]
  },
  {
   "cell_type": "code",
   "execution_count": 16,
   "metadata": {
    "id": "d5760347",
    "outputId": "d7c6d049-2c0c-4200-faa5-2e4fc958e1d5"
   },
   "outputs": [
    {
     "data": {
      "application/vnd.jupyter.widget-view+json": {
       "model_id": "ca1190d0711b43afbc844a8a3a4fc251",
       "version_major": 2,
       "version_minor": 0
      },
      "text/plain": [
       "  0%|          | 0/4796 [00:00<?, ?it/s]"
      ]
     },
     "metadata": {},
     "output_type": "display_data"
    },
    {
     "data": {
      "application/vnd.jupyter.widget-view+json": {
       "model_id": "220d54204ba34fe1995eb0dbf2bb62bb",
       "version_major": 2,
       "version_minor": 0
      },
      "text/plain": [
       "  0%|          | 0/1199 [00:00<?, ?it/s]"
      ]
     },
     "metadata": {},
     "output_type": "display_data"
    },
    {
     "data": {
      "application/vnd.jupyter.widget-view+json": {
       "model_id": "aa9a394c33bc4da4be21984529bb1853",
       "version_major": 2,
       "version_minor": 0
      },
      "text/plain": [
       "  0%|          | 0/4796 [00:00<?, ?it/s]"
      ]
     },
     "metadata": {},
     "output_type": "display_data"
    },
    {
     "data": {
      "application/vnd.jupyter.widget-view+json": {
       "model_id": "e0027f0298a4426ab378ce942ece15c7",
       "version_major": 2,
       "version_minor": 0
      },
      "text/plain": [
       "  0%|          | 0/1199 [00:00<?, ?it/s]"
      ]
     },
     "metadata": {},
     "output_type": "display_data"
    }
   ],
   "source": [
    "EPOCHS = 2\n",
    "avg_train_accuracy = []\n",
    "avg_train_loss = []\n",
    "avg_val_loss = []\n",
    "avg_val_accuracy = []\n",
    "\n",
    "for epoch_i in range(0, EPOCHS):\n",
    "\n",
    "    running_train_loss = 0\n",
    "    running_val_loss = 0\n",
    "\n",
    "    model.train()\n",
    "\n",
    "    loop = tqdm(train_dataloader)\n",
    "\n",
    "    for batch in loop:\n",
    "        \n",
    "        optimizer.zero_grad()\n",
    "        output = model(input_ids=batch[0],\n",
    "                       token_type_ids=batch[1],\n",
    "                       attention_mask=batch[2],\n",
    "                       labels=batch[3])\n",
    "\n",
    "        loss = output.loss\n",
    "        running_train_loss += loss.item()\n",
    "        loss.backward()\n",
    "        optimizer.step()\n",
    "        loop.set_description(f\"Training. Epoch [{epoch_i}/{EPOCHS}]. Loss {loss.item()}\")\n",
    "\n",
    "    avg_train_loss.append(running_train_loss / train_size)\n",
    "\n",
    "\n",
    "    model.eval()\n",
    "    with torch.no_grad():\n",
    "        loop = tqdm(validation_dataloader)\n",
    "        for batch in loop:\n",
    "            output = model(input_ids=batch[0],\n",
    "                           token_type_ids=batch[1],\n",
    "                           attention_mask=batch[2],\n",
    "                           labels=batch[3])\n",
    "            loss = output.loss\n",
    "            running_val_loss += loss.item()\n",
    "            loop.set_description(f\"Validation. Epoch [{epoch_i}/{EPOCHS}]. Loss {loss.item()}\")\n",
    "    avg_val_loss.append(running_val_loss / validation_size)"
   ]
  },
  {
   "cell_type": "code",
   "execution_count": 20,
   "metadata": {
    "id": "yfBPeyUWz1mW",
    "outputId": "16633dc7-3201-4b8d-f488-21c54102ddeb"
   },
   "outputs": [
    {
     "data": {
      "image/png": "[encoded data removed]",
      "text/plain": [
       "<Figure size 1100x500 with 2 Axes>"
      ]
     },
     "metadata": {},
     "output_type": "display_data"
    }
   ],
   "source": [
    "fig, axs = plt.subplots(1,2, figsize=(11, 5), sharex=True, sharey=True)\n",
    "\n",
    "axs[0].plot(avg_train_loss)\n",
    "axs[0].set_title(\"Average training loss\")\n",
    "\n",
    "axs[1].plot(avg_val_loss)\n",
    "axs[1].set_title(\"Average validation loss\")\n",
    "\n",
    "axs[0].set_xlabel(\"Epoch\")\n",
    "axs[1].set_xlabel(\"Epoch\")\n",
    "axs[1].set_ylabel(\"Loss\")\n",
    "\n",
    "for row in axs:\n",
    "     ax.grid(c='gray', alpha=0.5)"
   ]
  },
  {
   "cell_type": "markdown",
   "metadata": {},
   "source": [
    "# Evaluate"
   ]
  },
  {
   "cell_type": "code",
   "execution_count": 21,
   "metadata": {
    "id": "7fe433f6"
   },
   "outputs": [],
   "source": [
    "def evaluate(model, dataloader):\n",
    "\n",
    "    metric = load_metric(\"seqeval\")\n",
    "\n",
    "    all_predictions = []\n",
    "    all_labels = []\n",
    "\n",
    "    model.eval()\n",
    "    with torch.no_grad():\n",
    "        for batch in dataloader:\n",
    "            output = model(input_ids=batch[0],\n",
    "                       token_type_ids=batch[1],\n",
    "                       attention_mask=batch[2],\n",
    "                       labels=batch[3])\n",
    "            labels = batch[3].to('cpu').numpy()\n",
    "            predictions = torch.argmax(output.logits.detach().cpu(), 2).numpy()\n",
    "\n",
    "            for prediction, label in zip(predictions, labels):\n",
    "                for pred_idx, label_idx in zip(prediction, label):\n",
    "                    if label_idx != -100:\n",
    "                        all_predictions.append(ids2tags[pred_idx])\n",
    "                        all_labels.append(ids2tags[label_idx])\n",
    "\n",
    "    return metric.compute(predictions=[all_predictions], references=[all_labels])"
   ]
  },
  {
   "cell_type": "code",
   "execution_count": 22,
   "metadata": {
    "id": "EiSqsKjmXzk8",
    "outputId": "ee1b4cd0-7c22-4edd-eebc-27392a799f12"
   },
   "outputs": [
    {
     "data": {
      "text/plain": [
       "{'ART': {'precision': 0.7074148296593187,\n",
       "  'recall': 0.46941489361702127,\n",
       "  'f1': 0.5643485211830536,\n",
       "  'number': 752},\n",
       " 'EVE': {'precision': 0.4782608695652174,\n",
       "  'recall': 0.24324324324324326,\n",
       "  'f1': 0.32247557003257327,\n",
       "  'number': 407},\n",
       " 'GEO': {'precision': 0.8871424008760324,\n",
       "  'recall': 0.939957941553262,\n",
       "  'f1': 0.9127868082858986,\n",
       "  'number': 82742},\n",
       " 'GPE': {'precision': 0.9719054613433035,\n",
       "  'recall': 0.9472163660498165,\n",
       "  'f1': 0.9594021037091714,\n",
       "  'number': 38421},\n",
       " 'NAT': {'precision': 0.6837209302325581,\n",
       "  'recall': 0.3542168674698795,\n",
       "  'f1': 0.4666666666666667,\n",
       "  'number': 415},\n",
       " 'ORG': {'precision': 0.8312898786438133,\n",
       "  'recall': 0.7208766172122921,\n",
       "  'f1': 0.7721561278889034,\n",
       "  'number': 36869},\n",
       " 'PER': {'precision': 0.8437099346446105,\n",
       "  'recall': 0.8683939491470872,\n",
       "  'f1': 0.8558740027597583,\n",
       "  'number': 31070},\n",
       " 'TIM': {'precision': 0.9460249933528317,\n",
       "  'recall': 0.9304934038472714,\n",
       "  'f1': 0.9381949225788495,\n",
       "  'number': 34414},\n",
       " 'overall_precision': 0.8950695604778541,\n",
       " 'overall_recall': 0.8900750810786796,\n",
       " 'overall_f1': 0.8925653339986278,\n",
       " 'overall_accuracy': 0.9661879882256037}"
      ]
     },
     "execution_count": 22,
     "metadata": {},
     "output_type": "execute_result"
    }
   ],
   "source": [
    "evaluate(model, train_dataloader)"
   ]
  },
  {
   "cell_type": "code",
   "execution_count": 23,
   "metadata": {
    "id": "aVwPzIagX0r0",
    "outputId": "20e5fa7f-6e1a-4e70-ff81-4a1d57d00713"
   },
   "outputs": [
    {
     "data": {
      "text/plain": [
       "{'ART': {'precision': 0.3951612903225806,\n",
       "  'recall': 0.23671497584541062,\n",
       "  'f1': 0.29607250755287007,\n",
       "  'number': 207},\n",
       " 'EVE': {'precision': 0.44,\n",
       "  'recall': 0.18803418803418803,\n",
       "  'f1': 0.2634730538922156,\n",
       "  'number': 117},\n",
       " 'GEO': {'precision': 0.8507668923587122,\n",
       "  'recall': 0.9098566573075217,\n",
       "  'f1': 0.8793201942302199,\n",
       "  'number': 20301},\n",
       " 'GPE': {'precision': 0.9558195269355007,\n",
       "  'recall': 0.9488001654944146,\n",
       "  'f1': 0.9522969114975344,\n",
       "  'number': 9668},\n",
       " 'NAT': {'precision': 0.673469387755102,\n",
       "  'recall': 0.32673267326732675,\n",
       "  'f1': 0.44000000000000006,\n",
       "  'number': 101},\n",
       " 'ORG': {'precision': 0.7335106382978723,\n",
       "  'recall': 0.6167952588616795,\n",
       "  'f1': 0.6701087286642775,\n",
       "  'number': 8943},\n",
       " 'PER': {'precision': 0.7804551539491299,\n",
       "  'recall': 0.8309147447525266,\n",
       "  'f1': 0.804894885472231,\n",
       "  'number': 7718},\n",
       " 'TIM': {'precision': 0.9144809076491399,\n",
       "  'recall': 0.8861567561177444,\n",
       "  'f1': 0.9000960614793468,\n",
       "  'number': 8459},\n",
       " 'overall_precision': 0.8505003155142883,\n",
       " 'overall_recall': 0.8497496127103074,\n",
       " 'overall_f1': 0.8501247983852801,\n",
       " 'overall_accuracy': 0.9495115404859584}"
      ]
     },
     "execution_count": 23,
     "metadata": {},
     "output_type": "execute_result"
    }
   ],
   "source": [
    "evaluate(model, validation_dataloader)"
   ]
  },
  {
   "cell_type": "markdown",
   "metadata": {
    "id": "EvSg_c-Nywj2"
   },
   "source": [
    "# Save model"
   ]
  },
  {
   "cell_type": "code",
   "execution_count": 24,
   "metadata": {
    "id": "hNa3_ikVxrxV"
   },
   "outputs": [],
   "source": [
    "model.save_pretrained(\"ner_model\")\n",
    "tokenizer.save_pretrained(\"tokenizer\")\n",
    "\n",
    "config = json.load(open(\"ner_model/config.json\"))\n",
    "config[\"id2label\"] = ids2tags\n",
    "config[\"label2id\"] = tags2ids\n",
    "json.dump(config, open(\"ner_model/config.json\",\"w\"))"
   ]
  },
  {
   "cell_type": "markdown",
   "metadata": {},
   "source": [
    "# Predict tags using hand-made function"
   ]
  },
  {
   "cell_type": "code",
   "execution_count": 25,
   "metadata": {},
   "outputs": [],
   "source": [
    "from collections import Counter\n",
    "import torch.nn.functional as F\n",
    "\n",
    "def get_predicted_tag(word, tags, scores):\n",
    "    most_common_tag = Counter(tags).most_common()[0][0]\n",
    "    correct_scores = [score if tag == most_common_tag else -score for score, tag in zip(scores, tags)]\n",
    "    score = round(sum(correct_scores)/len(correct_scores), 4)\n",
    "    predicted_tag = ids2tags[most_common_tag].split(\"-\")[-1]\n",
    "    return {\"word\": word, \"entity_group\": predicted_tag, \"score\": score}\n",
    "\n",
    "\n",
    "def predict(raw_text, display_formatted_text = True):\n",
    "\n",
    "    raw_words = raw_text.split()\n",
    "    encoded_dict = tokenizer(raw_words,\n",
    "                             is_split_into_words=True,\n",
    "                             add_special_tokens = True,\n",
    "                             return_attention_mask = True,\n",
    "                             return_tensors = 'pt'\n",
    "                   )\n",
    "\n",
    "    input_ids = encoded_dict['input_ids'][0].unsqueeze(0).to(device)\n",
    "    input_token_type = encoded_dict['token_type_ids'][0].unsqueeze(0).to(device)\n",
    "    input_mask = encoded_dict['attention_mask'][0].unsqueeze(0).to(device)\n",
    "\n",
    "    output = model(input_ids, token_type_ids=input_token_type, attention_mask=input_mask)\n",
    "    normalized_output = F.softmax(output.logits.detach().cpu(), dim=2)\n",
    "    predictions = torch.max(normalized_output, 2)\n",
    "    predicted_label = predictions.indices.numpy().flatten()\n",
    "    predicted_scores = predictions.values.numpy().flatten()\n",
    "\n",
    "    result = []\n",
    "    prev_token_id = None\n",
    "\n",
    "    for token_id, predicted_label, score in zip(encoded_dict.word_ids(), predicted_label, predicted_scores):\n",
    "        if token_id is None:\n",
    "            continue\n",
    "        elif token_id != prev_token_id:\n",
    "            if prev_token_id is not None:\n",
    "                result.append(get_predicted_tag(raw_words[prev_token_id],tags, scores))\n",
    "            tags = []\n",
    "            scores = []\n",
    "\n",
    "        tags.append(predicted_label)\n",
    "        scores.append(score)\n",
    "        prev_token_id = token_id\n",
    "\n",
    "    result.append(get_predicted_tag(raw_words[prev_token_id],tags, scores))\n",
    "\n",
    "    if display_formatted_text:\n",
    "        formatted_text = \" \".join([color_mapping[entity[\"entity_group\"]] + entity[\"word\"] for entity in result]) + CEND\n",
    "        print(formatted_text)\n",
    "    \n",
    "    return result"
   ]
  },
  {
   "cell_type": "code",
   "execution_count": 26,
   "metadata": {
    "id": "1xvrv5nPEfnA",
    "outputId": "6e888b02-b20a-4440-d180-a9e1885b4b47"
   },
   "outputs": [
    {
     "name": "stdout",
     "output_type": "stream",
     "text": [
      "\u001b[107mThousands \u001b[107mof \u001b[107mdemonstrators \u001b[107mhave \u001b[107mmarched \u001b[107mthrough \u001b[103mLondon \u001b[107mto \u001b[107mprotest \u001b[107mthe \u001b[107mwar \u001b[107min \u001b[103mIraq \u001b[107mand \u001b[107mdemand \u001b[107mthe \u001b[107mwithdrawal \u001b[107mof \u001b[101mBritish \u001b[107mtroops \u001b[107mfrom \u001b[107mthat \u001b[107mcountry.\u001b[107m\n"
     ]
    },
    {
     "data": {
      "text/plain": [
       "[{'word': 'Thousands', 'entity_group': 'O', 'score': 0.9999},\n",
       " {'word': 'of', 'entity_group': 'O', 'score': 0.9998},\n",
       " {'word': 'demonstrators', 'entity_group': 'O', 'score': 0.9999},\n",
       " {'word': 'have', 'entity_group': 'O', 'score': 0.9999},\n",
       " {'word': 'marched', 'entity_group': 'O', 'score': 0.9999},\n",
       " {'word': 'through', 'entity_group': 'O', 'score': 0.9996},\n",
       " {'word': 'London', 'entity_group': 'GEO', 'score': 0.9928},\n",
       " {'word': 'to', 'entity_group': 'O', 'score': 0.9999},\n",
       " {'word': 'protest', 'entity_group': 'O', 'score': 0.9999},\n",
       " {'word': 'the', 'entity_group': 'O', 'score': 0.9999},\n",
       " {'word': 'war', 'entity_group': 'O', 'score': 0.9998},\n",
       " {'word': 'in', 'entity_group': 'O', 'score': 0.9998},\n",
       " {'word': 'Iraq', 'entity_group': 'GEO', 'score': 0.9962},\n",
       " {'word': 'and', 'entity_group': 'O', 'score': 0.9999},\n",
       " {'word': 'demand', 'entity_group': 'O', 'score': 0.9999},\n",
       " {'word': 'the', 'entity_group': 'O', 'score': 0.9999},\n",
       " {'word': 'withdrawal', 'entity_group': 'O', 'score': 0.9999},\n",
       " {'word': 'of', 'entity_group': 'O', 'score': 0.9999},\n",
       " {'word': 'British', 'entity_group': 'GPE', 'score': 0.999},\n",
       " {'word': 'troops', 'entity_group': 'O', 'score': 0.9998},\n",
       " {'word': 'from', 'entity_group': 'O', 'score': 0.9998},\n",
       " {'word': 'that', 'entity_group': 'O', 'score': 0.9998},\n",
       " {'word': 'country.', 'entity_group': 'O', 'score': 0.9998}]"
      ]
     },
     "execution_count": 26,
     "metadata": {},
     "output_type": "execute_result"
    }
   ],
   "source": [
    "text = \"Thousands of demonstrators have marched through London to protest the war in Iraq and demand the withdrawal of British troops from that country.\"\n",
    "predict(text)"
   ]
  },
  {
   "cell_type": "code",
   "execution_count": 27,
   "metadata": {},
   "outputs": [
    {
     "name": "stdin",
     "output_type": "stream",
     "text": [
      " This is a test from Krakow, Poland at 18:04 on Saturday Night, from google collabolatory\n"
     ]
    },
    {
     "name": "stdout",
     "output_type": "stream",
     "text": [
      "\u001b[107mThis \u001b[107mis \u001b[107ma \u001b[107mtest \u001b[107mfrom \u001b[103mKrakow, \u001b[103mPoland \u001b[107mat \u001b[107m18:04 \u001b[107mon \u001b[106mSaturday \u001b[106mNight, \u001b[107mfrom \u001b[105mgoogle \u001b[105mcollabolatory\u001b[107m\n"
     ]
    },
    {
     "data": {
      "text/plain": [
       "[{'word': 'This', 'entity_group': 'O', 'score': 0.9999},\n",
       " {'word': 'is', 'entity_group': 'O', 'score': 0.9999},\n",
       " {'word': 'a', 'entity_group': 'O', 'score': 0.9999},\n",
       " {'word': 'test', 'entity_group': 'O', 'score': 0.9998},\n",
       " {'word': 'from', 'entity_group': 'O', 'score': 0.9968},\n",
       " {'word': 'Krakow,', 'entity_group': 'GEO', 'score': 0.4816},\n",
       " {'word': 'Poland', 'entity_group': 'GEO', 'score': 0.8617},\n",
       " {'word': 'at', 'entity_group': 'O', 'score': 0.9991},\n",
       " {'word': '18:04', 'entity_group': 'O', 'score': 0.2404},\n",
       " {'word': 'on', 'entity_group': 'O', 'score': 0.9997},\n",
       " {'word': 'Saturday', 'entity_group': 'TIM', 'score': 0.9937},\n",
       " {'word': 'Night,', 'entity_group': 'TIM', 'score': -0.0684},\n",
       " {'word': 'from', 'entity_group': 'O', 'score': 0.9712},\n",
       " {'word': 'google', 'entity_group': 'ORG', 'score': 0.6444},\n",
       " {'word': 'collabolatory', 'entity_group': 'ORG', 'score': 0.2461}]"
      ]
     },
     "execution_count": 27,
     "metadata": {},
     "output_type": "execute_result"
    }
   ],
   "source": [
    "example = input()\n",
    "predict(example)"
   ]
  },
  {
   "cell_type": "markdown",
   "metadata": {
    "id": "tqNPQrTJEhCQ"
   },
   "source": [
    "# Predict tags using transformers pipeline"
   ]
  },
  {
   "cell_type": "code",
   "execution_count": 28,
   "metadata": {
    "id": "3q_sL24GxeaX",
    "outputId": "8bb24bc3-2700-4133-bcc5-07c9d0ca6934"
   },
   "outputs": [
    {
     "name": "stdin",
     "output_type": "stream",
     "text": [
      " This is a test from Krakow, Poland at 18:04 on Saturday Night\n"
     ]
    },
    {
     "name": "stdout",
     "output_type": "stream",
     "text": [
      "[{'entity_group': 'GEO', 'score': 0.9772964, 'word': 'krakow', 'start': 20, 'end': 26}, {'entity_group': 'GEO', 'score': 0.86852366, 'word': 'poland', 'start': 28, 'end': 34}, {'entity_group': 'TIM', 'score': 0.7215245, 'word': '18', 'start': 38, 'end': 40}, {'entity_group': 'TIM', 'score': 0.81191814, 'word': 'saturday night', 'start': 47, 'end': 61}]\n"
     ]
    }
   ],
   "source": [
    "from transformers import pipeline, AutoModelForTokenClassification\n",
    "\n",
    "model_fine_tuned = AutoModelForTokenClassification.from_pretrained(\"ner_model\")\n",
    "nlp = pipeline(\"ner\", model=model_fine_tuned, tokenizer=tokenizer, aggregation_strategy=\"first\")\n",
    "\n",
    "example = input()\n",
    "ner_results = nlp(example)\n",
    "print(ner_results)"
   ]
  },
  {
   "cell_type": "code",
   "execution_count": null,
   "metadata": {
    "id": "JNnMkoGBNVGa"
   },
   "outputs": [],
   "source": []
  },
  {
   "cell_type": "code",
   "execution_count": null,
   "metadata": {},
   "outputs": [],
   "source": []
  }
 ],
 "metadata": {
  "kernelspec": {
   "display_name": "Python 3 (ipykernel)",
   "language": "python",
   "name": "python3"
  },
  "language_info": {
   "codemirror_mode": {
    "name": "ipython",
    "version": 3
   },
   "file_extension": ".py",
   "mimetype": "text/x-python",
   "name": "python",
   "nbconvert_exporter": "python",
   "pygments_lexer": "ipython3",
   "version": "3.10.10"
  }
 },
 "nbformat": 4,
 "nbformat_minor": 4
}
