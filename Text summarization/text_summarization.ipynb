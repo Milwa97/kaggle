{
 "cells": [
  {
   "cell_type": "markdown",
   "id": "fa6cc283",
   "metadata": {
    "id": "fa6cc283"
   },
   "source": [
    "# BBC News Summary\n",
    "\n",
    "Link: https://www.kaggle.com/datasets/pariza/bbc-news-summary\n",
    "\n",
    "Dataset description:\n",
    "\n",
    "Context\n",
    "\n",
    "Text summarization is a way to condense the large amount of information into a concise form by the process of selection of important information and discarding unimportant and redundant information. With the amount of textual information present in the world wide web the area of text summarization is becoming very important. The extractive summarization is the one where the exact sentences present in the document are used as summaries. The extractive summarization is simpler and is the general practice among the automatic text summarization researchers at the present time. Extractive summarization process involves giving scores to sentences using some method and then using the sentences that achieve highest scores as summaries. As the exact sentence present in the document is used the semantic factor can be ignored which results in generation of less calculation intensive summarization procedure. This kind of summary is generally completely unsupervised and language independent too. Although this kind of summary does its job in conveying the essential information it may not be necessarily smooth or fluent. Sometimes there can be almost no connection between adjacent sentences in the summary resulting in the text lacking in readability.\n",
    "Content\n",
    "\n",
    "This dataset for extractive text summarization has four hundred and seventeen political news articles of BBC from 2004 to 2005 in the News Articles folder. For each articles, five summaries are provided in the Summaries folder. The first clause of the text of articles is the respective title.\n",
    "Acknowledgements\n",
    "\n",
    "This dataset was created using a dataset used for data categorization that onsists of 2225 documents from the BBC news website corresponding to stories in five topical areas from 2004-2005 used in the paper of D. Greene and P. Cunningham. \"Practical Solutions to the Problem of Diagonal Dominance in Kernel Document Clustering\", Proc. ICML 2006; whose all rights, including copyright, in the content of the original articles are owned by the BBC. More at http://mlg.ucd.ie/datasets/bbc.html\n"
   ]
  },
  {
   "cell_type": "markdown",
   "id": "9c890164",
   "metadata": {
    "id": "9c890164"
   },
   "source": [
    "Usefull:\n",
    "\n",
    "https://huggingface.co/learn/nlp-course/chapter7/5?fw=tf"
   ]
  },
  {
   "cell_type": "code",
   "execution_count": 1,
   "id": "RMt7gGsi1gOw",
   "metadata": {
    "colab": {
     "base_uri": "https://localhost:8080/"
    },
    "id": "RMt7gGsi1gOw",
    "outputId": "28773cfd-869c-4857-dbdf-49f186fdf6c9"
   },
   "outputs": [
    {
     "name": "stdout",
     "output_type": "stream",
     "text": [
      "\u001b[33mWARNING: Running pip as the 'root' user can result in broken permissions and conflicting behaviour with the system package manager. It is recommended to use a virtual environment instead: https://pip.pypa.io/warnings/venv\u001b[0m\u001b[33m\n",
      "\u001b[0m\u001b[33mWARNING: Running pip as the 'root' user can result in broken permissions and conflicting behaviour with the system package manager. It is recommended to use a virtual environment instead: https://pip.pypa.io/warnings/venv\u001b[0m\u001b[33m\n",
      "\u001b[0m\u001b[33mWARNING: Running pip as the 'root' user can result in broken permissions and conflicting behaviour with the system package manager. It is recommended to use a virtual environment instead: https://pip.pypa.io/warnings/venv\u001b[0m\u001b[33m\n",
      "\u001b[0m\u001b[33mWARNING: Running pip as the 'root' user can result in broken permissions and conflicting behaviour with the system package manager. It is recommended to use a virtual environment instead: https://pip.pypa.io/warnings/venv\u001b[0m\u001b[33m\n",
      "\u001b[0m\u001b[33mWARNING: Running pip as the 'root' user can result in broken permissions and conflicting behaviour with the system package manager. It is recommended to use a virtual environment instead: https://pip.pypa.io/warnings/venv\u001b[0m\u001b[33m\n",
      "\u001b[0m"
     ]
    }
   ],
   "source": [
    "!pip install transformers -qU\n",
    "!pip install datasets -qU\n",
    "!pip install pip install pytorch-lightning -qU\n",
    "!pip install rouge_score -qU\n",
    "!pip install nltk -qU"
   ]
  },
  {
   "cell_type": "code",
   "execution_count": 2,
   "id": "cMtrv5vo6NRN",
   "metadata": {
    "colab": {
     "base_uri": "https://localhost:8080/"
    },
    "id": "cMtrv5vo6NRN",
    "outputId": "74349b64-bd5f-42fd-882a-d80a7972aa9a"
   },
   "outputs": [
    {
     "name": "stdout",
     "output_type": "stream",
     "text": [
      "Requirement already satisfied: nltk in /usr/local/lib/python3.10/dist-packages (3.8.1)\n",
      "Requirement already satisfied: click in /usr/local/lib/python3.10/dist-packages (from nltk) (8.1.6)\n",
      "Requirement already satisfied: joblib in /usr/local/lib/python3.10/dist-packages (from nltk) (1.3.1)\n",
      "Requirement already satisfied: regex>=2021.8.3 in /usr/local/lib/python3.10/dist-packages (from nltk) (2022.10.31)\n",
      "Requirement already satisfied: tqdm in /usr/local/lib/python3.10/dist-packages (from nltk) (4.65.0)\n",
      "\u001b[33mWARNING: Running pip as the 'root' user can result in broken permissions and conflicting behaviour with the system package manager. It is recommended to use a virtual environment instead: https://pip.pypa.io/warnings/venv\u001b[0m\u001b[33m\n",
      "\u001b[0m"
     ]
    }
   ],
   "source": [
    "!pip install nltk"
   ]
  },
  {
   "cell_type": "code",
   "execution_count": 4,
   "id": "5qt459ZPoIaE",
   "metadata": {
    "colab": {
     "base_uri": "https://localhost:8080/"
    },
    "id": "5qt459ZPoIaE",
    "outputId": "764c8dd4-8f58-4d34-b78d-3799496ff3eb"
   },
   "outputs": [
    {
     "name": "stderr",
     "output_type": "stream",
     "text": [
      "[nltk_data] Downloading package punkt to /root/nltk_data...\n",
      "[nltk_data]   Unzipping tokenizers/punkt.zip.\n"
     ]
    },
    {
     "data": {
      "text/plain": [
       "device(type='cpu')"
      ]
     },
     "execution_count": 4,
     "metadata": {},
     "output_type": "execute_result"
    }
   ],
   "source": [
    "import re\n",
    "import time\n",
    "import json\n",
    "import numpy as np\n",
    "import pandas as pd\n",
    "import matplotlib.pyplot as plt\n",
    "import seaborn as sns\n",
    "\n",
    "\n",
    "from collections import Counter\n",
    "import torch\n",
    "\n",
    "import torch.nn.functional as F\n",
    "\n",
    "import datasets\n",
    "from torch.utils.data import DataLoader, RandomSampler, SequentialSampler,random_split, Dataset\n",
    "from torch.nn.functional import pad\n",
    "from transformers import AutoTokenizer, BertForTokenClassification, AdamW, BertConfig\n",
    "from transformers import AutoTokenizer, AutoModelForCausalLM\n",
    "\n",
    "from tqdm.auto import tqdm\n",
    "#import evaluate\n",
    "\n",
    "import nltk\n",
    "nltk.download(\"punkt\")\n",
    "\n",
    "import warnings\n",
    "warnings.filterwarnings(action=\"ignore\")\n",
    "\n",
    "pd.set_option('display.max_colwidth', 3000)\n",
    "pd.set_option('display.max_columns', None)\n",
    "\n",
    "device = torch.device('cuda' if torch.cuda.is_available() else 'cpu')\n",
    "device"
   ]
  },
  {
   "cell_type": "code",
   "execution_count": 5,
   "id": "mt5eW0Gz06CS",
   "metadata": {
    "colab": {
     "base_uri": "https://localhost:8080/"
    },
    "id": "mt5eW0Gz06CS",
    "outputId": "e8c0baf7-d6cd-4ae9-cabb-fe56347d743f"
   },
   "outputs": [
    {
     "name": "stdout",
     "output_type": "stream",
     "text": [
      "Drive already mounted at /content/drive; to attempt to forcibly remount, call drive.mount(\"/content/drive\", force_remount=True).\n"
     ]
    }
   ],
   "source": [
    "from google.colab import drive\n",
    "drive.mount('/content/drive')\n"
   ]
  },
  {
   "cell_type": "markdown",
   "id": "6e7b2d0d",
   "metadata": {
    "id": "6e7b2d0d"
   },
   "source": [
    "# Data"
   ]
  },
  {
   "cell_type": "code",
   "execution_count": 6,
   "id": "09736f92",
   "metadata": {
    "id": "09736f92"
   },
   "outputs": [],
   "source": [
    "def read_file_from_path(path):\n",
    "    with open(path, \"r\", encoding='utf-8') as f:\n",
    "        content = f.read()\n",
    "    return content"
   ]
  },
  {
   "cell_type": "code",
   "execution_count": 7,
   "id": "2e934b5f",
   "metadata": {
    "colab": {
     "base_uri": "https://localhost:8080/",
     "height": 1000
    },
    "id": "2e934b5f",
    "outputId": "2630c8e5-5a3b-476c-f2a9-1716ca3efe2a"
   },
   "outputs": [
    {
     "data": {
      "text/html": [
       "\n",
       "\n",
       "  <div id=\"df-87720c83-d2b5-405a-af01-02da85d70f91\">\n",
       "    <div class=\"colab-df-container\">\n",
       "      <div>\n",
       "<style scoped>\n",
       "    .dataframe tbody tr th:only-of-type {\n",
       "        vertical-align: middle;\n",
       "    }\n",
       "\n",
       "    .dataframe tbody tr th {\n",
       "        vertical-align: top;\n",
       "    }\n",
       "\n",
       "    .dataframe thead th {\n",
       "        text-align: right;\n",
       "    }\n",
       "</style>\n",
       "<table border=\"1\" class=\"dataframe\">\n",
       "  <thead>\n",
       "    <tr style=\"text-align: right;\">\n",
       "      <th></th>\n",
       "      <th>FileName</th>\n",
       "      <th>Category</th>\n",
       "      <th>SummaryFullPath</th>\n",
       "      <th>ArticleFullPath</th>\n",
       "      <th>Summary</th>\n",
       "      <th>SummaryLen</th>\n",
       "      <th>Article</th>\n",
       "      <th>ArticleLen</th>\n",
       "    </tr>\n",
       "  </thead>\n",
       "  <tbody>\n",
       "    <tr>\n",
       "      <th>0</th>\n",
       "      <td>014.txt</td>\n",
       "      <td>business</td>\n",
       "      <td>/content/drive/MyDrive/Colab Notebooks/data/Summaries/business/014.txt</td>\n",
       "      <td>/content/drive/MyDrive/Colab Notebooks/data/News Articles/business/014.txt</td>\n",
       "      <td>\"Journalists are the lifeblood of any newspaper, and maintaining the quality of The Daily Telegraph and The Sunday Telegraph for our readers is vital,\" he said.The two Telegraph titles currently employ 521 journalists.Telegraph executive Murdoch MacLennan said the two newspapers would add eight colour pages in the coming months.The Daily and Sunday Telegraph newspapers are axing 90 journalist jobs - 17% of their editorial staff.The Telegraph Group says the cuts are needed to fund an £150m investment in new printing facilities.The National Union of Journalists said it stood strongly behind the journalists and did not rule out a strike.The Telegraph has announced no plans to go tabloid although both The Independent and The Times have seen circulation rise since shrinking in size.Many newspapers are investing in new printing machinery that enables them to print more colour pages, or in some cases, have colour on every page.NUJ official Barry Fitzpatrick said the company had ignored the 90-day consultation period required for companies planning more than 10 redundancies.</td>\n",
       "      <td>166</td>\n",
       "      <td>Telegraph newspapers axe 90 jobs\\n\\nThe Daily and Sunday Telegraph newspapers are axing 90 journalist jobs - 17% of their editorial staff.\\n\\nThe Telegraph Group says the cuts are needed to fund an £150m investment in new printing facilities. Journalists at the firm met on Friday afternoon to discuss how to react to the surprise announcement. The cuts come against a background of fierce competition for readers and sluggish advertising revenues amid competition from online advertising. The National Union of Journalists has called on the management to recall the notice of redundancy by midday on Monday or face a strike ballot.\\n\\nPearson's Financial Times said last week it was offering voluntary redundancy to about 30 reporters.\\n\\nThe National Union of Journalists said it stood strongly behind the journalists and did not rule out a strike. \"Managers have torn up agreed procedures and kicked staff in the teeth by sacking people to pay for printing facilities,\" said Jeremy Dear, NUJ General Secretary. NUJ official Barry Fitzpatrick said the company had ignored the 90-day consultation period required for companies planning more than 10 redundancies. \"They have shown a complete disregard for the consultative rights of our members,\" said Mr Fitzpatrick, who added that the company now planned to observe the consultation procedures. The two Telegraph titles currently employ 521 journalists.\\n\\nSome broadsheet newspapers - especially those which have not moved to a tabloid format - have suffered circulation declines, which are hitting revenues. The Telegraph has announced no plans to go tabloid although both The Independent and The Times have seen circulation rise since shrinking in size.\\n\\nThe Guardian is hedging its bets, planning a larger tabloid format like those popular in continental Europe. The Telegraph Group was bought by the Barclay twins - Frederick and David - last year, having previously been owned by Lord Conrad Black's Hollinger International. The brothers are currently mulling the sale of another of their businesses, retailer Littlewoods.\\n\\nTelegraph executive Murdoch MacLennan said the two newspapers would add eight colour pages in the coming months.\\n\\n\"Journalists are the lifeblood of any newspaper, and maintaining the quality of The Daily Telegraph and The Sunday Telegraph for our readers is vital,\" he said. \"However, action to improve our production capability and secure our titles against the competition is also vital.\" Many newspapers are investing in new printing machinery that enables them to print more colour pages, or in some cases, have colour on every page. They are hoping that by boosting colour it will make their publications more attractive to advertisers and readers alike. In recent months News Corp's News International unit, which publishes The Sun and the News of the World, the Guardian Media Group, Trinity Mirror and the Daily Mail &amp; General Trust have all announced substantial investments in new printing plants.\\n</td>\n",
       "      <td>466</td>\n",
       "    </tr>\n",
       "    <tr>\n",
       "      <th>1</th>\n",
       "      <td>427.txt</td>\n",
       "      <td>business</td>\n",
       "      <td>/content/drive/MyDrive/Colab Notebooks/data/Summaries/business/427.txt</td>\n",
       "      <td>/content/drive/MyDrive/Colab Notebooks/data/News Articles/business/427.txt</td>\n",
       "      <td>The US's overall trade deficit with China was $124bn in 2003, and is expected to rise to about $150bn for 2004.State Administration of Taxation head Xie Xuren said a tightening of controls on tax evasion had combined with the rapid expansion to produce a 25.7% rise in tax revenues to 2.572 trillion yuan ($311bn; £165bn).According to the Ministry of Commerce, China's exports totalled $63.8bn in December, taking the annual total up 35.4% to $593.4bn.The increased tax take comes despite healthy tax rebates for many exporters totalling 420bn yuan in 2004, according to Mr Xie.The figures released by the Ministry of Commerce come as China's tax chief confirmed that growth had topped 9% in 2004 for the second year in a row.With imports rising a similar amount, the deficit rose to $43.4bn.</td>\n",
       "      <td>131</td>\n",
       "      <td>Chinese exports rise 25% in 2004\\n\\nExports from China leapt during 2004 over the previous year as the country continued to show breakneck growth.\\n\\nThe spurt put China's trade surplus - a sore point with some of its trading partners - at a six-year high. It may also increase pressure on China to relax the peg joining its currency, the yuan, with the weakening dollar. The figures released by the Ministry of Commerce come as China's tax chief confirmed that growth had topped 9% in 2004 for the second year in a row. State Administration of Taxation head Xie Xuren said a tightening of controls on tax evasion had combined with the rapid expansion to produce a 25.7% rise in tax revenues to 2.572 trillion yuan ($311bn; £165bn).\\n\\nAccording to the Ministry of Commerce, China's exports totalled $63.8bn in December, taking the annual total up 35.4% to $593.4bn. With imports rising a similar amount, the deficit rose to $43.4bn. The increased tax take comes despite healthy tax rebates for many exporters totalling 420bn yuan in 2004, according to Mr Xie. China's exporting success has made the trade deficit of the United States soar even further and made trade with China a sensitive political issue in Washington. The peg keeping the yuan around 8.30 to the dollar is often blamed by US lawmakers for job losses at home. A US report issued on Tuesday on behalf of a Congressionally-mandated panel said almost 1.5 million posts disappeared between 1989 and 2003. The pace accelerated in the final three years of the period, said the report for the US-China Economic and Security Review Commission, moving out of labour-intensive industries and into more hi-tech sectors. The US's overall trade deficit with China was $124bn in 2003, and is expected to rise to about $150bn for 2004.\\n</td>\n",
       "      <td>302</td>\n",
       "    </tr>\n",
       "    <tr>\n",
       "      <th>2</th>\n",
       "      <td>468.txt</td>\n",
       "      <td>business</td>\n",
       "      <td>/content/drive/MyDrive/Colab Notebooks/data/Summaries/business/468.txt</td>\n",
       "      <td>/content/drive/MyDrive/Colab Notebooks/data/News Articles/business/468.txt</td>\n",
       "      <td>The European Commission has officially launched an in-depth investigation into whether Italian airline Alitalia is receiving illegal state aid.Both the Italian government and Alitalia have repeatedly denied that the money - part of a vital restructuring plan - is state aid.Alitalia already enjoyed state aid in 1997.While Alitalia needs to restructure to bring itself back to profitability, the rival carriers say it has both violated state aid rules and threatened competition.\"We now have to verify certain aspects to confirm that this plan contains no state aid.Otherwise, EU regulations on state aid stipulate that governments may help companies financially, but only on the same terms as a commercial investor.The matter of possible state aid was brought to the Commission's attention by eight of Alitalia's rivals, including Germany's Lufthansa, British Airways and Spain's Iberia.</td>\n",
       "      <td>132</td>\n",
       "      <td>EU to probe Alitalia 'state aid'\\n\\nThe European Commission has officially launched an in-depth investigation into whether Italian airline Alitalia is receiving illegal state aid.\\n\\nCommission officials are to look at Rome's provision of a 400m euro ($495m; £275m) loan to the carrier. Both the Italian government and Alitalia have repeatedly denied that the money - part of a vital restructuring plan - is state aid. The investigation could take up to 18 months. However, Transport Commissioner Jacques Barrot said he wanted it to be carried out as swiftly as possible. \"The Italian authorities have presented a serious industrial plan,\" said Mr Barot. \"We now have to verify certain aspects to confirm that this plan contains no state aid. I would like our analysis to be completed swiftly.\"\\n\\nThe matter of possible state aid was brought to the Commission's attention by eight of Alitalia's rivals, including Germany's Lufthansa, British Airways and Spain's Iberia. While Alitalia needs to restructure to bring itself back to profitability, the rival carriers say it has both violated state aid rules and threatened competition. Alitalia lost 330m euros in 2003 as it struggled to get to grips with high costs, spiralling oil prices, competition from budget carriers and reduced demand. It plans to split into AZ Fly and AZ Services, which will handle air and ground services respectively. Alitalia already enjoyed state aid in 1997. EU rules prevent that from happening again in what is known as the \"one time, last time\" rule for airlines. Otherwise, EU regulations on state aid stipulate that governments may help companies financially, but only on the same terms as a commercial investor. The airline declined to comment on the Commission decision.\\n</td>\n",
       "      <td>281</td>\n",
       "    </tr>\n",
       "    <tr>\n",
       "      <th>3</th>\n",
       "      <td>445.txt</td>\n",
       "      <td>business</td>\n",
       "      <td>/content/drive/MyDrive/Colab Notebooks/data/Summaries/business/445.txt</td>\n",
       "      <td>/content/drive/MyDrive/Colab Notebooks/data/News Articles/business/445.txt</td>\n",
       "      <td>Three senior executives of Ireland's state-owned airline, Aer Lingus, are set to leave early on 28 January after accusations of a conflict of interest.Last Friday the minister had announced he was to advertise for three senior executives for Aer Lingus.\"What I do after I leave Aer Lingus is still too early to say,\" Mr Walsh told AP news agency on Wednesday.The three have refused to confirm reports they plan to launch a private airline in competition with Aer Lingus.Mr Walsh said there was no conflict of interest, and, if he was to launch a rival airline or join an existing competitor, \"this thing happens in every business\".Mr Walsh, who took charge in 2000, and his team have earned praise for turning Aer Lingus around, by cutting air fares and staff, and re-positioning it as a low-fare airline to rival Ryanair.On Wednesday Irish Transport Minister Martin Cullen said in a statement: \"A conflict of interest cannot, should not and will not be allowed to arise between their current roles at Aer Lingus and their future career intentions.\"That decision had followed an announcement by Irish Prime Minister Bertie Ahern - who is still considering the future of the airline - which ruled out a proposed management buy-out of Aer Lingus.</td>\n",
       "      <td>208</td>\n",
       "      <td>Executive trio leave Aer Lingus\\n\\nThree senior executives of Ireland's state-owned airline, Aer Lingus, are set to leave early on 28 January after accusations of a conflict of interest.\\n\\nThe trio are chief executive Willie Walsh, chief financial officer Brian Dunne and chief operations officer Seamus Kearney. The three have refused to confirm reports they plan to launch a private airline in competition with Aer Lingus. They announced in November they would quit in May, but did not give a reason. That decision had followed an announcement by Irish Prime Minister Bertie Ahern - who is still considering the future of the airline - which ruled out a proposed management buy-out of Aer Lingus. Mr Walsh denied they had been forced out early because of the reports claiming they were set to launch a competitor airline.\\n\\n\"What I do after I leave Aer Lingus is still too early to say,\" Mr Walsh told AP news agency on Wednesday. \"I have opportunities open to me. Brian and Seamus are in the equally fortunate position.\" He said he had received more than 40 business proposals, mostly aviation-related, since the trio announced their resignations two months ago. Mr Walsh said there was no conflict of interest, and, if he was to launch a rival airline or join an existing competitor, \"this thing happens in every business\". \"There's absolutely no question of a conflict of interest. I've been completely focused on my responsibilities at Aer Lingus,\" he told AP.\\n\\nThis week opposition politicians had called on the Irish government to make an urgent decision on the future of the airline. On Wednesday Irish Transport Minister Martin Cullen said in a statement: \"A conflict of interest cannot, should not and will not be allowed to arise between their current roles at Aer Lingus and their future career intentions.\" Last Friday the minister had announced he was to advertise for three senior executives for Aer Lingus. Mr Walsh, who took charge in 2000, and his team have earned praise for turning Aer Lingus around, by cutting air fares and staff, and re-positioning it as a low-fare airline to rival Ryanair. The company is 85% owned by the government and 15% by its staff.\\n</td>\n",
       "      <td>367</td>\n",
       "    </tr>\n",
       "    <tr>\n",
       "      <th>4</th>\n",
       "      <td>147.txt</td>\n",
       "      <td>business</td>\n",
       "      <td>/content/drive/MyDrive/Colab Notebooks/data/Summaries/business/147.txt</td>\n",
       "      <td>/content/drive/MyDrive/Colab Notebooks/data/News Articles/business/147.txt</td>\n",
       "      <td>Malaysia's central bank is to relax restrictions on foreign ownership to encourage Islamic banking.Malaysia changed the law to allow Islamic banking in 1983.Banks in Malaysia will now be able to sell up to 49% of their Islamic banking units, while the limit on other kinds of bank remains at 30%.Islamic banks offer services which permit modern banking principles while sticking to Islamic law's ban on the payment of interest.The country's deal to join the World Trade Organisation set that year as a deadline for liberalisation of Islamic banking.</td>\n",
       "      <td>88</td>\n",
       "      <td>Malaysia lifts Islamic bank limit\\n\\nMalaysia's central bank is to relax restrictions on foreign ownership to encourage Islamic banking.\\n\\nBanks in Malaysia will now be able to sell up to 49% of their Islamic banking units, while the limit on other kinds of bank remains at 30%. RHB, Malaysia's third-biggest lender, is already scouting for a foreign partner for its new Islamic banking unit, the firm told Reuters. The moves put Malaysia ahead of a 2007 deadline to open up the sector. The country's deal to join the World Trade Organisation set that year as a deadline for liberalisation of Islamic banking. Also on Tuesday, the central bank released growth figures showing Malaysia's economy expanded 7.1% in 2004. But growth slowed sharply in the fourth quarter to 5.6%, and the central bank said it expected 6% expansion in 2005.\\n\\nMalaysia changed the law to allow Islamic banking in 1983. It has granted licences to three Middle Eastern groups, which - along with local players - mean there are eight fully-operational Islamic banking groups in the country. Islamic banks offer services which permit modern banking principles while sticking to Islamic law's ban on the payment of interest. Most of the Malays which make up half the country's population are Muslims.\\n</td>\n",
       "      <td>209</td>\n",
       "    </tr>\n",
       "    <tr>\n",
       "      <th>...</th>\n",
       "      <td>...</td>\n",
       "      <td>...</td>\n",
       "      <td>...</td>\n",
       "      <td>...</td>\n",
       "      <td>...</td>\n",
       "      <td>...</td>\n",
       "      <td>...</td>\n",
       "      <td>...</td>\n",
       "    </tr>\n",
       "    <tr>\n",
       "      <th>95</th>\n",
       "      <td>183.txt</td>\n",
       "      <td>business</td>\n",
       "      <td>/content/drive/MyDrive/Colab Notebooks/data/Summaries/business/183.txt</td>\n",
       "      <td>/content/drive/MyDrive/Colab Notebooks/data/News Articles/business/183.txt</td>\n",
       "      <td>In Germany, industry is exporting more these days, but the economy as a whole is once again mired in slow growth and high unemployment.But Germany needs much more reform if all its industry is to compete with places such Hungary or China.Boss Henk Addink blames the low growth rate in Europe for the lack of orders closer to home.If Germany doesn't once again become the powerhouse of Europe, growth across the bloc is never going to be as strong as it could be.\"In the US growth is something like 6%, in China they are estimating 15%, and in the EU it is more or less 1%,\" he says.Which is strange because Lille is at the crossroads of Europe - if anywhere should be benefiting from the euro it is here.It specialises in making bolts and fixings for power stations and the oil industry, but not many of those are being built in Europe these days.As European leaders gather in Rome on Friday to sign the new EU constitution, many companies will be focusing on matters much closer to home - namely how to stay in business.They don't see what Europe is doing for them, so there is a kind of euro scepticism, especially in the working classes,\" he says.\"Labour is too costly in Germany, especially for the low skilled labour and this is the main problem.That is one reason why people here are not great fans of the EU, says Frederic Sawicki, a politics lecturer at the University of Lille.The euro was designed to increase trade within the eurozone, but the biggest increase in trade has been with the rest of the world.With Germany making up a third of the eurozone's economy, this is a major problem.Director Hugues Charbonnier says he is under pressure because factories in the Far East are able to make some of his output more cheaply, while his key markets are now in China and India.New business has been attracted, but not enough to make up the difference.In Britain that would be a bad year; in Germany it is one of the best in recent years.</td>\n",
       "      <td>350</td>\n",
       "      <td>Business fears over sluggish EU economy\\n\\nAs European leaders gather in Rome on Friday to sign the new EU constitution, many companies will be focusing on matters much closer to home - namely how to stay in business.\\n\\nLille is a popular tourist destination for Britons who want a taste of France at the weekend. But how many tourists look at the impressively grand Victorian Chambre de Commerce, which stands beside the Opera House, and consider that it was built - like the town halls in many northern English towns - on the wealth created by coal, steel and textiles? Like northern England and industrial Scotland, those industries have been in long term decline - the last coal pit closed in 1990. Beck-Crespel is a specialist steel firm in Armentieres, about 20 miles from Lille. The company has not laid off a worker since 1945. It specialises in making bolts and fixings for power stations and the oil industry, but not many of those are being built in Europe these days.\\n\\nDirector Hugues Charbonnier says he is under pressure because factories in the Far East are able to make some of his output more cheaply, while his key markets are now in China and India. \"In our business the market is absolutely global, you can not imagine living with our size (of business) even within an enlarged European Union, (if we did that) we would need not 350 people but perhaps just 150 or 200,\" he says. It isn't just globalisation that is hurting; the law in France means workers are paid for a 39 hour week even though they work just 35 hours. But at least there is still a steel industry. Coal has now totally vanished and textiles are struggling. New business has been attracted, but not enough to make up the difference.\\n\\nThat is one reason why people here are not great fans of the EU, says Frederic Sawicki, a politics lecturer at the University of Lille.\\n\\n\"In the region today the unemployment rate is 12%, in some areas it is 15%. They don't see what Europe is doing for them, so there is a kind of euro scepticism, especially in the working classes,\" he says. Which is strange because Lille is at the crossroads of Europe - if anywhere should be benefiting from the euro it is here. The euro was designed to increase trade within the eurozone, but the biggest increase in trade has been with the rest of the world. Much of that trade passes through the world's largest port, Rotterdam, in Holland, home to specialist crane maker Huisman Itrec. Its cranes help build oil rigs and lifted the sunken Russian submarine Kursk from the sea bed, but Huisman Itrec is now setting up a factory in China, where costs are cheaper and its main customers are closer.\\n\\nBoss Henk Addink blames the low growth rate in Europe for the lack of orders closer to home. \"In the US growth is something like 6%, in China they are estimating 15%, and in the EU it is more or less 1%,\" he says. Mr Addink blames the euro for stifling demand. He much preferred the old currencies of Europe, which moved in rel...</td>\n",
       "      <td>823</td>\n",
       "    </tr>\n",
       "    <tr>\n",
       "      <th>96</th>\n",
       "      <td>461.txt</td>\n",
       "      <td>business</td>\n",
       "      <td>/content/drive/MyDrive/Colab Notebooks/data/Summaries/business/461.txt</td>\n",
       "      <td>/content/drive/MyDrive/Colab Notebooks/data/News Articles/business/461.txt</td>\n",
       "      <td>Mr Wang, who is in charge of collecting car parking fees, said his team would be looking at adjusting parking prices to close the gap.Choking traffic jams in Beijing are prompting officials to look at reorganising car parking charges.The trouble is that the high status of car ownership is matched by expensive fees at indoor car parks, making motorists reluctant to use them.Indoor parking bays can cost up to 250% more than outdoor ones.Indoor parking may be costly, but it is not always secure.\"The price differences between indoor and outdoor lots are unreasonable,\" said Wang Yan, an official from the Beijing Municipal Commission for Development and Reform quoted in the state-run China Daily newspaper.</td>\n",
       "      <td>114</td>\n",
       "      <td>Beijingers fume over parking fees\\n\\nChoking traffic jams in Beijing are prompting officials to look at reorganising car parking charges.\\n\\nCar ownership has risen fast in recent years, and there are now two and a half million cars on the city's roads. The trouble is that the high status of car ownership is matched by expensive fees at indoor car parks, making motorists reluctant to use them. Instead roads are being clogged by drivers circling in search of a cheaper outdoor option. \"The price differences between indoor and outdoor lots are unreasonable,\" said Wang Yan, an official from the Beijing Municipal Commission for Development and Reform quoted in the state-run China Daily newspaper. Mr Wang, who is in charge of collecting car parking fees, said his team would be looking at adjusting parking prices to close the gap. Indoor parking bays can cost up to 250% more than outdoor ones.\\n\\nSports fans who drive to matches may also find themselves the target of the commission's road rage. It wants them to use public transport, and is considering jacking up the prices of car parks near sports grounds. Mr Wang said his review team may scrap the relatively cheap hourly fee near such places and impose a higher flat rate during matches. Indoor parking may be costly, but it is not always secure. Mr Wang's team are also going to look into complaints from residents about poor service received in exchange for compulsory monthly fees of up to 400 yuan ($48; £26). The Beijing authorities decided two years ago that visiting foreign dignitaries' motorcades should not longer get motorcycle outriders as they blocked the traffic. Unclogging Beijing's increasingly impassable streets is a major concern for the Chinese authorities, who are building dozens of new roads to create a showcase modern city ahead of the 2008 Olympic Games.\\n</td>\n",
       "      <td>306</td>\n",
       "    </tr>\n",
       "    <tr>\n",
       "      <th>97</th>\n",
       "      <td>311.txt</td>\n",
       "      <td>business</td>\n",
       "      <td>/content/drive/MyDrive/Colab Notebooks/data/Summaries/business/311.txt</td>\n",
       "      <td>/content/drive/MyDrive/Colab Notebooks/data/News Articles/business/311.txt</td>\n",
       "      <td>Swiss Re said it had registered about 300 natural and man-made disasters around the world in 2004.The world's second biggest insurer said disasters around the globe have seen property claims reach $42bn (£21.5bn).Tightly packed populations in the areas involved in natural and man-made disasters were to partly to blame for the rise in claims, it said.The damages claimed in 2004 eclipsed previous years, including 2001 when the 11 September attacks pushed claims up to $37bn.</td>\n",
       "      <td>75</td>\n",
       "      <td>Stormy year for property insurers\\n\\nA string of storms, typhoons and earthquakes has made 2004 the most expensive year on record for property insurers, according to Swiss Re.\\n\\nThe world's second biggest insurer said disasters around the globe have seen property claims reach $42bn (£21.5bn). \"2004 reinforces the trend towards higher losses,\" said Swiss Re. Tightly packed populations in the areas involved in natural and man-made disasters were to partly to blame for the rise in claims, it said. Some 95% of insurance claims were for natural catastrophes, with the rest attributed to made-made events.\\n\\nThe largest claims came from the US, which was struck by four hurricanes, and Japan, which suffered the highest concentration of typhoons for decades plus a major earthquake.\\n\\nEurope suffered fewer natural disasters, but 191 people were killed and more than 2,000 injured in March after the terrorist attack on train stations in Madrid. The damages claimed in 2004 eclipsed previous years, including 2001 when the 11 September attacks pushed claims up to $37bn. Swiss Re said it had registered about 300 natural and man-made disasters around the world in 2004. Twenty-one thousand people lost their lives in the catastrophes with a cost to the global economy of around $105bn (£54bn).\\n</td>\n",
       "      <td>206</td>\n",
       "    </tr>\n",
       "    <tr>\n",
       "      <th>98</th>\n",
       "      <td>001.txt</td>\n",
       "      <td>business</td>\n",
       "      <td>/content/drive/MyDrive/Colab Notebooks/data/Summaries/business/001.txt</td>\n",
       "      <td>/content/drive/MyDrive/Colab Notebooks/data/News Articles/business/001.txt</td>\n",
       "      <td>TimeWarner said fourth quarter sales rose 2% to $11.1bn from $10.9bn.For the full-year, TimeWarner posted a profit of $3.36bn, up 27% from its 2003 performance, while revenues grew 6.4% to $42.09bn.Quarterly profits at US media giant TimeWarner jumped 76% to $1.13bn (£600m) for the three months to December, from $639m year-earlier.However, the company said AOL's underlying profit before exceptional items rose 8% on the back of stronger internet advertising revenues.Its profits were buoyed by one-off gains which offset a profit dip at Warner Bros, and less users for AOL.For 2005, TimeWarner is projecting operating earnings growth of around 5%, and also expects higher revenue and wider profit margins.It lost 464,000 subscribers in the fourth quarter profits were lower than in the preceding three quarters.Time Warner's fourth quarter profits were slightly better than analysts' expectations.</td>\n",
       "      <td>134</td>\n",
       "      <td>Ad sales boost Time Warner profit\\n\\nQuarterly profits at US media giant TimeWarner jumped 76% to $1.13bn (£600m) for the three months to December, from $639m year-earlier.\\n\\nThe firm, which is now one of the biggest investors in Google, benefited from sales of high-speed internet connections and higher advert sales. TimeWarner said fourth quarter sales rose 2% to $11.1bn from $10.9bn. Its profits were buoyed by one-off gains which offset a profit dip at Warner Bros, and less users for AOL.\\n\\nTime Warner said on Friday that it now owns 8% of search-engine Google. But its own internet business, AOL, had has mixed fortunes. It lost 464,000 subscribers in the fourth quarter profits were lower than in the preceding three quarters. However, the company said AOL's underlying profit before exceptional items rose 8% on the back of stronger internet advertising revenues. It hopes to increase subscribers by offering the online service free to TimeWarner internet customers and will try to sign up AOL's existing customers for high-speed broadband. TimeWarner also has to restate 2000 and 2003 results following a probe by the US Securities Exchange Commission (SEC), which is close to concluding.\\n\\nTime Warner's fourth quarter profits were slightly better than analysts' expectations. But its film division saw profits slump 27% to $284m, helped by box-office flops Alexander and Catwoman, a sharp contrast to year-earlier, when the third and final film in the Lord of the Rings trilogy boosted results. For the full-year, TimeWarner posted a profit of $3.36bn, up 27% from its 2003 performance, while revenues grew 6.4% to $42.09bn. \"Our financial performance was strong, meeting or exceeding all of our full-year objectives and greatly enhancing our flexibility,\" chairman and chief executive Richard Parsons said. For 2005, TimeWarner is projecting operating earnings growth of around 5%, and also expects higher revenue and wider profit margins.\\n\\nTimeWarner is to restate its accounts as part of efforts to resolve an inquiry into AOL by US market regulators. It has already offered to pay $300m to settle charges, in a deal that is under review by the SEC. The company said it was unable to estimate the amount it needed to set aside for legal reserves, which it previously set at $500m. It intends to adjust the way it accounts for a deal with German music publisher Bertelsmann's purchase of a stake in AOL Europe, which it had reported as advertising revenue. It will now book the sale of its stake in AOL Europe as a loss on the value of that stake.\\n</td>\n",
       "      <td>421</td>\n",
       "    </tr>\n",
       "    <tr>\n",
       "      <th>99</th>\n",
       "      <td>069.txt</td>\n",
       "      <td>business</td>\n",
       "      <td>/content/drive/MyDrive/Colab Notebooks/data/Summaries/business/069.txt</td>\n",
       "      <td>/content/drive/MyDrive/Colab Notebooks/data/News Articles/business/069.txt</td>\n",
       "      <td>Both Boeing and Airbus have been taking orders for their new planes.Boeing said it expected to sell about 500 of its 777-200LR planes over the next 20 years.\"Airbus is now where Boeing was a few years ago\" with its product range, said Flight International's Mr Learmount.US aircraft firm Boeing has unveiled its new long-distance 777 plane, as it tries to regain its position as the industry's leading manufacturer.Boeing, in contrast to European rival Airbus, hopes airlines will want to fly smaller aircraft over longer distances.It is banking on smaller, slimmer planes such as the 777-200LR and its much-anticipated 787 Dreamliner plane, which is set to take to the skies in 2008.\"Boeing has the latest variant in a very successful line of airplanes and there is no doubt it will continue to be very successful,\" said David Learmount, operations and safety editor at industry magazine Flight International.Boeing plans to offer twin-engine planes that are able to fly direct to many of the world's airports, getting rid of the need for connecting flights.He also said that while the plane may be able to fly to Sydney from London in one hit, prevailing winds meant that it would have to stop somewhere on the return journey.Analysts are divided over which approach is best and say that this latest tussle between Boeing and Airbus may prove to be a defining moment for the airline industry.</td>\n",
       "      <td>231</td>\n",
       "      <td>Boeing unveils new 777 aircraft\\n\\nUS aircraft firm Boeing has unveiled its new long-distance 777 plane, as it tries to regain its position as the industry's leading manufacturer.\\n\\nThe 777-200LR will be capable of flying almost 11,000 miles non-stop, linking cities such as London and Sydney. Boeing, in contrast to European rival Airbus, hopes airlines will want to fly smaller aircraft over longer distances. Airbus, which overtook Boeing as the number one civilian planemaker in 2003, is focusing on so-called super jumbos.\\n\\nAnalysts are divided over which approach is best and say that this latest tussle between Boeing and Airbus may prove to be a defining moment for the airline industry. Boeing plans to offer twin-engine planes that are able to fly direct to many of the world's airports, getting rid of the need for connecting flights.\\n\\nIt is banking on smaller, slimmer planes such as the 777-200LR and its much-anticipated 787 Dreamliner plane, which is set to take to the skies in 2008. The 777-200LR, which had its launch delayed by the 11 September attacks in the US, is the fifth variation of Boeing's twin-aisle 777 plane. The company offically \"rolled-out\" the new 777 in Seattle at 2200 GMT. Better fuel efficiency from engines made by GE and lighter materials mean that the plane can connect almost any two cities worldwide.\\n\\n\"Boeing has the latest variant in a very successful line of airplanes and there is no doubt it will continue to be very successful,\" said David Learmount, operations and safety editor at industry magazine Flight International. But the 777-200LR \"is a niche player\", Mr Learmount continued, adding that reach was not the only criteria airlines used when picking their aircraft. Mr Learmount pointed out that the 777-200LR has been on the market for a couple of years and only had limited success at attracting orders. He also said that while the plane may be able to fly to Sydney from London in one hit, prevailing winds meant that it would have to stop somewhere on the return journey.\\n\\nFor Airbus, the future is big - it is pinning its hopes on planes that can carry as many as 840 people between large hub airports. From there, passengers would be ferried to their final destinations by smaller planes. Airbus is also keeping its options open and plans to compete in all the main categories of aircraft. It has been producing a rival to Boeing's 777 line for more than a year. \"Airbus is now where Boeing was a few years ago\" with its product range, said Flight International's Mr Learmount.\\n\\nBoth Boeing and Airbus have been taking orders for their new planes. Boeing said it expected to sell about 500 of its 777-200LR planes over the next 20 years. It already has orders from Pakistan International Airlines and EVA of Taiwan. These orders should help underpin the company's profits. Boeing said earnings during the last three months of 2004 dropped by 84% because of costs relating to stopping production of its smallest airliner, t...</td>\n",
       "      <td>536</td>\n",
       "    </tr>\n",
       "  </tbody>\n",
       "</table>\n",
       "<p>100 rows × 8 columns</p>\n",
       "</div>\n",
       "      <button class=\"colab-df-convert\" onclick=\"convertToInteractive('df-87720c83-d2b5-405a-af01-02da85d70f91')\"\n",
       "              title=\"Convert this dataframe to an interactive table.\"\n",
       "              style=\"display:none;\">\n",
       "\n",
       "  <svg xmlns=\"http://www.w3.org/2000/svg\" height=\"24px\"viewBox=\"0 0 24 24\"\n",
       "       width=\"24px\">\n",
       "    <path d=\"M0 0h24v24H0V0z\" fill=\"none\"/>\n",
       "    <path d=\"M18.56 5.44l.94 2.06.94-2.06 2.06-.94-2.06-.94-.94-2.06-.94 2.06-2.06.94zm-11 1L8.5 8.5l.94-2.06 2.06-.94-2.06-.94L8.5 2.5l-.94 2.06-2.06.94zm10 10l.94 2.06.94-2.06 2.06-.94-2.06-.94-.94-2.06-.94 2.06-2.06.94z\"/><path d=\"M17.41 7.96l-1.37-1.37c-.4-.4-.92-.59-1.43-.59-.52 0-1.04.2-1.43.59L10.3 9.45l-7.72 7.72c-.78.78-.78 2.05 0 2.83L4 21.41c.39.39.9.59 1.41.59.51 0 1.02-.2 1.41-.59l7.78-7.78 2.81-2.81c.8-.78.8-2.07 0-2.86zM5.41 20L4 18.59l7.72-7.72 1.47 1.35L5.41 20z\"/>\n",
       "  </svg>\n",
       "      </button>\n",
       "\n",
       "\n",
       "\n",
       "    <div id=\"df-16f6ce34-40fc-4e45-9bfe-83fd9f382bc8\">\n",
       "      <button class=\"colab-df-quickchart\" onclick=\"quickchart('df-16f6ce34-40fc-4e45-9bfe-83fd9f382bc8')\"\n",
       "              title=\"Suggest charts.\"\n",
       "              style=\"display:none;\">\n",
       "\n",
       "<svg xmlns=\"http://www.w3.org/2000/svg\" height=\"24px\"viewBox=\"0 0 24 24\"\n",
       "     width=\"24px\">\n",
       "    <g>\n",
       "        <path d=\"M19 3H5c-1.1 0-2 .9-2 2v14c0 1.1.9 2 2 2h14c1.1 0 2-.9 2-2V5c0-1.1-.9-2-2-2zM9 17H7v-7h2v7zm4 0h-2V7h2v10zm4 0h-2v-4h2v4z\"/>\n",
       "    </g>\n",
       "</svg>\n",
       "      </button>\n",
       "    </div>\n",
       "\n",
       "<style>\n",
       "  .colab-df-quickchart {\n",
       "    background-color: #E8F0FE;\n",
       "    border: none;\n",
       "    border-radius: 50%;\n",
       "    cursor: pointer;\n",
       "    display: none;\n",
       "    fill: #1967D2;\n",
       "    height: 32px;\n",
       "    padding: 0 0 0 0;\n",
       "    width: 32px;\n",
       "  }\n",
       "\n",
       "  .colab-df-quickchart:hover {\n",
       "    background-color: #E2EBFA;\n",
       "    box-shadow: 0px 1px 2px rgba(60, 64, 67, 0.3), 0px 1px 3px 1px rgba(60, 64, 67, 0.15);\n",
       "    fill: #174EA6;\n",
       "  }\n",
       "\n",
       "  [theme=dark] .colab-df-quickchart {\n",
       "    background-color: #3B4455;\n",
       "    fill: #D2E3FC;\n",
       "  }\n",
       "\n",
       "  [theme=dark] .colab-df-quickchart:hover {\n",
       "    background-color: #434B5C;\n",
       "    box-shadow: 0px 1px 3px 1px rgba(0, 0, 0, 0.15);\n",
       "    filter: drop-shadow(0px 1px 2px rgba(0, 0, 0, 0.3));\n",
       "    fill: #FFFFFF;\n",
       "  }\n",
       "</style>\n",
       "\n",
       "    <script>\n",
       "      async function quickchart(key) {\n",
       "        const containerElement = document.querySelector('#' + key);\n",
       "        const charts = await google.colab.kernel.invokeFunction(\n",
       "            'suggestCharts', [key], {});\n",
       "      }\n",
       "    </script>\n",
       "\n",
       "      <script>\n",
       "\n",
       "function displayQuickchartButton(domScope) {\n",
       "  let quickchartButtonEl =\n",
       "    domScope.querySelector('#df-16f6ce34-40fc-4e45-9bfe-83fd9f382bc8 button.colab-df-quickchart');\n",
       "  quickchartButtonEl.style.display =\n",
       "    google.colab.kernel.accessAllowed ? 'block' : 'none';\n",
       "}\n",
       "\n",
       "        displayQuickchartButton(document);\n",
       "      </script>\n",
       "      <style>\n",
       "    .colab-df-container {\n",
       "      display:flex;\n",
       "      flex-wrap:wrap;\n",
       "      gap: 12px;\n",
       "    }\n",
       "\n",
       "    .colab-df-convert {\n",
       "      background-color: #E8F0FE;\n",
       "      border: none;\n",
       "      border-radius: 50%;\n",
       "      cursor: pointer;\n",
       "      display: none;\n",
       "      fill: #1967D2;\n",
       "      height: 32px;\n",
       "      padding: 0 0 0 0;\n",
       "      width: 32px;\n",
       "    }\n",
       "\n",
       "    .colab-df-convert:hover {\n",
       "      background-color: #E2EBFA;\n",
       "      box-shadow: 0px 1px 2px rgba(60, 64, 67, 0.3), 0px 1px 3px 1px rgba(60, 64, 67, 0.15);\n",
       "      fill: #174EA6;\n",
       "    }\n",
       "\n",
       "    [theme=dark] .colab-df-convert {\n",
       "      background-color: #3B4455;\n",
       "      fill: #D2E3FC;\n",
       "    }\n",
       "\n",
       "    [theme=dark] .colab-df-convert:hover {\n",
       "      background-color: #434B5C;\n",
       "      box-shadow: 0px 1px 3px 1px rgba(0, 0, 0, 0.15);\n",
       "      filter: drop-shadow(0px 1px 2px rgba(0, 0, 0, 0.3));\n",
       "      fill: #FFFFFF;\n",
       "    }\n",
       "  </style>\n",
       "\n",
       "      <script>\n",
       "        const buttonEl =\n",
       "          document.querySelector('#df-87720c83-d2b5-405a-af01-02da85d70f91 button.colab-df-convert');\n",
       "        buttonEl.style.display =\n",
       "          google.colab.kernel.accessAllowed ? 'block' : 'none';\n",
       "\n",
       "        async function convertToInteractive(key) {\n",
       "          const element = document.querySelector('#df-87720c83-d2b5-405a-af01-02da85d70f91');\n",
       "          const dataTable =\n",
       "            await google.colab.kernel.invokeFunction('convertToInteractive',\n",
       "                                                     [key], {});\n",
       "          if (!dataTable) return;\n",
       "\n",
       "          const docLinkHtml = 'Like what you see? Visit the ' +\n",
       "            '<a target=\"_blank\" href=https://colab.research.google.com/notebooks/data_table.ipynb>data table notebook</a>'\n",
       "            + ' to learn more about interactive tables.';\n",
       "          element.innerHTML = '';\n",
       "          dataTable['output_type'] = 'display_data';\n",
       "          await google.colab.output.renderOutput(dataTable, element);\n",
       "          const docLink = document.createElement('div');\n",
       "          docLink.innerHTML = docLinkHtml;\n",
       "          element.appendChild(docLink);\n",
       "        }\n",
       "      </script>\n",
       "    </div>\n",
       "  </div>\n"
      ],
      "text/plain": [
       "   FileName  Category  \\\n",
       "0   014.txt  business   \n",
       "1   427.txt  business   \n",
       "2   468.txt  business   \n",
       "3   445.txt  business   \n",
       "4   147.txt  business   \n",
       "..      ...       ...   \n",
       "95  183.txt  business   \n",
       "96  461.txt  business   \n",
       "97  311.txt  business   \n",
       "98  001.txt  business   \n",
       "99  069.txt  business   \n",
       "\n",
       "                                                           SummaryFullPath  \\\n",
       "0   /content/drive/MyDrive/Colab Notebooks/data/Summaries/business/014.txt   \n",
       "1   /content/drive/MyDrive/Colab Notebooks/data/Summaries/business/427.txt   \n",
       "2   /content/drive/MyDrive/Colab Notebooks/data/Summaries/business/468.txt   \n",
       "3   /content/drive/MyDrive/Colab Notebooks/data/Summaries/business/445.txt   \n",
       "4   /content/drive/MyDrive/Colab Notebooks/data/Summaries/business/147.txt   \n",
       "..                                                                     ...   \n",
       "95  /content/drive/MyDrive/Colab Notebooks/data/Summaries/business/183.txt   \n",
       "96  /content/drive/MyDrive/Colab Notebooks/data/Summaries/business/461.txt   \n",
       "97  /content/drive/MyDrive/Colab Notebooks/data/Summaries/business/311.txt   \n",
       "98  /content/drive/MyDrive/Colab Notebooks/data/Summaries/business/001.txt   \n",
       "99  /content/drive/MyDrive/Colab Notebooks/data/Summaries/business/069.txt   \n",
       "\n",
       "                                                               ArticleFullPath  \\\n",
       "0   /content/drive/MyDrive/Colab Notebooks/data/News Articles/business/014.txt   \n",
       "1   /content/drive/MyDrive/Colab Notebooks/data/News Articles/business/427.txt   \n",
       "2   /content/drive/MyDrive/Colab Notebooks/data/News Articles/business/468.txt   \n",
       "3   /content/drive/MyDrive/Colab Notebooks/data/News Articles/business/445.txt   \n",
       "4   /content/drive/MyDrive/Colab Notebooks/data/News Articles/business/147.txt   \n",
       "..                                                                         ...   \n",
       "95  /content/drive/MyDrive/Colab Notebooks/data/News Articles/business/183.txt   \n",
       "96  /content/drive/MyDrive/Colab Notebooks/data/News Articles/business/461.txt   \n",
       "97  /content/drive/MyDrive/Colab Notebooks/data/News Articles/business/311.txt   \n",
       "98  /content/drive/MyDrive/Colab Notebooks/data/News Articles/business/001.txt   \n",
       "99  /content/drive/MyDrive/Colab Notebooks/data/News Articles/business/069.txt   \n",
       "\n",
       "                                                                                                                                                                                                                                                                                                                                                                                                                                                                                                                                                                                                                                                                                                                                                                                                                                                                                                                                                                                                                                                                                                                                                                                                                                                                                                                                                                                                                                                                                                                                                                                                                                                                                                                                                                                                                                                                                                                                                                                                                       Summary  \\\n",
       "0                                                                                                                                                                                                                                                                                                                                                                                                                                                                                                                                                                                                                                                                                                                                                                                                                                                                                                  \"Journalists are the lifeblood of any newspaper, and maintaining the quality of The Daily Telegraph and The Sunday Telegraph for our readers is vital,\" he said.The two Telegraph titles currently employ 521 journalists.Telegraph executive Murdoch MacLennan said the two newspapers would add eight colour pages in the coming months.The Daily and Sunday Telegraph newspapers are axing 90 journalist jobs - 17% of their editorial staff.The Telegraph Group says the cuts are needed to fund an £150m investment in new printing facilities.The National Union of Journalists said it stood strongly behind the journalists and did not rule out a strike.The Telegraph has announced no plans to go tabloid although both The Independent and The Times have seen circulation rise since shrinking in size.Many newspapers are investing in new printing machinery that enables them to print more colour pages, or in some cases, have colour on every page.NUJ official Barry Fitzpatrick said the company had ignored the 90-day consultation period required for companies planning more than 10 redundancies.   \n",
       "1                                                                                                                                                                                                                                                                                                                                                                                                                                                                                                                                                                                                                                                                                                                                                                                                                                                                                                                                                                                                                                                                                                                                                                                                     The US's overall trade deficit with China was $124bn in 2003, and is expected to rise to about $150bn for 2004.State Administration of Taxation head Xie Xuren said a tightening of controls on tax evasion had combined with the rapid expansion to produce a 25.7% rise in tax revenues to 2.572 trillion yuan ($311bn; £165bn).According to the Ministry of Commerce, China's exports totalled $63.8bn in December, taking the annual total up 35.4% to $593.4bn.The increased tax take comes despite healthy tax rebates for many exporters totalling 420bn yuan in 2004, according to Mr Xie.The figures released by the Ministry of Commerce come as China's tax chief confirmed that growth had topped 9% in 2004 for the second year in a row.With imports rising a similar amount, the deficit rose to $43.4bn.   \n",
       "2                                                                                                                                                                                                                                                                                                                                                                                                                                                                                                                                                                                                                                                                                                                                                                                                                                                                                                                                                                                                                                                                                                     The European Commission has officially launched an in-depth investigation into whether Italian airline Alitalia is receiving illegal state aid.Both the Italian government and Alitalia have repeatedly denied that the money - part of a vital restructuring plan - is state aid.Alitalia already enjoyed state aid in 1997.While Alitalia needs to restructure to bring itself back to profitability, the rival carriers say it has both violated state aid rules and threatened competition.\"We now have to verify certain aspects to confirm that this plan contains no state aid.Otherwise, EU regulations on state aid stipulate that governments may help companies financially, but only on the same terms as a commercial investor.The matter of possible state aid was brought to the Commission's attention by eight of Alitalia's rivals, including Germany's Lufthansa, British Airways and Spain's Iberia.   \n",
       "3                                                                                                                                                                                                                                                                                                                                                                                                                                                                                                                                                                                                                                                                                                                                 Three senior executives of Ireland's state-owned airline, Aer Lingus, are set to leave early on 28 January after accusations of a conflict of interest.Last Friday the minister had announced he was to advertise for three senior executives for Aer Lingus.\"What I do after I leave Aer Lingus is still too early to say,\" Mr Walsh told AP news agency on Wednesday.The three have refused to confirm reports they plan to launch a private airline in competition with Aer Lingus.Mr Walsh said there was no conflict of interest, and, if he was to launch a rival airline or join an existing competitor, \"this thing happens in every business\".Mr Walsh, who took charge in 2000, and his team have earned praise for turning Aer Lingus around, by cutting air fares and staff, and re-positioning it as a low-fare airline to rival Ryanair.On Wednesday Irish Transport Minister Martin Cullen said in a statement: \"A conflict of interest cannot, should not and will not be allowed to arise between their current roles at Aer Lingus and their future career intentions.\"That decision had followed an announcement by Irish Prime Minister Bertie Ahern - who is still considering the future of the airline - which ruled out a proposed management buy-out of Aer Lingus.   \n",
       "4                                                                                                                                                                                                                                                                                                                                                                                                                                                                                                                                                                                                                                                                                                                                                                                                                                                                                                                                                                                                                                                                                                                                                                                                                                                                                                                                                                                                                                                        Malaysia's central bank is to relax restrictions on foreign ownership to encourage Islamic banking.Malaysia changed the law to allow Islamic banking in 1983.Banks in Malaysia will now be able to sell up to 49% of their Islamic banking units, while the limit on other kinds of bank remains at 30%.Islamic banks offer services which permit modern banking principles while sticking to Islamic law's ban on the payment of interest.The country's deal to join the World Trade Organisation set that year as a deadline for liberalisation of Islamic banking.   \n",
       "..                                                                                                                                                                                                                                                                                                                                                                                                                                                                                                                                                                                                                                                                                                                                                                                                                                                                                                                                                                                                                                                                                                                                                                                                                                                                                                                                                                                                                                                                                                                                                                                                                                                                                                                                                                                                                                                                                                                                                                                                                         ...   \n",
       "95  In Germany, industry is exporting more these days, but the economy as a whole is once again mired in slow growth and high unemployment.But Germany needs much more reform if all its industry is to compete with places such Hungary or China.Boss Henk Addink blames the low growth rate in Europe for the lack of orders closer to home.If Germany doesn't once again become the powerhouse of Europe, growth across the bloc is never going to be as strong as it could be.\"In the US growth is something like 6%, in China they are estimating 15%, and in the EU it is more or less 1%,\" he says.Which is strange because Lille is at the crossroads of Europe - if anywhere should be benefiting from the euro it is here.It specialises in making bolts and fixings for power stations and the oil industry, but not many of those are being built in Europe these days.As European leaders gather in Rome on Friday to sign the new EU constitution, many companies will be focusing on matters much closer to home - namely how to stay in business.They don't see what Europe is doing for them, so there is a kind of euro scepticism, especially in the working classes,\" he says.\"Labour is too costly in Germany, especially for the low skilled labour and this is the main problem.That is one reason why people here are not great fans of the EU, says Frederic Sawicki, a politics lecturer at the University of Lille.The euro was designed to increase trade within the eurozone, but the biggest increase in trade has been with the rest of the world.With Germany making up a third of the eurozone's economy, this is a major problem.Director Hugues Charbonnier says he is under pressure because factories in the Far East are able to make some of his output more cheaply, while his key markets are now in China and India.New business has been attracted, but not enough to make up the difference.In Britain that would be a bad year; in Germany it is one of the best in recent years.   \n",
       "96                                                                                                                                                                                                                                                                                                                                                                                                                                                                                                                                                                                                                                                                                                                                                                                                                                                                                                                                                                                                                                                                                                                                                                                                                                                                                       Mr Wang, who is in charge of collecting car parking fees, said his team would be looking at adjusting parking prices to close the gap.Choking traffic jams in Beijing are prompting officials to look at reorganising car parking charges.The trouble is that the high status of car ownership is matched by expensive fees at indoor car parks, making motorists reluctant to use them.Indoor parking bays can cost up to 250% more than outdoor ones.Indoor parking may be costly, but it is not always secure.\"The price differences between indoor and outdoor lots are unreasonable,\" said Wang Yan, an official from the Beijing Municipal Commission for Development and Reform quoted in the state-run China Daily newspaper.   \n",
       "97                                                                                                                                                                                                                                                                                                                                                                                                                                                                                                                                                                                                                                                                                                                                                                                                                                                                                                                                                                                                                                                                                                                                                                                                                                                                                                                                                                                                                                                                                                                                Swiss Re said it had registered about 300 natural and man-made disasters around the world in 2004.The world's second biggest insurer said disasters around the globe have seen property claims reach $42bn (£21.5bn).Tightly packed populations in the areas involved in natural and man-made disasters were to partly to blame for the rise in claims, it said.The damages claimed in 2004 eclipsed previous years, including 2001 when the 11 September attacks pushed claims up to $37bn.   \n",
       "98                                                                                                                                                                                                                                                                                                                                                                                                                                                                                                                                                                                                                                                                                                                                                                                                                                                                                                                                                                                                                                                                                        TimeWarner said fourth quarter sales rose 2% to $11.1bn from $10.9bn.For the full-year, TimeWarner posted a profit of $3.36bn, up 27% from its 2003 performance, while revenues grew 6.4% to $42.09bn.Quarterly profits at US media giant TimeWarner jumped 76% to $1.13bn (£600m) for the three months to December, from $639m year-earlier.However, the company said AOL's underlying profit before exceptional items rose 8% on the back of stronger internet advertising revenues.Its profits were buoyed by one-off gains which offset a profit dip at Warner Bros, and less users for AOL.For 2005, TimeWarner is projecting operating earnings growth of around 5%, and also expects higher revenue and wider profit margins.It lost 464,000 subscribers in the fourth quarter profits were lower than in the preceding three quarters.Time Warner's fourth quarter profits were slightly better than analysts' expectations.   \n",
       "99                                                                                                                                                                                                                                                                                                                                                                                                                                                                                                                                                                          Both Boeing and Airbus have been taking orders for their new planes.Boeing said it expected to sell about 500 of its 777-200LR planes over the next 20 years.\"Airbus is now where Boeing was a few years ago\" with its product range, said Flight International's Mr Learmount.US aircraft firm Boeing has unveiled its new long-distance 777 plane, as it tries to regain its position as the industry's leading manufacturer.Boeing, in contrast to European rival Airbus, hopes airlines will want to fly smaller aircraft over longer distances.It is banking on smaller, slimmer planes such as the 777-200LR and its much-anticipated 787 Dreamliner plane, which is set to take to the skies in 2008.\"Boeing has the latest variant in a very successful line of airplanes and there is no doubt it will continue to be very successful,\" said David Learmount, operations and safety editor at industry magazine Flight International.Boeing plans to offer twin-engine planes that are able to fly direct to many of the world's airports, getting rid of the need for connecting flights.He also said that while the plane may be able to fly to Sydney from London in one hit, prevailing winds meant that it would have to stop somewhere on the return journey.Analysts are divided over which approach is best and say that this latest tussle between Boeing and Airbus may prove to be a defining moment for the airline industry.   \n",
       "\n",
       "    SummaryLen  \\\n",
       "0          166   \n",
       "1          131   \n",
       "2          132   \n",
       "3          208   \n",
       "4           88   \n",
       "..         ...   \n",
       "95         350   \n",
       "96         114   \n",
       "97          75   \n",
       "98         134   \n",
       "99         231   \n",
       "\n",
       "                                                                                                                                                                                                                                                                                                                                                                                                                                                                                                                                                                                                                                                                                                                                                                                                                                                                                                                                                                                                                                                                                                                                                                                                                                                                                                                                                                                                                                                                                                                                                                                                                                                                                                                                                                                                                                                                                                                                                                                                                                                                                                                                                                                                                                                                                                                                                                                                                                                                                                                                                                                                                                                                                                                                                                                                                                                                                                                                                                                                                                                                                                                    Article  \\\n",
       "0     Telegraph newspapers axe 90 jobs\\n\\nThe Daily and Sunday Telegraph newspapers are axing 90 journalist jobs - 17% of their editorial staff.\\n\\nThe Telegraph Group says the cuts are needed to fund an £150m investment in new printing facilities. Journalists at the firm met on Friday afternoon to discuss how to react to the surprise announcement. The cuts come against a background of fierce competition for readers and sluggish advertising revenues amid competition from online advertising. The National Union of Journalists has called on the management to recall the notice of redundancy by midday on Monday or face a strike ballot.\\n\\nPearson's Financial Times said last week it was offering voluntary redundancy to about 30 reporters.\\n\\nThe National Union of Journalists said it stood strongly behind the journalists and did not rule out a strike. \"Managers have torn up agreed procedures and kicked staff in the teeth by sacking people to pay for printing facilities,\" said Jeremy Dear, NUJ General Secretary. NUJ official Barry Fitzpatrick said the company had ignored the 90-day consultation period required for companies planning more than 10 redundancies. \"They have shown a complete disregard for the consultative rights of our members,\" said Mr Fitzpatrick, who added that the company now planned to observe the consultation procedures. The two Telegraph titles currently employ 521 journalists.\\n\\nSome broadsheet newspapers - especially those which have not moved to a tabloid format - have suffered circulation declines, which are hitting revenues. The Telegraph has announced no plans to go tabloid although both The Independent and The Times have seen circulation rise since shrinking in size.\\n\\nThe Guardian is hedging its bets, planning a larger tabloid format like those popular in continental Europe. The Telegraph Group was bought by the Barclay twins - Frederick and David - last year, having previously been owned by Lord Conrad Black's Hollinger International. The brothers are currently mulling the sale of another of their businesses, retailer Littlewoods.\\n\\nTelegraph executive Murdoch MacLennan said the two newspapers would add eight colour pages in the coming months.\\n\\n\"Journalists are the lifeblood of any newspaper, and maintaining the quality of The Daily Telegraph and The Sunday Telegraph for our readers is vital,\" he said. \"However, action to improve our production capability and secure our titles against the competition is also vital.\" Many newspapers are investing in new printing machinery that enables them to print more colour pages, or in some cases, have colour on every page. They are hoping that by boosting colour it will make their publications more attractive to advertisers and readers alike. In recent months News Corp's News International unit, which publishes The Sun and the News of the World, the Guardian Media Group, Trinity Mirror and the Daily Mail & General Trust have all announced substantial investments in new printing plants.\\n   \n",
       "1                                                                                                                                                                                                                                                                                                                                                                                                                                                                                                                                                                                                                                                                                                                                                                                                                                                                                                                                                                                                                                                                                                                                                                                                                                                           Chinese exports rise 25% in 2004\\n\\nExports from China leapt during 2004 over the previous year as the country continued to show breakneck growth.\\n\\nThe spurt put China's trade surplus - a sore point with some of its trading partners - at a six-year high. It may also increase pressure on China to relax the peg joining its currency, the yuan, with the weakening dollar. The figures released by the Ministry of Commerce come as China's tax chief confirmed that growth had topped 9% in 2004 for the second year in a row. State Administration of Taxation head Xie Xuren said a tightening of controls on tax evasion had combined with the rapid expansion to produce a 25.7% rise in tax revenues to 2.572 trillion yuan ($311bn; £165bn).\\n\\nAccording to the Ministry of Commerce, China's exports totalled $63.8bn in December, taking the annual total up 35.4% to $593.4bn. With imports rising a similar amount, the deficit rose to $43.4bn. The increased tax take comes despite healthy tax rebates for many exporters totalling 420bn yuan in 2004, according to Mr Xie. China's exporting success has made the trade deficit of the United States soar even further and made trade with China a sensitive political issue in Washington. The peg keeping the yuan around 8.30 to the dollar is often blamed by US lawmakers for job losses at home. A US report issued on Tuesday on behalf of a Congressionally-mandated panel said almost 1.5 million posts disappeared between 1989 and 2003. The pace accelerated in the final three years of the period, said the report for the US-China Economic and Security Review Commission, moving out of labour-intensive industries and into more hi-tech sectors. The US's overall trade deficit with China was $124bn in 2003, and is expected to rise to about $150bn for 2004.\\n   \n",
       "2                                                                                                                                                                                                                                                                                                                                                                                                                                                                                                                                                                                                                                                                                                                                                                                                                                                                                                                                                                                                                                                                                                                                                                                                                                                                                           EU to probe Alitalia 'state aid'\\n\\nThe European Commission has officially launched an in-depth investigation into whether Italian airline Alitalia is receiving illegal state aid.\\n\\nCommission officials are to look at Rome's provision of a 400m euro ($495m; £275m) loan to the carrier. Both the Italian government and Alitalia have repeatedly denied that the money - part of a vital restructuring plan - is state aid. The investigation could take up to 18 months. However, Transport Commissioner Jacques Barrot said he wanted it to be carried out as swiftly as possible. \"The Italian authorities have presented a serious industrial plan,\" said Mr Barot. \"We now have to verify certain aspects to confirm that this plan contains no state aid. I would like our analysis to be completed swiftly.\"\\n\\nThe matter of possible state aid was brought to the Commission's attention by eight of Alitalia's rivals, including Germany's Lufthansa, British Airways and Spain's Iberia. While Alitalia needs to restructure to bring itself back to profitability, the rival carriers say it has both violated state aid rules and threatened competition. Alitalia lost 330m euros in 2003 as it struggled to get to grips with high costs, spiralling oil prices, competition from budget carriers and reduced demand. It plans to split into AZ Fly and AZ Services, which will handle air and ground services respectively. Alitalia already enjoyed state aid in 1997. EU rules prevent that from happening again in what is known as the \"one time, last time\" rule for airlines. Otherwise, EU regulations on state aid stipulate that governments may help companies financially, but only on the same terms as a commercial investor. The airline declined to comment on the Commission decision.\\n   \n",
       "3                                                                                                                                                                                                                                                                                                                                                                                                                                                                                                                                                                                                                                                                                                                                                                                                                                                Executive trio leave Aer Lingus\\n\\nThree senior executives of Ireland's state-owned airline, Aer Lingus, are set to leave early on 28 January after accusations of a conflict of interest.\\n\\nThe trio are chief executive Willie Walsh, chief financial officer Brian Dunne and chief operations officer Seamus Kearney. The three have refused to confirm reports they plan to launch a private airline in competition with Aer Lingus. They announced in November they would quit in May, but did not give a reason. That decision had followed an announcement by Irish Prime Minister Bertie Ahern - who is still considering the future of the airline - which ruled out a proposed management buy-out of Aer Lingus. Mr Walsh denied they had been forced out early because of the reports claiming they were set to launch a competitor airline.\\n\\n\"What I do after I leave Aer Lingus is still too early to say,\" Mr Walsh told AP news agency on Wednesday. \"I have opportunities open to me. Brian and Seamus are in the equally fortunate position.\" He said he had received more than 40 business proposals, mostly aviation-related, since the trio announced their resignations two months ago. Mr Walsh said there was no conflict of interest, and, if he was to launch a rival airline or join an existing competitor, \"this thing happens in every business\". \"There's absolutely no question of a conflict of interest. I've been completely focused on my responsibilities at Aer Lingus,\" he told AP.\\n\\nThis week opposition politicians had called on the Irish government to make an urgent decision on the future of the airline. On Wednesday Irish Transport Minister Martin Cullen said in a statement: \"A conflict of interest cannot, should not and will not be allowed to arise between their current roles at Aer Lingus and their future career intentions.\" Last Friday the minister had announced he was to advertise for three senior executives for Aer Lingus. Mr Walsh, who took charge in 2000, and his team have earned praise for turning Aer Lingus around, by cutting air fares and staff, and re-positioning it as a low-fare airline to rival Ryanair. The company is 85% owned by the government and 15% by its staff.\\n   \n",
       "4                                                                                                                                                                                                                                                                                                                                                                                                                                                                                                                                                                                                                                                                                                                                                                                                                                                                                                                                                                                                                                                                                                                                                                                                                                                                                                                                                                                                                                                                                                                                                                                                                                                                                                                                                                                              Malaysia lifts Islamic bank limit\\n\\nMalaysia's central bank is to relax restrictions on foreign ownership to encourage Islamic banking.\\n\\nBanks in Malaysia will now be able to sell up to 49% of their Islamic banking units, while the limit on other kinds of bank remains at 30%. RHB, Malaysia's third-biggest lender, is already scouting for a foreign partner for its new Islamic banking unit, the firm told Reuters. The moves put Malaysia ahead of a 2007 deadline to open up the sector. The country's deal to join the World Trade Organisation set that year as a deadline for liberalisation of Islamic banking. Also on Tuesday, the central bank released growth figures showing Malaysia's economy expanded 7.1% in 2004. But growth slowed sharply in the fourth quarter to 5.6%, and the central bank said it expected 6% expansion in 2005.\\n\\nMalaysia changed the law to allow Islamic banking in 1983. It has granted licences to three Middle Eastern groups, which - along with local players - mean there are eight fully-operational Islamic banking groups in the country. Islamic banks offer services which permit modern banking principles while sticking to Islamic law's ban on the payment of interest. Most of the Malays which make up half the country's population are Muslims.\\n   \n",
       "..                                                                                                                                                                                                                                                                                                                                                                                                                                                                                                                                                                                                                                                                                                                                                                                                                                                                                                                                                                                                                                                                                                                                                                                                                                                                                                                                                                                                                                                                                                                                                                                                                                                                                                                                                                                                                                                                                                                                                                                                                                                                                                                                                                                                                                                                                                                                                                                                                                                                                                                                                                                                                                                                                                                                                                                                                                                                                                                                                                                                                                                                                                                      ...   \n",
       "95  Business fears over sluggish EU economy\\n\\nAs European leaders gather in Rome on Friday to sign the new EU constitution, many companies will be focusing on matters much closer to home - namely how to stay in business.\\n\\nLille is a popular tourist destination for Britons who want a taste of France at the weekend. But how many tourists look at the impressively grand Victorian Chambre de Commerce, which stands beside the Opera House, and consider that it was built - like the town halls in many northern English towns - on the wealth created by coal, steel and textiles? Like northern England and industrial Scotland, those industries have been in long term decline - the last coal pit closed in 1990. Beck-Crespel is a specialist steel firm in Armentieres, about 20 miles from Lille. The company has not laid off a worker since 1945. It specialises in making bolts and fixings for power stations and the oil industry, but not many of those are being built in Europe these days.\\n\\nDirector Hugues Charbonnier says he is under pressure because factories in the Far East are able to make some of his output more cheaply, while his key markets are now in China and India. \"In our business the market is absolutely global, you can not imagine living with our size (of business) even within an enlarged European Union, (if we did that) we would need not 350 people but perhaps just 150 or 200,\" he says. It isn't just globalisation that is hurting; the law in France means workers are paid for a 39 hour week even though they work just 35 hours. But at least there is still a steel industry. Coal has now totally vanished and textiles are struggling. New business has been attracted, but not enough to make up the difference.\\n\\nThat is one reason why people here are not great fans of the EU, says Frederic Sawicki, a politics lecturer at the University of Lille.\\n\\n\"In the region today the unemployment rate is 12%, in some areas it is 15%. They don't see what Europe is doing for them, so there is a kind of euro scepticism, especially in the working classes,\" he says. Which is strange because Lille is at the crossroads of Europe - if anywhere should be benefiting from the euro it is here. The euro was designed to increase trade within the eurozone, but the biggest increase in trade has been with the rest of the world. Much of that trade passes through the world's largest port, Rotterdam, in Holland, home to specialist crane maker Huisman Itrec. Its cranes help build oil rigs and lifted the sunken Russian submarine Kursk from the sea bed, but Huisman Itrec is now setting up a factory in China, where costs are cheaper and its main customers are closer.\\n\\nBoss Henk Addink blames the low growth rate in Europe for the lack of orders closer to home. \"In the US growth is something like 6%, in China they are estimating 15%, and in the EU it is more or less 1%,\" he says. Mr Addink blames the euro for stifling demand. He much preferred the old currencies of Europe, which moved in rel...   \n",
       "96                                                                                                                                                                                                                                                                                                                                                                                                                                                                                                                                                                                                                                                                                                                                                                                                                                                                                                                                                                                                                                                                                                                                                                                                   Beijingers fume over parking fees\\n\\nChoking traffic jams in Beijing are prompting officials to look at reorganising car parking charges.\\n\\nCar ownership has risen fast in recent years, and there are now two and a half million cars on the city's roads. The trouble is that the high status of car ownership is matched by expensive fees at indoor car parks, making motorists reluctant to use them. Instead roads are being clogged by drivers circling in search of a cheaper outdoor option. \"The price differences between indoor and outdoor lots are unreasonable,\" said Wang Yan, an official from the Beijing Municipal Commission for Development and Reform quoted in the state-run China Daily newspaper. Mr Wang, who is in charge of collecting car parking fees, said his team would be looking at adjusting parking prices to close the gap. Indoor parking bays can cost up to 250% more than outdoor ones.\\n\\nSports fans who drive to matches may also find themselves the target of the commission's road rage. It wants them to use public transport, and is considering jacking up the prices of car parks near sports grounds. Mr Wang said his review team may scrap the relatively cheap hourly fee near such places and impose a higher flat rate during matches. Indoor parking may be costly, but it is not always secure. Mr Wang's team are also going to look into complaints from residents about poor service received in exchange for compulsory monthly fees of up to 400 yuan ($48; £26). The Beijing authorities decided two years ago that visiting foreign dignitaries' motorcades should not longer get motorcycle outriders as they blocked the traffic. Unclogging Beijing's increasingly impassable streets is a major concern for the Chinese authorities, who are building dozens of new roads to create a showcase modern city ahead of the 2008 Olympic Games.\\n   \n",
       "97                                                                                                                                                                                                                                                                                                                                                                                                                                                                                                                                                                                                                                                                                                                                                                                                                                                                                                                                                                                                                                                                                                                                                                                                                                                                                                                                                                                                                                                                                                                                                                                                                                                                                                                                                                       Stormy year for property insurers\\n\\nA string of storms, typhoons and earthquakes has made 2004 the most expensive year on record for property insurers, according to Swiss Re.\\n\\nThe world's second biggest insurer said disasters around the globe have seen property claims reach $42bn (£21.5bn). \"2004 reinforces the trend towards higher losses,\" said Swiss Re. Tightly packed populations in the areas involved in natural and man-made disasters were to partly to blame for the rise in claims, it said. Some 95% of insurance claims were for natural catastrophes, with the rest attributed to made-made events.\\n\\nThe largest claims came from the US, which was struck by four hurricanes, and Japan, which suffered the highest concentration of typhoons for decades plus a major earthquake.\\n\\nEurope suffered fewer natural disasters, but 191 people were killed and more than 2,000 injured in March after the terrorist attack on train stations in Madrid. The damages claimed in 2004 eclipsed previous years, including 2001 when the 11 September attacks pushed claims up to $37bn. Swiss Re said it had registered about 300 natural and man-made disasters around the world in 2004. Twenty-one thousand people lost their lives in the catastrophes with a cost to the global economy of around $105bn (£54bn).\\n   \n",
       "98                                                                                                                                                                                                                                                                                                                                                                                                                                               Ad sales boost Time Warner profit\\n\\nQuarterly profits at US media giant TimeWarner jumped 76% to $1.13bn (£600m) for the three months to December, from $639m year-earlier.\\n\\nThe firm, which is now one of the biggest investors in Google, benefited from sales of high-speed internet connections and higher advert sales. TimeWarner said fourth quarter sales rose 2% to $11.1bn from $10.9bn. Its profits were buoyed by one-off gains which offset a profit dip at Warner Bros, and less users for AOL.\\n\\nTime Warner said on Friday that it now owns 8% of search-engine Google. But its own internet business, AOL, had has mixed fortunes. It lost 464,000 subscribers in the fourth quarter profits were lower than in the preceding three quarters. However, the company said AOL's underlying profit before exceptional items rose 8% on the back of stronger internet advertising revenues. It hopes to increase subscribers by offering the online service free to TimeWarner internet customers and will try to sign up AOL's existing customers for high-speed broadband. TimeWarner also has to restate 2000 and 2003 results following a probe by the US Securities Exchange Commission (SEC), which is close to concluding.\\n\\nTime Warner's fourth quarter profits were slightly better than analysts' expectations. But its film division saw profits slump 27% to $284m, helped by box-office flops Alexander and Catwoman, a sharp contrast to year-earlier, when the third and final film in the Lord of the Rings trilogy boosted results. For the full-year, TimeWarner posted a profit of $3.36bn, up 27% from its 2003 performance, while revenues grew 6.4% to $42.09bn. \"Our financial performance was strong, meeting or exceeding all of our full-year objectives and greatly enhancing our flexibility,\" chairman and chief executive Richard Parsons said. For 2005, TimeWarner is projecting operating earnings growth of around 5%, and also expects higher revenue and wider profit margins.\\n\\nTimeWarner is to restate its accounts as part of efforts to resolve an inquiry into AOL by US market regulators. It has already offered to pay $300m to settle charges, in a deal that is under review by the SEC. The company said it was unable to estimate the amount it needed to set aside for legal reserves, which it previously set at $500m. It intends to adjust the way it accounts for a deal with German music publisher Bertelsmann's purchase of a stake in AOL Europe, which it had reported as advertising revenue. It will now book the sale of its stake in AOL Europe as a loss on the value of that stake.\\n   \n",
       "99  Boeing unveils new 777 aircraft\\n\\nUS aircraft firm Boeing has unveiled its new long-distance 777 plane, as it tries to regain its position as the industry's leading manufacturer.\\n\\nThe 777-200LR will be capable of flying almost 11,000 miles non-stop, linking cities such as London and Sydney. Boeing, in contrast to European rival Airbus, hopes airlines will want to fly smaller aircraft over longer distances. Airbus, which overtook Boeing as the number one civilian planemaker in 2003, is focusing on so-called super jumbos.\\n\\nAnalysts are divided over which approach is best and say that this latest tussle between Boeing and Airbus may prove to be a defining moment for the airline industry. Boeing plans to offer twin-engine planes that are able to fly direct to many of the world's airports, getting rid of the need for connecting flights.\\n\\nIt is banking on smaller, slimmer planes such as the 777-200LR and its much-anticipated 787 Dreamliner plane, which is set to take to the skies in 2008. The 777-200LR, which had its launch delayed by the 11 September attacks in the US, is the fifth variation of Boeing's twin-aisle 777 plane. The company offically \"rolled-out\" the new 777 in Seattle at 2200 GMT. Better fuel efficiency from engines made by GE and lighter materials mean that the plane can connect almost any two cities worldwide.\\n\\n\"Boeing has the latest variant in a very successful line of airplanes and there is no doubt it will continue to be very successful,\" said David Learmount, operations and safety editor at industry magazine Flight International. But the 777-200LR \"is a niche player\", Mr Learmount continued, adding that reach was not the only criteria airlines used when picking their aircraft. Mr Learmount pointed out that the 777-200LR has been on the market for a couple of years and only had limited success at attracting orders. He also said that while the plane may be able to fly to Sydney from London in one hit, prevailing winds meant that it would have to stop somewhere on the return journey.\\n\\nFor Airbus, the future is big - it is pinning its hopes on planes that can carry as many as 840 people between large hub airports. From there, passengers would be ferried to their final destinations by smaller planes. Airbus is also keeping its options open and plans to compete in all the main categories of aircraft. It has been producing a rival to Boeing's 777 line for more than a year. \"Airbus is now where Boeing was a few years ago\" with its product range, said Flight International's Mr Learmount.\\n\\nBoth Boeing and Airbus have been taking orders for their new planes. Boeing said it expected to sell about 500 of its 777-200LR planes over the next 20 years. It already has orders from Pakistan International Airlines and EVA of Taiwan. These orders should help underpin the company's profits. Boeing said earnings during the last three months of 2004 dropped by 84% because of costs relating to stopping production of its smallest airliner, t...   \n",
       "\n",
       "    ArticleLen  \n",
       "0          466  \n",
       "1          302  \n",
       "2          281  \n",
       "3          367  \n",
       "4          209  \n",
       "..         ...  \n",
       "95         823  \n",
       "96         306  \n",
       "97         206  \n",
       "98         421  \n",
       "99         536  \n",
       "\n",
       "[100 rows x 8 columns]"
      ]
     },
     "execution_count": 7,
     "metadata": {},
     "output_type": "execute_result"
    }
   ],
   "source": [
    "import os\n",
    "import pandas as pd\n",
    "\n",
    "folder_path = \"/content/drive/MyDrive/Colab Notebooks/data/\"\n",
    "categories = os.listdir(folder_path + \"Summaries/\")\n",
    "\n",
    "frames = []\n",
    "\n",
    "for category in categories:\n",
    "    files = os.listdir(os.path.join(folder_path, \"Summaries/\", category))\n",
    "    tmp_df = pd.DataFrame(files, columns=[\"FileName\"])\n",
    "    tmp_df[\"Category\"] = category\n",
    "    frames.append(tmp_df)\n",
    "\n",
    "df = pd.concat(frames).head(100)\n",
    "\n",
    "df[\"SummaryFullPath\"] = df.apply(lambda row: os.path.join(folder_path, \"Summaries\", row[\"Category\"], row[\"FileName\"]), axis=1)\n",
    "df[\"ArticleFullPath\"] = df.apply(lambda row: os.path.join(folder_path, \"News Articles\", row[\"Category\"], row[\"FileName\"]), axis=1)\n",
    "df[\"Summary\"] = df[\"SummaryFullPath\"].apply(lambda path: read_file_from_path(path))\n",
    "df[\"SummaryLen\"] = df[\"Summary\"].apply(lambda summary: len(summary.split()))\n",
    "\n",
    "df[\"Article\"] = df[\"ArticleFullPath\"].apply(lambda path: read_file_from_path(path))\n",
    "df[\"ArticleLen\"] = df[\"Article\"].apply(lambda summary: len(summary.split()))\n",
    "\n",
    "\n",
    "df#.drop(\"FileName\")"
   ]
  },
  {
   "cell_type": "code",
   "execution_count": 8,
   "id": "Of67OpHE9chW",
   "metadata": {
    "colab": {
     "base_uri": "https://localhost:8080/",
     "height": 640
    },
    "id": "Of67OpHE9chW",
    "outputId": "738ac4ef-bdac-47ee-8f56-02104ffbe65b"
   },
   "outputs": [
    {
     "data": {
      "image/png": "[encoded data removed]",
      "text/plain": [
       "<Figure size 1100x600 with 1 Axes>"
      ]
     },
     "metadata": {},
     "output_type": "display_data"
    }
   ],
   "source": [
    "fig, ax = plt.subplots(figsize=(11,6))\n",
    "fig.suptitle(\"Proportion of different text categories\")\n",
    "\n",
    "sns.countplot(data=df, x=\"Category\", hue=\"Category\", palette=\"hls\", ax=ax)\n",
    "ax.grid(alpha=0.25)\n",
    "ax.tick_params(axis='x', rotation=45)\n",
    "\n",
    "total = len(df)\n",
    "for p in ax.patches:\n",
    "    percentage = '{:.1f}%'.format(100 * p.get_height()/total)\n",
    "    x = p.get_x() + p.get_width()/2\n",
    "    y = p.get_height() * 0.9\n",
    "    ax.annotate(percentage, (x, y), ha='center')\n",
    "\n",
    "fig.show()"
   ]
  },
  {
   "cell_type": "code",
   "execution_count": 9,
   "id": "lnqiQlvR9L3E",
   "metadata": {
    "colab": {
     "base_uri": "https://localhost:8080/",
     "height": 602
    },
    "id": "lnqiQlvR9L3E",
    "outputId": "9c202146-4c86-4de8-d3f2-f0e1fddf8f86"
   },
   "outputs": [
    {
     "data": {
      "image/png": "[encoded data removed]",
      "text/plain": [
       "<Figure size 1100x600 with 1 Axes>"
      ]
     },
     "metadata": {},
     "output_type": "display_data"
    }
   ],
   "source": [
    "fig, ax = plt.subplots(figsize=(11,6))\n",
    "fig.suptitle(\"Distribution of article lengths\")\n",
    "\n",
    "sns.histplot(data=df, x=\"ArticleLen\", palette=\"hls\", ax=ax, binwidth=10)\n",
    "ax.grid(alpha=0.25)\n",
    "#ax.tick_params(axis='x', rotation=45)"
   ]
  },
  {
   "cell_type": "code",
   "execution_count": 10,
   "id": "MGPpSrwI4sxL",
   "metadata": {
    "colab": {
     "base_uri": "https://localhost:8080/",
     "height": 602
    },
    "id": "MGPpSrwI4sxL",
    "outputId": "43898102-3ec8-429d-fd50-b050f3fae6e6"
   },
   "outputs": [
    {
     "data": {
      "image/png": "[encoded data removed]",
      "text/plain": [
       "<Figure size 1100x600 with 1 Axes>"
      ]
     },
     "metadata": {},
     "output_type": "display_data"
    }
   ],
   "source": [
    "fig, ax = plt.subplots(figsize=(11,6))\n",
    "fig.suptitle(\"Distribution of summary lengths\")\n",
    "\n",
    "sns.histplot(data=df, x=\"SummaryLen\", palette=\"hls\", ax=ax, binwidth=10)\n",
    "ax.grid(alpha=0.25)\n",
    "#ax.tick_params(axis='x', rotation=45)"
   ]
  },
  {
   "cell_type": "markdown",
   "id": "8091baa6",
   "metadata": {
    "id": "8091baa6"
   },
   "source": [
    "# Model & tokenizer"
   ]
  },
  {
   "cell_type": "code",
   "execution_count": 12,
   "id": "DqY6FOD1pL8p",
   "metadata": {
    "colab": {
     "base_uri": "https://localhost:8080/"
    },
    "id": "DqY6FOD1pL8p",
    "outputId": "9085f014-ea5d-4200-f9b3-3d726eac31b9"
   },
   "outputs": [
    {
     "name": "stderr",
     "output_type": "stream",
     "text": [
      "Some weights of BartForCausalLM were not initialized from the model checkpoint at facebook/bart-base and are newly initialized: ['lm_head.weight', 'decoder.embed_tokens.weight']\n",
      "You should probably TRAIN this model on a down-stream task to be able to use it for predictions and inference.\n"
     ]
    },
    {
     "name": "stdout",
     "output_type": "stream",
     "text": [
      "\n",
      "Tokenizer max len: 1024\n",
      "{'bos_token': '<s>', 'eos_token': '</s>', 'unk_token': '<unk>', 'sep_token': '</s>', 'pad_token': '<pad>', 'cls_token': '<s>', 'mask_token': '<mask>'}\n",
      "bos token:  <s> 0\n",
      "eos token:  </s> 2\n",
      "unk token:  <unk> 3\n"
     ]
    }
   ],
   "source": [
    "#model_name_or_path = \"facebook/bart-large-cnn\"\n",
    "\n",
    "tokenizer = AutoTokenizer.from_pretrained(\"facebook/bart-base\")\n",
    "model = AutoModelForCausalLM.from_pretrained(\"facebook/bart-base\").to(device)\n",
    "\n",
    "#tokenizer = AutoTokenizer.from_pretrained(model_name_or_path)\n",
    "#model = AutoModelForCausalLM.from_pretrained(model_name_or_path).to(device)\n",
    "\n",
    "print(f\"\\nTokenizer max len: {tokenizer.model_max_length}\")\n",
    "print(tokenizer.special_tokens_map)\n",
    "print(\"bos token: \", tokenizer.bos_token, tokenizer.bos_token_id)\n",
    "print(\"eos token: \", tokenizer.eos_token, tokenizer.eos_token_id)\n",
    "print(\"unk token: \", tokenizer.unk_token, tokenizer.unk_token_id)"
   ]
  },
  {
   "cell_type": "markdown",
   "id": "0224e3da",
   "metadata": {
    "id": "0224e3da"
   },
   "source": [
    "## Dataset & Dataloaders"
   ]
  },
  {
   "cell_type": "code",
   "execution_count": 13,
   "id": "4010ec9e",
   "metadata": {
    "id": "4010ec9e"
   },
   "outputs": [],
   "source": [
    "class CustomDataset(torch.utils.data.Dataset):\n",
    "\n",
    "    def __init__(self, df, tokenizer):\n",
    "        super().__init__()\n",
    "        self.summaries = df[\"Summary\"].values\n",
    "        self.articles = df[\"Article\"].values\n",
    "        self.len = len(df)\n",
    "        self.max_summary_len = 512\n",
    "        self.max_article_len = 1024\n",
    "\n",
    "    def __getitem__(self, idx):\n",
    "\n",
    "        summary = self.summaries[idx]\n",
    "        article = self.articles[idx]\n",
    "\n",
    "        encoded_article = tokenizer(article,\n",
    "                                 add_special_tokens = True,\n",
    "                                 return_attention_mask = True,\n",
    "                                 return_token_type_ids=True,\n",
    "                                 truncation=True,\n",
    "                                 max_length = self.max_article_len,\n",
    "                                 return_tensors = 'pt',\n",
    "                   )\n",
    "        encoded_summary = tokenizer(summary,\n",
    "                                 add_special_tokens = False,\n",
    "                                 return_attention_mask = False,\n",
    "                                 return_token_type_ids=False,\n",
    "                                 truncation=True,\n",
    "                                 max_length = self.max_summary_len,\n",
    "                                 return_tensors = 'pt',\n",
    "                   )\n",
    "\n",
    "        return encoded_article['input_ids'][0], encoded_article['attention_mask'][0], encoded_summary[\"input_ids\"][0]\n",
    "\n",
    "    def __len__(self):\n",
    "        return self.len"
   ]
  },
  {
   "cell_type": "code",
   "execution_count": 14,
   "id": "815db74a",
   "metadata": {
    "id": "815db74a"
   },
   "outputs": [],
   "source": [
    "from torch.nn import ConstantPad1d\n",
    "\n",
    "def padding_function(x, max_len):\n",
    "    return ConstantPad1d((0, max_len - len(x)), 0)(x)\n",
    "\n",
    "def shift_right(labels, n=1):\n",
    "    padding = -100 * torch.ones(n)\n",
    "    return torch.concat([padding, labels[:-n]])\n",
    "\n",
    "def collate_fn(batch):\n",
    "    max_len = max([len(sample[0]) for sample in batch])\n",
    "    ids = torch.stack([padding_function(sample[0], max_len) for sample in batch])\n",
    "    attention_masks = torch.stack([shift_right(padding_function(sample[1], max_len)) for sample in batch])\n",
    "    labels = torch.stack([padding_function(sample[2], max_len) for sample in batch])\n",
    "    return ids.to(device), attention_masks.to(device), labels.to(device)"
   ]
  },
  {
   "cell_type": "code",
   "execution_count": 15,
   "id": "052243ba",
   "metadata": {
    "colab": {
     "base_uri": "https://localhost:8080/"
    },
    "id": "052243ba",
    "outputId": "81165469-8929-4568-a498-5a433158212f"
   },
   "outputs": [
    {
     "name": "stdout",
     "output_type": "stream",
     "text": [
      "   80 training samples\n",
      "   20 validation samples\n"
     ]
    }
   ],
   "source": [
    "dataset = CustomDataset(df, tokenizer)\n",
    "train_size = int(0.8 * len(dataset))\n",
    "validation_size = len(dataset)  - train_size\n",
    "train_dataset, validation_dataset = random_split(dataset, [train_size, validation_size])\n",
    "\n",
    "print('{:>5,} training samples'.format(train_size))\n",
    "print('{:>5,} validation samples'.format(validation_size))"
   ]
  },
  {
   "cell_type": "code",
   "execution_count": 16,
   "id": "67a25a6a",
   "metadata": {
    "id": "67a25a6a"
   },
   "outputs": [],
   "source": [
    "\n",
    "batch_size = 4\n",
    "\n",
    "train_dataloader = DataLoader(\n",
    "            train_dataset,\n",
    "            sampler = RandomSampler(train_dataset),\n",
    "            batch_size = batch_size,\n",
    "            collate_fn=collate_fn\n",
    "        )\n",
    "\n",
    "validation_dataloader = DataLoader(\n",
    "            validation_dataset,\n",
    "            sampler = SequentialSampler(validation_dataset),\n",
    "            batch_size = batch_size,\n",
    "            collate_fn=collate_fn\n",
    "        )"
   ]
  },
  {
   "cell_type": "code",
   "execution_count": 17,
   "id": "9fa95a38",
   "metadata": {
    "id": "9fa95a38"
   },
   "outputs": [],
   "source": [
    "optimizer = AdamW(model.parameters(),\n",
    "                  lr = 2e-5, # args.learning_rate - default is 5e-5, our notebook had 2e-5\n",
    "                  eps = 1e-8 # args.adam_epsilon  - default is 1e-8.\n",
    "                )"
   ]
  },
  {
   "cell_type": "markdown",
   "id": "e385efa5",
   "metadata": {
    "id": "e385efa5"
   },
   "source": [
    "# Training"
   ]
  },
  {
   "cell_type": "code",
   "execution_count": null,
   "id": "d5760347",
   "metadata": {
    "colab": {
     "base_uri": "https://localhost:8080/",
     "height": 153,
     "referenced_widgets": [
      "ca2fdb0ca3e848ca86593bd9ce8f3595",
      "0c336618fd26470593854615617ffb97",
      "06bcab2cdee947e48f320682d7810050",
      "87a7271d3b0946f6bb5ca751883c7366",
      "305d63799389487088852551e0b6375a",
      "4403bc18ae374632bcebe04049ef6316",
      "8e1f841c1d3e4d39ad3c68245e9924d2",
      "31081450fa3746b1b851ee35e64b92e5",
      "5ea41f5a77b8421a8cfb56a9b4f8ca64",
      "4d914df12bc54be8bdf8c9ef2c363277",
      "e103115fbda241769af65c0513d37eae"
     ]
    },
    "id": "d5760347",
    "outputId": "eb487d48-3095-4888-a963-d80548f973da"
   },
   "outputs": [
    {
     "data": {
      "application/vnd.jupyter.widget-view+json": {
       "model_id": "ca2fdb0ca3e848ca86593bd9ce8f3595",
       "version_major": 2,
       "version_minor": 0
      },
      "text/plain": [
       "  0%|          | 0/20 [00:00<?, ?it/s]"
      ]
     },
     "metadata": {},
     "output_type": "display_data"
    },
    {
     "name": "stdout",
     "output_type": "stream",
     "text": [
      "tensor(9.2630, grad_fn=<NllLossBackward0>)\n",
      "tensor(8.2802, grad_fn=<NllLossBackward0>)\n",
      "tensor(6.8949, grad_fn=<NllLossBackward0>)\n",
      "tensor(5.7064, grad_fn=<NllLossBackward0>)\n",
      "tensor(4.0300, grad_fn=<NllLossBackward0>)\n",
      "tensor(3.0432, grad_fn=<NllLossBackward0>)\n"
     ]
    }
   ],
   "source": [
    "start_time = time.time()\n",
    "\n",
    "epochs = 2\n",
    "avg_train_accuracy = []\n",
    "avg_train_loss = []\n",
    "avg_val_loss = []\n",
    "avg_val_accuracy = []\n",
    "\n",
    "for epoch_i in range(0, epochs):\n",
    "\n",
    "    running_train_loss = 0\n",
    "    running_train_accuracy = 0\n",
    "    running_val_loss = 0\n",
    "    running_val_accuracy = 0\n",
    "\n",
    "    model.train()\n",
    "\n",
    "    loop = tqdm(train_dataloader)\n",
    "\n",
    "    for batch in loop:\n",
    "        b_input_ids = batch[0].to(device)\n",
    "        b_input_mask = batch[1].to(device)\n",
    "        b_labels = batch[2].to(device)\n",
    "\n",
    "        optimizer.zero_grad()\n",
    "\n",
    "        output = model(b_input_ids,\n",
    "                       attention_mask=b_input_mask,\n",
    "                       labels=b_labels)\n",
    "        print(output.loss)\n",
    "        loss = output.loss\n",
    "        running_train_loss += loss.item()\n",
    "        loss.backward()\n",
    "        torch.nn.utils.clip_grad_norm_(model.parameters(), 1.0)\n",
    "\n",
    "        optimizer.step()\n",
    "\n",
    "        loop.set_description(f\"Training. Epoch [{epoch_i}/{epochs}]\")\n",
    "\n",
    "    avg_train_accuracy.append(running_train_accuracy / train_size)\n",
    "    avg_train_loss.append(running_train_loss / train_size)\n",
    "\n",
    "    model.eval()\n",
    "    with torch.no_grad():\n",
    "        loop = tqdm(validation_dataloader)\n",
    "        for batch in loop:\n",
    "\n",
    "            b_input_ids = batch[0].to(device)\n",
    "            b_input_token_type = batch[1].to(device)\n",
    "            b_input_mask = batch[2].to(device)\n",
    "\n",
    "            output = model(b_input_ids,\n",
    "                       token_type_ids=b_input_token_type,\n",
    "                       attention_mask=b_input_mask,\n",
    "                       labels=b_input_ids)\n",
    "\n",
    "\n",
    "            loss = output.loss\n",
    "            running_val_loss += loss.item()\n",
    "\n",
    "            loop.set_description(f\"Validation. Epoch [{epoch_i}/{epochs}]\\tloss {loss.item()}\")\n",
    "\n",
    "    avg_val_accuracy.append(running_val_accuracy / len(validation_dataset))\n",
    "    avg_val_loss.append(running_val_loss / len(validation_dataloader))"
   ]
  },
  {
   "cell_type": "markdown",
   "id": "35a9fcf7",
   "metadata": {
    "id": "35a9fcf7"
   },
   "source": [
    "## Eval"
   ]
  },
  {
   "cell_type": "code",
   "execution_count": null,
   "id": "YzwgZOZo6BMu",
   "metadata": {
    "id": "YzwgZOZo6BMu"
   },
   "outputs": [],
   "source": [
    "rouge_score = evaluate.load(\"rouge\")\n",
    "scores = rouge_score.compute(\n",
    "    predictions=[generated_summary], references=[reference_summary]\n",
    ")\n",
    "scores"
   ]
  },
  {
   "cell_type": "code",
   "execution_count": null,
   "id": "SrnEMcm06bFU",
   "metadata": {
    "id": "SrnEMcm06bFU"
   },
   "outputs": [],
   "source": [
    "# Baseline\n",
    "\n",
    "from nltk.tokenize import sent_tokenize\n",
    "\n",
    "\n",
    "def three_sentence_summary(text):\n",
    "    return \"\\n\".join(sent_tokenize(text)[:3])\n",
    "\n",
    "\n",
    "#print(three_sentence_summary(books_dataset[\"train\"][1][\"review_body\"]))\n",
    "\n",
    "def evaluate_baseline(dataset, metric):\n",
    "    summaries = [three_sentence_summary(text) for text in dataset[\"review_body\"]]\n",
    "    return metric.compute(predictions=summaries, references=dataset[\"review_title\"])"
   ]
  },
  {
   "cell_type": "code",
   "execution_count": null,
   "id": "s7Z2JW986ag-",
   "metadata": {
    "id": "s7Z2JW986ag-"
   },
   "outputs": [],
   "source": []
  },
  {
   "cell_type": "code",
   "execution_count": null,
   "id": "8fdf3f02",
   "metadata": {
    "id": "8fdf3f02"
   },
   "outputs": [],
   "source": [
    "# https://huggingface.co/blog/how-to-generate\n",
    "\n",
    "def predict(record):\n",
    "\n",
    "    model_inputs = tokenizer(record[\"FullDescription\"], record[\"Example\"],\n",
    "                             add_special_tokens = True,\n",
    "                             return_attention_mask = True,\n",
    "                             return_token_type_ids=True,\n",
    "                             return_tensors = 'pt'\n",
    "                            )\n",
    "\n",
    "    # set top_k to 50\n",
    "    sample_output = model.generate(\n",
    "        **model_inputs,\n",
    "        max_new_tokens=40,\n",
    "        do_sample=True,\n",
    "        top_k=50\n",
    "    )\n",
    "\n",
    "    print(\"Input:\\n\" + 100 * '-')\n",
    "    print(record[\"FullDescription\"], record[\"Example\"])\n",
    "    print(\"Output:\\n\" + 100 * '-')\n",
    "    print(tokenizer.decode(sample_output[0], skip_special_tokens=True))\n"
   ]
  }
 ],
 "metadata": {
  "colab": {
   "provenance": []
  },
  "kernelspec": {
   "display_name": "Python 3 (ipykernel)",
   "language": "python",
   "name": "python3"
  },
  "language_info": {
   "codemirror_mode": {
    "name": "ipython",
    "version": 3
   },
   "file_extension": ".py",
   "mimetype": "text/x-python",
   "name": "python",
   "nbconvert_exporter": "python",
   "pygments_lexer": "ipython3",
   "version": "3.10.10"
  },
  "widgets": {
   "application/vnd.jupyter.widget-state+json": {
    "06bcab2cdee947e48f320682d7810050": {
     "model_module": "@jupyter-widgets/controls",
     "model_module_version": "1.5.0",
     "model_name": "FloatProgressModel",
     "state": {
      "_dom_classes": [],
      "_model_module": "@jupyter-widgets/controls",
      "_model_module_version": "1.5.0",
      "_model_name": "FloatProgressModel",
      "_view_count": null,
      "_view_module": "@jupyter-widgets/controls",
      "_view_module_version": "1.5.0",
      "_view_name": "ProgressView",
      "bar_style": "",
      "description": "",
      "description_tooltip": null,
      "layout": "IPY_MODEL_31081450fa3746b1b851ee35e64b92e5",
      "max": 20,
      "min": 0,
      "orientation": "horizontal",
      "style": "IPY_MODEL_5ea41f5a77b8421a8cfb56a9b4f8ca64",
      "value": 5
     }
    },
    "0c336618fd26470593854615617ffb97": {
     "model_module": "@jupyter-widgets/controls",
     "model_module_version": "1.5.0",
     "model_name": "HTMLModel",
     "state": {
      "_dom_classes": [],
      "_model_module": "@jupyter-widgets/controls",
      "_model_module_version": "1.5.0",
      "_model_name": "HTMLModel",
      "_view_count": null,
      "_view_module": "@jupyter-widgets/controls",
      "_view_module_version": "1.5.0",
      "_view_name": "HTMLView",
      "description": "",
      "description_tooltip": null,
      "layout": "IPY_MODEL_4403bc18ae374632bcebe04049ef6316",
      "placeholder": "​",
      "style": "IPY_MODEL_8e1f841c1d3e4d39ad3c68245e9924d2",
      "value": "Training. Epoch [0/2]:  25%"
     }
    },
    "305d63799389487088852551e0b6375a": {
     "model_module": "@jupyter-widgets/base",
     "model_module_version": "1.2.0",
     "model_name": "LayoutModel",
     "state": {
      "_model_module": "@jupyter-widgets/base",
      "_model_module_version": "1.2.0",
      "_model_name": "LayoutModel",
      "_view_count": null,
      "_view_module": "@jupyter-widgets/base",
      "_view_module_version": "1.2.0",
      "_view_name": "LayoutView",
      "align_content": null,
      "align_items": null,
      "align_self": null,
      "border": null,
      "bottom": null,
      "display": null,
      "flex": null,
      "flex_flow": null,
      "grid_area": null,
      "grid_auto_columns": null,
      "grid_auto_flow": null,
      "grid_auto_rows": null,
      "grid_column": null,
      "grid_gap": null,
      "grid_row": null,
      "grid_template_areas": null,
      "grid_template_columns": null,
      "grid_template_rows": null,
      "height": null,
      "justify_content": null,
      "justify_items": null,
      "left": null,
      "margin": null,
      "max_height": null,
      "max_width": null,
      "min_height": null,
      "min_width": null,
      "object_fit": null,
      "object_position": null,
      "order": null,
      "overflow": null,
      "overflow_x": null,
      "overflow_y": null,
      "padding": null,
      "right": null,
      "top": null,
      "visibility": null,
      "width": null
     }
    },
    "31081450fa3746b1b851ee35e64b92e5": {
     "model_module": "@jupyter-widgets/base",
     "model_module_version": "1.2.0",
     "model_name": "LayoutModel",
     "state": {
      "_model_module": "@jupyter-widgets/base",
      "_model_module_version": "1.2.0",
      "_model_name": "LayoutModel",
      "_view_count": null,
      "_view_module": "@jupyter-widgets/base",
      "_view_module_version": "1.2.0",
      "_view_name": "LayoutView",
      "align_content": null,
      "align_items": null,
      "align_self": null,
      "border": null,
      "bottom": null,
      "display": null,
      "flex": null,
      "flex_flow": null,
      "grid_area": null,
      "grid_auto_columns": null,
      "grid_auto_flow": null,
      "grid_auto_rows": null,
      "grid_column": null,
      "grid_gap": null,
      "grid_row": null,
      "grid_template_areas": null,
      "grid_template_columns": null,
      "grid_template_rows": null,
      "height": null,
      "justify_content": null,
      "justify_items": null,
      "left": null,
      "margin": null,
      "max_height": null,
      "max_width": null,
      "min_height": null,
      "min_width": null,
      "object_fit": null,
      "object_position": null,
      "order": null,
      "overflow": null,
      "overflow_x": null,
      "overflow_y": null,
      "padding": null,
      "right": null,
      "top": null,
      "visibility": null,
      "width": null
     }
    },
    "4403bc18ae374632bcebe04049ef6316": {
     "model_module": "@jupyter-widgets/base",
     "model_module_version": "1.2.0",
     "model_name": "LayoutModel",
     "state": {
      "_model_module": "@jupyter-widgets/base",
      "_model_module_version": "1.2.0",
      "_model_name": "LayoutModel",
      "_view_count": null,
      "_view_module": "@jupyter-widgets/base",
      "_view_module_version": "1.2.0",
      "_view_name": "LayoutView",
      "align_content": null,
      "align_items": null,
      "align_self": null,
      "border": null,
      "bottom": null,
      "display": null,
      "flex": null,
      "flex_flow": null,
      "grid_area": null,
      "grid_auto_columns": null,
      "grid_auto_flow": null,
      "grid_auto_rows": null,
      "grid_column": null,
      "grid_gap": null,
      "grid_row": null,
      "grid_template_areas": null,
      "grid_template_columns": null,
      "grid_template_rows": null,
      "height": null,
      "justify_content": null,
      "justify_items": null,
      "left": null,
      "margin": null,
      "max_height": null,
      "max_width": null,
      "min_height": null,
      "min_width": null,
      "object_fit": null,
      "object_position": null,
      "order": null,
      "overflow": null,
      "overflow_x": null,
      "overflow_y": null,
      "padding": null,
      "right": null,
      "top": null,
      "visibility": null,
      "width": null
     }
    },
    "4d914df12bc54be8bdf8c9ef2c363277": {
     "model_module": "@jupyter-widgets/base",
     "model_module_version": "1.2.0",
     "model_name": "LayoutModel",
     "state": {
      "_model_module": "@jupyter-widgets/base",
      "_model_module_version": "1.2.0",
      "_model_name": "LayoutModel",
      "_view_count": null,
      "_view_module": "@jupyter-widgets/base",
      "_view_module_version": "1.2.0",
      "_view_name": "LayoutView",
      "align_content": null,
      "align_items": null,
      "align_self": null,
      "border": null,
      "bottom": null,
      "display": null,
      "flex": null,
      "flex_flow": null,
      "grid_area": null,
      "grid_auto_columns": null,
      "grid_auto_flow": null,
      "grid_auto_rows": null,
      "grid_column": null,
      "grid_gap": null,
      "grid_row": null,
      "grid_template_areas": null,
      "grid_template_columns": null,
      "grid_template_rows": null,
      "height": null,
      "justify_content": null,
      "justify_items": null,
      "left": null,
      "margin": null,
      "max_height": null,
      "max_width": null,
      "min_height": null,
      "min_width": null,
      "object_fit": null,
      "object_position": null,
      "order": null,
      "overflow": null,
      "overflow_x": null,
      "overflow_y": null,
      "padding": null,
      "right": null,
      "top": null,
      "visibility": null,
      "width": null
     }
    },
    "5ea41f5a77b8421a8cfb56a9b4f8ca64": {
     "model_module": "@jupyter-widgets/controls",
     "model_module_version": "1.5.0",
     "model_name": "ProgressStyleModel",
     "state": {
      "_model_module": "@jupyter-widgets/controls",
      "_model_module_version": "1.5.0",
      "_model_name": "ProgressStyleModel",
      "_view_count": null,
      "_view_module": "@jupyter-widgets/base",
      "_view_module_version": "1.2.0",
      "_view_name": "StyleView",
      "bar_color": null,
      "description_width": ""
     }
    },
    "87a7271d3b0946f6bb5ca751883c7366": {
     "model_module": "@jupyter-widgets/controls",
     "model_module_version": "1.5.0",
     "model_name": "HTMLModel",
     "state": {
      "_dom_classes": [],
      "_model_module": "@jupyter-widgets/controls",
      "_model_module_version": "1.5.0",
      "_model_name": "HTMLModel",
      "_view_count": null,
      "_view_module": "@jupyter-widgets/controls",
      "_view_module_version": "1.5.0",
      "_view_name": "HTMLView",
      "description": "",
      "description_tooltip": null,
      "layout": "IPY_MODEL_4d914df12bc54be8bdf8c9ef2c363277",
      "placeholder": "​",
      "style": "IPY_MODEL_e103115fbda241769af65c0513d37eae",
      "value": " 5/20 [01:52&lt;04:47, 19.17s/it]"
     }
    },
    "8e1f841c1d3e4d39ad3c68245e9924d2": {
     "model_module": "@jupyter-widgets/controls",
     "model_module_version": "1.5.0",
     "model_name": "DescriptionStyleModel",
     "state": {
      "_model_module": "@jupyter-widgets/controls",
      "_model_module_version": "1.5.0",
      "_model_name": "DescriptionStyleModel",
      "_view_count": null,
      "_view_module": "@jupyter-widgets/base",
      "_view_module_version": "1.2.0",
      "_view_name": "StyleView",
      "description_width": ""
     }
    },
    "ca2fdb0ca3e848ca86593bd9ce8f3595": {
     "model_module": "@jupyter-widgets/controls",
     "model_module_version": "1.5.0",
     "model_name": "HBoxModel",
     "state": {
      "_dom_classes": [],
      "_model_module": "@jupyter-widgets/controls",
      "_model_module_version": "1.5.0",
      "_model_name": "HBoxModel",
      "_view_count": null,
      "_view_module": "@jupyter-widgets/controls",
      "_view_module_version": "1.5.0",
      "_view_name": "HBoxView",
      "box_style": "",
      "children": [
       "IPY_MODEL_0c336618fd26470593854615617ffb97",
       "IPY_MODEL_06bcab2cdee947e48f320682d7810050",
       "IPY_MODEL_87a7271d3b0946f6bb5ca751883c7366"
      ],
      "layout": "IPY_MODEL_305d63799389487088852551e0b6375a"
     }
    },
    "e103115fbda241769af65c0513d37eae": {
     "model_module": "@jupyter-widgets/controls",
     "model_module_version": "1.5.0",
     "model_name": "DescriptionStyleModel",
     "state": {
      "_model_module": "@jupyter-widgets/controls",
      "_model_module_version": "1.5.0",
      "_model_name": "DescriptionStyleModel",
      "_view_count": null,
      "_view_module": "@jupyter-widgets/base",
      "_view_module_version": "1.2.0",
      "_view_name": "StyleView",
      "description_width": ""
     }
    }
   }
  }
 },
 "nbformat": 4,
 "nbformat_minor": 5
}
