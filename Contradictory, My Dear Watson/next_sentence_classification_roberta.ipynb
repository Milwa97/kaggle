{
 "cells": [
  {
   "cell_type": "markdown",
   "id": "8910a07e-d1b5-4e78-9a8e-7f3b119ba01f",
   "metadata": {},
   "source": [
    "# Contradictory, My Dear Watson\n",
    "\n",
    "Link: https://www.kaggle.com/competitions/contradictory-my-dear-watson\n",
    "\n",
    "Challenge description:\n",
    "\n",
    "If you have two sentences, there are three ways they could be related: one could entail the other, one could contradict the other, or they could be unrelated. Natural Language Inferencing (NLI) is a popular NLP problem that involves determining how pairs of sentences (consisting of a premise and a hypothesis) are related.\n",
    "\n",
    "Your task is to create an NLI model that assigns labels of 0, 1, or 2 (corresponding to entailment, neutral, and contradiction) to pairs of premises and hypotheses. To make things more interesting, the train and test set include text in fifteen different languages! You can find more details on the dataset by reviewing the Data page.\n",
    "\n",
    "Today, the most common approaches to NLI problems include using embeddings and transformers like BERT. In this competition, we’re providing a starter notebook to try your hand at this problem using the power of Tensor Processing Units (TPUs). TPUs are powerful hardware accelerators specialized in deep learning tasks, including Natural Language Processing. Kaggle provides all users TPU Quota at no cost, which you can use to explore this competition. Check out our TPU documentation and Kaggle’s YouTube playlist for more information and resources.\n"
   ]
  },
  {
   "cell_type": "markdown",
   "id": "47b46145-f082-4513-8f26-5e5581844dd3",
   "metadata": {
    "colab": {
     "base_uri": "https://localhost:8080/"
    },
    "id": "BfY77LHWf2tN",
    "outputId": "ef7f8da7-51b9-4344-e73d-2a9e8a24b3bc"
   },
   "source": [
    "!pip install transformers -qU\n",
    "!pip install datasets -qU\n",
    "!pip install pip install pytorch-lightning -qU"
   ]
  },
  {
   "cell_type": "code",
   "execution_count": 1,
   "id": "b5ccc971",
   "metadata": {
    "colab": {
     "base_uri": "https://localhost:8080/"
    },
    "id": "b5ccc971",
    "outputId": "df143527-3893-4acf-8470-63af13f9a897"
   },
   "outputs": [],
   "source": [
    "import re\n",
    "import time\n",
    "from typing import List, Optional, Tuple\n",
    "from tqdm.auto import tqdm\n",
    "import numpy as np\n",
    "import pandas as pd\n",
    "import matplotlib.pyplot as plt\n",
    "import seaborn as sns\n",
    "\n",
    "from sklearn.metrics import confusion_matrix\n",
    "\n",
    "import torch\n",
    "from torch.nn import ConstantPad1d\n",
    "from torch.utils.data import Dataset, DataLoader, RandomSampler, SequentialSampler, random_split\n",
    "from pytorch_lightning import LightningDataModule, LightningModule, Trainer\n",
    "from pytorch_lightning.callbacks import EarlyStopping\n",
    "\n",
    "from transformers import (\n",
    "    AutoConfig,\n",
    "    AutoModelForSequenceClassification,\n",
    "    AutoTokenizer,\n",
    "    get_linear_schedule_with_warmup,\n",
    ")\n",
    "\n",
    "import warnings\n",
    "warnings.filterwarnings(action=\"ignore\")\n",
    "\n",
    "pd.set_option('display.max_colwidth', 3000)\n",
    "pd.set_option('display.max_columns', None)\n",
    "\n",
    "torch.manual_seed(0)\n",
    "\n",
    "device = torch.device('cuda' if torch.cuda.is_available() else 'cpu')\n",
    "device"
   ]
  },
  {
   "cell_type": "code",
   "execution_count": 2,
   "id": "9634e4e3",
   "metadata": {
    "colab": {
     "base_uri": "https://localhost:8080/",
     "height": 493
    },
    "id": "9634e4e3",
    "outputId": "77a5e9da-a287-41ec-a899-68d92f4aaba7"
   },
   "outputs": [
    {
     "data": {
      "text/html": [
       "<div>\n",
       "<style scoped>\n",
       "    .dataframe tbody tr th:only-of-type {\n",
       "        vertical-align: middle;\n",
       "    }\n",
       "\n",
       "    .dataframe tbody tr th {\n",
       "        vertical-align: top;\n",
       "    }\n",
       "\n",
       "    .dataframe thead th {\n",
       "        text-align: right;\n",
       "    }\n",
       "</style>\n",
       "<table border=\"1\" class=\"dataframe\">\n",
       "  <thead>\n",
       "    <tr style=\"text-align: right;\">\n",
       "      <th></th>\n",
       "      <th>premise</th>\n",
       "      <th>hypothesis</th>\n",
       "      <th>language</th>\n",
       "      <th>label</th>\n",
       "      <th>inputs</th>\n",
       "      <th>language_id</th>\n",
       "      <th>label_name</th>\n",
       "    </tr>\n",
       "  </thead>\n",
       "  <tbody>\n",
       "    <tr>\n",
       "      <th>0</th>\n",
       "      <td>and these comments were considered in formulating the interim rules.</td>\n",
       "      <td>the rules developed in the interim were put together with these comments in mind.</td>\n",
       "      <td>English</td>\n",
       "      <td>0</td>\n",
       "      <td>[CLS] and these comments were considered in formulating the interim rules. [SEP] the rules developed in the interim were put together with these comments in mind. [SEP]</td>\n",
       "      <td>0</td>\n",
       "      <td>entailment</td>\n",
       "    </tr>\n",
       "    <tr>\n",
       "      <th>1</th>\n",
       "      <td>these are issues that we wrestle with in practice groups of law firms, she said.</td>\n",
       "      <td>practice groups are not permitted to work on these issues.</td>\n",
       "      <td>English</td>\n",
       "      <td>2</td>\n",
       "      <td>[CLS] these are issues that we wrestle with in practice groups of law firms, she said.  [SEP] practice groups are not permitted to work on these issues. [SEP]</td>\n",
       "      <td>0</td>\n",
       "      <td>contradiction</td>\n",
       "    </tr>\n",
       "    <tr>\n",
       "      <th>2</th>\n",
       "      <td>des petites choses comme celles-là font une différence énorme dans ce que j'essaye de faire.</td>\n",
       "      <td>j'essayais d'accomplir quelque chose.</td>\n",
       "      <td>French</td>\n",
       "      <td>0</td>\n",
       "      <td>[CLS] des petites choses comme celles-là font une différence énorme dans ce que j'essaye de faire. [SEP] j'essayais d'accomplir quelque chose. [SEP]</td>\n",
       "      <td>1</td>\n",
       "      <td>entailment</td>\n",
       "    </tr>\n",
       "    <tr>\n",
       "      <th>3</th>\n",
       "      <td>you know they can't really defend themselves like somebody grown uh say my age you know yeah</td>\n",
       "      <td>they can't defend themselves because of their age.</td>\n",
       "      <td>English</td>\n",
       "      <td>0</td>\n",
       "      <td>[CLS] you know they can't really defend themselves like somebody grown uh say my age you know yeah [SEP] they can't defend themselves because of their age. [SEP]</td>\n",
       "      <td>0</td>\n",
       "      <td>entailment</td>\n",
       "    </tr>\n",
       "    <tr>\n",
       "      <th>4</th>\n",
       "      <td>ในการเล่นบทบาทสมมุติก็เช่นกัน โอกาสที่จะได้แสดงออกและได้เล่นหลายบทบาทไปพร้อมกัน ๆ อาจช่วยให้เด็กจับความคล้ายคลึงและความแตกต่างระหว่างผู้คนในด้านความปรารถนา ความเชื่อ และความรู้สึกได้</td>\n",
       "      <td>เด็กสามารถเห็นได้ว่าชาติพันธุ์แตกต่างกันอย่างไร</td>\n",
       "      <td>Thai</td>\n",
       "      <td>1</td>\n",
       "      <td>[CLS] ในการเล่นบทบาทสมมุติก็เช่นกัน โอกาสที่จะได้แสดงออกและได้เล่นหลายบทบาทไปพร้อมกัน ๆ อาจช่วยให้เด็กจับความคล้ายคลึงและความแตกต่างระหว่างผู้คนในด้านความปรารถนา ความเชื่อ และความรู้สึกได้ [SEP] เด็กสามารถเห็นได้ว่าชาติพันธุ์แตกต่างกันอย่างไร [SEP]</td>\n",
       "      <td>2</td>\n",
       "      <td>neutral</td>\n",
       "    </tr>\n",
       "  </tbody>\n",
       "</table>\n",
       "</div>"
      ],
      "text/plain": [
       "                                                                                                                                                                                  premise  \\\n",
       "0                                                                                                                    and these comments were considered in formulating the interim rules.   \n",
       "1                                                                                                       these are issues that we wrestle with in practice groups of law firms, she said.    \n",
       "2                                                                                            des petites choses comme celles-là font une différence énorme dans ce que j'essaye de faire.   \n",
       "3                                                                                            you know they can't really defend themselves like somebody grown uh say my age you know yeah   \n",
       "4  ในการเล่นบทบาทสมมุติก็เช่นกัน โอกาสที่จะได้แสดงออกและได้เล่นหลายบทบาทไปพร้อมกัน ๆ อาจช่วยให้เด็กจับความคล้ายคลึงและความแตกต่างระหว่างผู้คนในด้านความปรารถนา ความเชื่อ และความรู้สึกได้   \n",
       "\n",
       "                                                                          hypothesis  \\\n",
       "0  the rules developed in the interim were put together with these comments in mind.   \n",
       "1                         practice groups are not permitted to work on these issues.   \n",
       "2                                              j'essayais d'accomplir quelque chose.   \n",
       "3                                 they can't defend themselves because of their age.   \n",
       "4                                    เด็กสามารถเห็นได้ว่าชาติพันธุ์แตกต่างกันอย่างไร   \n",
       "\n",
       "  language  label  \\\n",
       "0  English      0   \n",
       "1  English      2   \n",
       "2   French      0   \n",
       "3  English      0   \n",
       "4     Thai      1   \n",
       "\n",
       "                                                                                                                                                                                                                                                     inputs  \\\n",
       "0                                                                                  [CLS] and these comments were considered in formulating the interim rules. [SEP] the rules developed in the interim were put together with these comments in mind. [SEP]   \n",
       "1                                                                                            [CLS] these are issues that we wrestle with in practice groups of law firms, she said.  [SEP] practice groups are not permitted to work on these issues. [SEP]   \n",
       "2                                                                                                      [CLS] des petites choses comme celles-là font une différence énorme dans ce que j'essaye de faire. [SEP] j'essayais d'accomplir quelque chose. [SEP]   \n",
       "3                                                                                         [CLS] you know they can't really defend themselves like somebody grown uh say my age you know yeah [SEP] they can't defend themselves because of their age. [SEP]   \n",
       "4  [CLS] ในการเล่นบทบาทสมมุติก็เช่นกัน โอกาสที่จะได้แสดงออกและได้เล่นหลายบทบาทไปพร้อมกัน ๆ อาจช่วยให้เด็กจับความคล้ายคลึงและความแตกต่างระหว่างผู้คนในด้านความปรารถนา ความเชื่อ และความรู้สึกได้ [SEP] เด็กสามารถเห็นได้ว่าชาติพันธุ์แตกต่างกันอย่างไร [SEP]   \n",
       "\n",
       "   language_id     label_name  \n",
       "0            0     entailment  \n",
       "1            0  contradiction  \n",
       "2            1     entailment  \n",
       "3            0     entailment  \n",
       "4            2        neutral  "
      ]
     },
     "execution_count": 2,
     "metadata": {},
     "output_type": "execute_result"
    }
   ],
   "source": [
    "df = pd.read_csv(\"data/train.csv\")\n",
    "\n",
    "labels_mapping = {0: \"entailment\", 1: \"neutral\", 2: \"contradiction\"}\n",
    "ids_to_language = {i: language for i, language in enumerate(df[\"language\"].unique())}\n",
    "language2ids = {language: i for i, language in ids_to_language.items()}\n",
    "\n",
    "df['premise']  = df['premise'].apply(lambda x: x.lower())\n",
    "df['hypothesis']  = df['hypothesis'].apply(lambda x: x.lower())\n",
    "df['inputs'] = \"[CLS] \" + df['premise'] + \" [SEP] \" + df['hypothesis'] + \" [SEP]\"\n",
    "df['language_id'] = df[\"language\"].map(language2ids)\n",
    "df['label_name'] = df[\"label\"].map(labels_mapping)\n",
    "df.drop([\"id\", \"lang_abv\"], axis=1, inplace=True)\n",
    "df.head()"
   ]
  },
  {
   "cell_type": "markdown",
   "id": "19412623-484f-4476-9b03-5c39db2a5e02",
   "metadata": {
    "id": "q_wG8MvSyCQr"
   },
   "source": [
    "# Data Overview"
   ]
  },
  {
   "cell_type": "code",
   "execution_count": 3,
   "id": "a0de6566-bc60-466a-81d4-4957a74fb109",
   "metadata": {},
   "outputs": [
    {
     "data": {
      "image/png": "[encoded data removed]",
      "text/plain": [
       "<Figure size 800x800 with 1 Axes>"
      ]
     },
     "metadata": {},
     "output_type": "display_data"
    }
   ],
   "source": [
    "df_stats = df.groupby(\"language\").agg(count=(\"premise\", 'count')).reset_index()\n",
    "fig, ax = plt.subplots(figsize=(8,8))\n",
    "fig.suptitle(\"Proportion of different languages in the dataset\")\n",
    "ax.pie(df_stats[\"count\"], labels=df_stats[\"language\"], \n",
    "       autopct='%1.2f%%', \n",
    "       explode= [0.1]*len(df_stats),\n",
    "       textprops={'fontsize': 8},\n",
    "       labeldistance=1.1,\n",
    "       pctdistance=0.8,\n",
    "       colors=sns.color_palette('Set2'))\n",
    "fig.show()"
   ]
  },
  {
   "cell_type": "code",
   "execution_count": 4,
   "id": "j7Oyjr8PtD3s",
   "metadata": {
    "colab": {
     "base_uri": "https://localhost:8080/",
     "height": 596
    },
    "id": "j7Oyjr8PtD3s",
    "outputId": "5187adbb-0a49-474f-d15c-215b51652980",
    "scrolled": true
   },
   "outputs": [
    {
     "data": {
      "image/png": "[encoded data removed]",
      "text/plain": [
       "<Figure size 1100x500 with 1 Axes>"
      ]
     },
     "metadata": {},
     "output_type": "display_data"
    }
   ],
   "source": [
    "fig, ax = plt.subplots(figsize=(11,5))\n",
    "sns.countplot(data=df, x=\"language\", hue=\"label_name\", palette=\"hls\", ax=ax)\n",
    "ax.grid(alpha=0.25)\n",
    "ax.tick_params(axis='x', rotation=45)"
   ]
  },
  {
   "cell_type": "markdown",
   "id": "h0KIdYkTPmSU",
   "metadata": {
    "id": "h0KIdYkTPmSU"
   },
   "source": [
    "# Tokenizer & Model\n"
   ]
  },
  {
   "cell_type": "code",
   "execution_count": 5,
   "id": "GfUOOlA8IOcv",
   "metadata": {
    "colab": {
     "base_uri": "https://localhost:8080/"
    },
    "id": "GfUOOlA8IOcv",
    "outputId": "7f1ebf4c-61e8-4904-b8b8-d608f873335b"
   },
   "outputs": [
    {
     "data": {
      "text/plain": [
       "{'bos_token': '<s>',\n",
       " 'eos_token': '</s>',\n",
       " 'unk_token': '<unk>',\n",
       " 'sep_token': '</s>',\n",
       " 'pad_token': '<pad>',\n",
       " 'cls_token': '<s>',\n",
       " 'mask_token': '<mask>'}"
      ]
     },
     "execution_count": 5,
     "metadata": {},
     "output_type": "execute_result"
    }
   ],
   "source": [
    "model_name_or_path = 'symanto/xlm-roberta-base-snli-mnli-anli-xnli'\n",
    "tokenizer = AutoTokenizer.from_pretrained(model_name_or_path, do_lower_case=True)\n",
    "tokenizer.special_tokens_map"
   ]
  },
  {
   "cell_type": "markdown",
   "id": "e8389030-0bce-4171-9da4-ca89b00f2e14",
   "metadata": {
    "id": "e8389030-0bce-4171-9da4-ca89b00f2e14"
   },
   "source": [
    "# Dataset"
   ]
  },
  {
   "cell_type": "code",
   "execution_count": 6,
   "id": "6c45199b",
   "metadata": {
    "id": "6c45199b"
   },
   "outputs": [],
   "source": [
    "class CustomDataset(Dataset):\n",
    "\n",
    "    def __init__(self, df, tokenizer):\n",
    "        super().__init__()\n",
    "        self.tokenizer = tokenizer\n",
    "        self.inputs = df[\"inputs\"].values\n",
    "        self.labels = torch.tensor(df[\"label\"].values).to(torch.int64)\n",
    "        self.language = torch.tensor(df[\"language_id\"].values).to(torch.int64)\n",
    "\n",
    "    def __getitem__(self, idx):\n",
    "        encoded_dict = tokenizer(self.inputs[idx],\n",
    "                                 add_special_tokens = True,\n",
    "                                 return_attention_mask = True,\n",
    "                                 return_tensors = 'pt',\n",
    "                   )\n",
    "        return encoded_dict['input_ids'][0], encoded_dict['attention_mask'][0], self.labels[idx], self.language[idx]\n",
    "\n",
    "    def __len__(self):\n",
    "        return len(self.labels)"
   ]
  },
  {
   "cell_type": "code",
   "execution_count": 7,
   "id": "a84ca1b2",
   "metadata": {
    "colab": {
     "base_uri": "https://localhost:8080/"
    },
    "id": "a84ca1b2",
    "outputId": "06702a22-7ab4-4c16-c3e6-ca2b0fdbd2f6"
   },
   "outputs": [
    {
     "name": "stdout",
     "output_type": "stream",
     "text": [
      "9,696 training samples\n",
      "2,424 validation samples\n"
     ]
    }
   ],
   "source": [
    "dataset = CustomDataset(df, tokenizer)\n",
    "train_size = int(0.8 * len(dataset))\n",
    "validation_size = len(dataset)  - train_size\n",
    "train_dataset, validation_dataset = random_split(dataset, [train_size, validation_size])\n",
    "\n",
    "print('{:>5,} training samples'.format(train_size))\n",
    "print('{:>5,} validation samples'.format(validation_size))\n"
   ]
  },
  {
   "cell_type": "markdown",
   "id": "57bcf81d-15bd-49ef-bb13-52e75d11786e",
   "metadata": {
    "id": "57bcf81d-15bd-49ef-bb13-52e75d11786e"
   },
   "source": [
    "# Dataloaders"
   ]
  },
  {
   "cell_type": "code",
   "execution_count": 8,
   "id": "wbkv8Xh2BpAl",
   "metadata": {
    "id": "wbkv8Xh2BpAl"
   },
   "outputs": [],
   "source": [
    "def padding_function(x, max_len):\n",
    "    return ConstantPad1d((0, max_len - len(x)), 0)(x)\n",
    "\n",
    "def collate_fn(batch):\n",
    "    max_len = max([len(sample[0]) for sample in batch])\n",
    "    ids = torch.stack([padding_function(sample[0], max_len) for sample in batch])\n",
    "    attention_masks = torch.stack([padding_function(sample[1], max_len) for sample in batch])\n",
    "    labels = torch.tensor([sample[2] for sample in batch])\n",
    "    language = torch.tensor([sample[3] for sample in batch])\n",
    "\n",
    "    return ids, attention_masks, labels, language\n"
   ]
  },
  {
   "cell_type": "code",
   "execution_count": 9,
   "id": "a85031d2",
   "metadata": {
    "id": "a85031d2"
   },
   "outputs": [],
   "source": [
    "batch_size = 16\n",
    "\n",
    "train_dataloader = DataLoader(\n",
    "            train_dataset,\n",
    "            sampler = RandomSampler(train_dataset),\n",
    "            batch_size = batch_size,\n",
    "            collate_fn=collate_fn\n",
    "        )\n",
    "\n",
    "validation_dataloader = DataLoader(\n",
    "            validation_dataset,\n",
    "            sampler = SequentialSampler(validation_dataset),\n",
    "            batch_size = batch_size,\n",
    "            collate_fn=collate_fn\n",
    "        )"
   ]
  },
  {
   "cell_type": "code",
   "execution_count": 10,
   "id": "4eNLmuYYGpGd",
   "metadata": {
    "id": "4eNLmuYYGpGd",
    "scrolled": true
   },
   "outputs": [],
   "source": [
    "class ClassificationModel(LightningModule):\n",
    "\n",
    "    def __init__(\n",
    "        self,\n",
    "        model_name_or_path: str,\n",
    "        num_labels: int,\n",
    "        learning_rate: float = 2e-5,\n",
    "        adam_epsilon: float = 1e-8,\n",
    "        weight_decay: float = 0.0,\n",
    "    ):\n",
    "        super().__init__()\n",
    "        self.save_hyperparameters()\n",
    "        self.larning_rate = learning_rate\n",
    "        self.adam_epsilon = adam_epsilon\n",
    "        self.weight_decay = weight_decay\n",
    "        self.validation_step_outputs = []\n",
    "        self.model = AutoModelForSequenceClassification.from_pretrained(model_name_or_path,\n",
    "                                                                        num_labels = 3,\n",
    "                                                                        ignore_mismatched_sizes=True,\n",
    "                                                                        output_attentions = False,\n",
    "                                                                        output_hidden_states = False)\n",
    "    def forward(self, **inputs):\n",
    "        return self.model(**inputs)\n",
    "\n",
    "    def training_step(self, batch, batch_idx):\n",
    "        outputs = self.model(input_ids=batch[0],\n",
    "                       attention_mask=batch[1],\n",
    "                       labels=batch[2])\n",
    "        return outputs.loss\n",
    "\n",
    "\n",
    "    def validation_step(\n",
    "        self, batch: Tuple[torch.Tensor, torch.Tensor], batch_idx: int\n",
    "    ) -> torch.Tensor:\n",
    "        \n",
    "        outputs = self.model(input_ids=batch[0],\n",
    "                       attention_mask=batch[1],\n",
    "                       labels=batch[2])\n",
    "\n",
    "        predictions = torch.argmax(outputs.logits, axis=1)\n",
    "        labels = batch[2]\n",
    "        self.validation_step_outputs.append({\"loss\": outputs.loss, \"predictions\": predictions, \"labels\": batch[3]})\n",
    "\n",
    "\n",
    "    def on_validation_epoch_end(self):\n",
    "        outputs = self.validation_step_outputs\n",
    "        predictions = torch.cat([x[\"predictions\"] for x in outputs]).detach().cpu().numpy()\n",
    "        labels = torch.cat([x[\"labels\"] for x in outputs]).detach().cpu().numpy()\n",
    "        loss = torch.stack([x[\"loss\"] for x in outputs]).mean()\n",
    "        self.log(\"validation_loss\", loss, prog_bar=True)\n",
    "        self.log(\"validation_accuracy\", (labels==predictions).sum()/len(predictions), prog_bar=True)\n",
    "        self.validation_step_outputs.clear()\n",
    "\n",
    "    def configure_optimizers(self):\n",
    "        optimizer = torch.optim.Adam(self.parameters(), lr=self.larning_rate, eps=self.adam_epsilon, weight_decay=self.weight_decay)\n",
    "        return [optimizer]\n",
    "\n",
    "    def save_pretrained(self, savefile):\n",
    "        self.model.save_pretrained(savefile)\n",
    "      "
   ]
  },
  {
   "cell_type": "markdown",
   "id": "c0f7c3a0-2b0f-4684-b57d-b16eef60a423",
   "metadata": {},
   "source": [
    "# Train model"
   ]
  },
  {
   "cell_type": "code",
   "execution_count": 11,
   "id": "3bd48647-941a-4d94-95d3-670e3806f99e",
   "metadata": {
    "colab": {
     "base_uri": "https://localhost:8080/",
     "height": 292,
     "referenced_widgets": [
      "1dacaeb0c11344e1910556cb3f942052",
      "b7c742a25b2c40bfa979ed9c94b62ecc",
      "b5ee3745ecbe46cdbf153f3c84f10dc1",
      "1304e7704867490bb9b0872e3c228a14",
      "05e01d2b549547a19d94236055a03f56",
      "0d6ac5513a8f44028141b8dfbf37d205",
      "9fa44429727448058ecd154c64381038",
      "49a49da8f98043f0a1eea3ac733caf0c",
      "a6d5b09228414232a47b8106299803fb",
      "ba6adb1cd11e4be887ea3a6d60ca23fb",
      "2fe17b2f22fc4329a157167216426fdd",
      "1eb4ba3dfc48459f99adddd5239dd749",
      "585e42df913b4299ae638c7376681edc",
      "e4a996a4dfe246c78c3e48b16e700cef",
      "8aebb2b0f9654bc7828b57c785d1723f",
      "c04f9e73ed364ffcbc0085a1b2b4ef0f",
      "cd9adf9d2c8443838b639cdc689c13d1",
      "bf71fb48587f479eb05d8a5455681094",
      "cf19be963b5e4f2da1cf5182b9630141",
      "5414e1765165431ea1699153f7bad0f8",
      "7cbe15aaccc748d39794652d0431c70a",
      "b1cec8b9636c4012b75822a94b29a28a",
      "7d3557be7eca442da041ca19871acb5c",
      "b4acafa342bd43e089da3f430df3d776",
      "4e5cbe80dd6f44efa3a001ee7e015b33",
      "fb410a780f9742098b59f243f8f4d68a",
      "ca8587dff85942198721f352190f1bee",
      "8ec6dc3641f34a97b2a1f8bdfc82dca4",
      "fc258ef73bb3412ea64d89687617b611",
      "fc7eaeae4791459ca838b78f9626dcbb",
      "565201174c17421caef0b02b9e31428f",
      "d5d8495ba07a412f81310aa302812419",
      "b842d559a42547a38a70e6d2846b22a5"
     ]
    },
    "id": "3bd48647-941a-4d94-95d3-670e3806f99e",
    "outputId": "e4cbb5f1-7aca-474a-857c-e274f89bd226",
    "scrolled": true
   },
   "outputs": [
    {
     "name": "stderr",
     "output_type": "stream",
     "text": [
      "GPU available: True (cuda), used: False\n",
      "TPU available: False, using: 0 TPU cores\n",
      "IPU available: False, using: 0 IPUs\n",
      "HPU available: False, using: 0 HPUs\n",
      "\n",
      "  | Name  | Type                                | Params\n",
      "--------------------------------------------------------------\n",
      "0 | model | XLMRobertaForSequenceClassification | 278 M \n",
      "--------------------------------------------------------------\n",
      "278 M     Trainable params\n",
      "0         Non-trainable params\n",
      "278 M     Total params\n",
      "1,112.184 Total estimated model params size (MB)\n"
     ]
    },
    {
     "data": {
      "application/vnd.jupyter.widget-view+json": {
       "model_id": "",
       "version_major": 2,
       "version_minor": 0
      },
      "text/plain": [
       "Sanity Checking: 0it [00:00, ?it/s]"
      ]
     },
     "metadata": {},
     "output_type": "display_data"
    },
    {
     "data": {
      "application/vnd.jupyter.widget-view+json": {
       "model_id": "5a1de208215749dc9544537ce7544875",
       "version_major": 2,
       "version_minor": 0
      },
      "text/plain": [
       "Training: 0it [00:00, ?it/s]"
      ]
     },
     "metadata": {},
     "output_type": "display_data"
    },
    {
     "data": {
      "application/vnd.jupyter.widget-view+json": {
       "model_id": "",
       "version_major": 2,
       "version_minor": 0
      },
      "text/plain": [
       "Validation: 0it [00:00, ?it/s]"
      ]
     },
     "metadata": {},
     "output_type": "display_data"
    },
    {
     "data": {
      "application/vnd.jupyter.widget-view+json": {
       "model_id": "",
       "version_major": 2,
       "version_minor": 0
      },
      "text/plain": [
       "Validation: 0it [00:00, ?it/s]"
      ]
     },
     "metadata": {},
     "output_type": "display_data"
    },
    {
     "data": {
      "application/vnd.jupyter.widget-view+json": {
       "model_id": "",
       "version_major": 2,
       "version_minor": 0
      },
      "text/plain": [
       "Validation: 0it [00:00, ?it/s]"
      ]
     },
     "metadata": {},
     "output_type": "display_data"
    },
    {
     "name": "stderr",
     "output_type": "stream",
     "text": [
      "`Trainer.fit` stopped: `max_epochs=3` reached.\n"
     ]
    }
   ],
   "source": [
    "epochs = 3\n",
    "learning_rate = 1e-5\n",
    "adam_epsilon = 1e-7\n",
    "weight_decay = 0.005\n",
    "\n",
    "early_stopping = EarlyStopping(monitor=\"validation_loss\", mode=\"min\", patience=1)\n",
    "model = ClassificationModel(model_name_or_path, learning_rate, adam_epsilon, weight_decay)\n",
    "trainer = Trainer(accelerator=\"cpu\", max_epochs=epochs, callbacks=[early_stopping])\n",
    "trainer.fit(model, train_dataloader, validation_dataloader)"
   ]
  },
  {
   "cell_type": "markdown",
   "id": "d239b8bf-41b9-41eb-abc6-b7c4ac921324",
   "metadata": {},
   "source": [
    "# Fine Tune model"
   ]
  },
  {
   "cell_type": "code",
   "execution_count": 12,
   "id": "40475474-7de1-40cf-816f-f3bd5314f60a",
   "metadata": {},
   "outputs": [
    {
     "name": "stderr",
     "output_type": "stream",
     "text": [
      "GPU available: True (cuda), used: False\n",
      "TPU available: False, using: 0 TPU cores\n",
      "IPU available: False, using: 0 IPUs\n",
      "HPU available: False, using: 0 HPUs\n"
     ]
    },
    {
     "data": {
      "application/vnd.jupyter.widget-view+json": {
       "model_id": "b522b64b72ad4c77ae0131f3bee8614d",
       "version_major": 2,
       "version_minor": 0
      },
      "text/plain": [
       "Finding best initial lr:   0%|          | 0/100 [00:00<?, ?it/s]"
      ]
     },
     "metadata": {},
     "output_type": "display_data"
    },
    {
     "name": "stderr",
     "output_type": "stream",
     "text": [
      "`Trainer.fit` stopped: `max_steps=100` reached.\n",
      "Learning rate set to 1.0261650128895843e-05\n",
      "Restoring states from the checkpoint path at /home/neofelia/Desktop/kaggle/Contradictory, My Dear Watson/.lr_find_e7408593-954d-46c8-a6d7-2fb81d3c908c.ckpt\n",
      "Restored all states from the checkpoint at /home/neofelia/Desktop/kaggle/Contradictory, My Dear Watson/.lr_find_e7408593-954d-46c8-a6d7-2fb81d3c908c.ckpt\n"
     ]
    },
    {
     "data": {
      "image/png": "[encoded data removed]",
      "text/plain": [
       "<Figure size 640x480 with 1 Axes>"
      ]
     },
     "metadata": {},
     "output_type": "display_data"
    }
   ],
   "source": [
    "from pytorch_lightning.tuner import Tuner\n",
    "\n",
    "epochs = 3\n",
    "learning_rate = 1e-5\n",
    "adam_epsilon = 1e-7\n",
    "weight_decay = 0.005\n",
    "\n",
    "early_stopping = EarlyStopping(monitor=\"validation_loss\", mode=\"min\", patience=1)\n",
    "\n",
    "model = ClassificationModel(model_name_or_path, learning_rate, adam_epsilon, weight_decay)\n",
    "\n",
    "trainer = Trainer(accelerator=\"cpu\", max_epochs=epochs)\n",
    "\n",
    "tuner = Tuner(trainer)\n",
    "lr_finder = tuner.lr_find(model,\n",
    "                          attr_name=\"larning_rate\",\n",
    "                          train_dataloaders=train_dataloader,\n",
    "                          val_dataloaders=validation_dataloader,\n",
    "                          min_lr=5e-6,\n",
    "                          max_lr=1e-4,\n",
    "                          early_stop_threshold=None\n",
    "                        )\n",
    "\n",
    "\n",
    "# Plot with\n",
    "fig = lr_finder.plot(suggest=True)\n",
    "fig.show()\n",
    "\n",
    "# Results can be found in\n",
    "#lr_finder.results\n"
   ]
  },
  {
   "cell_type": "markdown",
   "id": "38a8838f-032c-47e4-b05e-81de7b740442",
   "metadata": {
    "id": "38a8838f-032c-47e4-b05e-81de7b740442"
   },
   "source": [
    "# Evaluate"
   ]
  },
  {
   "cell_type": "code",
   "execution_count": 12,
   "id": "29f05e96-e759-4a22-9243-286d91da08c8",
   "metadata": {
    "id": "29f05e96-e759-4a22-9243-286d91da08c8"
   },
   "outputs": [],
   "source": [
    "def evaluate(model, dataloader):\n",
    "\n",
    "    true_labels = []\n",
    "    predicted_labels = []\n",
    "    language = []\n",
    "\n",
    "    for i, batch in enumerate(dataloader):\n",
    "\n",
    "        output = model(input_ids=batch[0],\n",
    "                          attention_mask=batch[1],\n",
    "                          labels=batch[2])\n",
    "        true_labels.append(batch[2].to('cpu').numpy())\n",
    "        language.append(batch[3].to('cpu').numpy())\n",
    "        predicted_labels.append(torch.argmax(output.logits.detach().cpu(), 1).numpy())\n",
    "\n",
    "    true_labels = np.concatenate(true_labels, axis=0)\n",
    "    predicted_labels = np.concatenate(predicted_labels, axis=0)\n",
    "    language = np.concatenate(language, axis=0)\n",
    "\n",
    "    res_df = pd.DataFrame({\"TrueLabel\": true_labels, \"PredictedLabel\": predicted_labels, \"LanguageId\": language})\n",
    "    res_df[\"Language\"] = res_df[\"LanguageId\"].map(ids_to_language)\n",
    "    res_df[\"CorrectPrediction\"] = (res_df[\"TrueLabel\"] == res_df[\"PredictedLabel\"])\n",
    "    res_df = res_df.groupby(\"Language\")[\"CorrectPrediction\"].agg(CorrectPredictions=\"sum\", AllPredictions=\"count\")\n",
    "    res_df[\"Accuracy\"] = round(res_df['CorrectPredictions']/res_df[\"AllPredictions\"], 2)\n",
    "    res_dict = res_df[\"Accuracy\"].to_dict()\n",
    "    res_dict[\"Average\"] = round(sum(true_labels==predicted_labels)/len(true_labels), 2)\n",
    "    res_dict[\"NumberOfSamples\"] = len(true_labels)\n",
    "\n",
    "    print(res_dict)\n",
    "    cm = confusion_matrix(true_labels, predicted_labels, labels=[0,1,2], normalize='true')\n",
    "    ax= plt.subplot()\n",
    "    sns.heatmap(np.round(cm, 2), annot=True, fmt='g', ax=ax, cmap='cool')\n",
    "    ax.set_xlabel('Predicted labels')\n",
    "    ax.set_ylabel('True labels')\n",
    "    ax.set_title('Confusion Matrix')\n",
    "    ax.xaxis.set_ticklabels([\"entailment\", \"neutral\", \"contradiction\"])\n",
    "    ax.yaxis.set_ticklabels([\"entailment\", \"neutral\", \"contradiction\"])\n",
    "    plt.show()\n",
    "\n",
    "    return res_dict"
   ]
  },
  {
   "cell_type": "code",
   "execution_count": 13,
   "id": "0959d732-32cc-40ce-8439-e6a9440a138f",
   "metadata": {},
   "outputs": [
    {
     "name": "stdout",
     "output_type": "stream",
     "text": [
      "{'Arabic': 0.93, 'Bulgarian': 0.98, 'Chinese': 0.96, 'English': 0.77, 'French': 0.94, 'German': 0.97, 'Greek': 0.98, 'Hindi': 0.95, 'Russian': 0.96, 'Spanish': 0.95, 'Swahili': 0.91, 'Thai': 0.94, 'Turkish': 0.95, 'Urdu': 0.92, 'Vietnamese': 0.96, 'Average': 0.85, 'NumberOfSamples': 9696}\n"
     ]
    },
    {
     "data": {
      "image/png": "[encoded data removed]",
      "text/plain": [
       "<Figure size 640x480 with 2 Axes>"
      ]
     },
     "metadata": {},
     "output_type": "display_data"
    },
    {
     "name": "stdout",
     "output_type": "stream",
     "text": [
      "{'Arabic': 0.98, 'Bulgarian': 0.95, 'Chinese': 0.96, 'English': 0.75, 'French': 0.98, 'German': 0.91, 'Greek': 0.9, 'Hindi': 0.93, 'Russian': 0.99, 'Spanish': 0.98, 'Swahili': 0.9, 'Thai': 0.92, 'Turkish': 0.94, 'Urdu': 0.95, 'Vietnamese': 0.93, 'Average': 0.83, 'NumberOfSamples': 2424}\n"
     ]
    },
    {
     "data": {
      "image/png": "[encoded data removed]",
      "text/plain": [
       "<Figure size 640x480 with 2 Axes>"
      ]
     },
     "metadata": {},
     "output_type": "display_data"
    },
    {
     "data": {
      "text/plain": [
       "{'Arabic': 0.98,\n",
       " 'Bulgarian': 0.95,\n",
       " 'Chinese': 0.96,\n",
       " 'English': 0.75,\n",
       " 'French': 0.98,\n",
       " 'German': 0.91,\n",
       " 'Greek': 0.9,\n",
       " 'Hindi': 0.93,\n",
       " 'Russian': 0.99,\n",
       " 'Spanish': 0.98,\n",
       " 'Swahili': 0.9,\n",
       " 'Thai': 0.92,\n",
       " 'Turkish': 0.94,\n",
       " 'Urdu': 0.95,\n",
       " 'Vietnamese': 0.93,\n",
       " 'Average': 0.83,\n",
       " 'NumberOfSamples': 2424}"
      ]
     },
     "execution_count": 13,
     "metadata": {},
     "output_type": "execute_result"
    }
   ],
   "source": [
    "evaluate(model, train_dataloader)\n",
    "evaluate(model, validation_dataloader)"
   ]
  },
  {
   "cell_type": "markdown",
   "id": "4d3db305-dcb2-4fee-8b11-2acfce018e7f",
   "metadata": {
    "id": "4d3db305-dcb2-4fee-8b11-2acfce018e7f"
   },
   "source": [
    "# Save pretrained model"
   ]
  },
  {
   "cell_type": "code",
   "execution_count": null,
   "id": "-OcttI8DA4Uw",
   "metadata": {
    "colab": {
     "base_uri": "https://localhost:8080/"
    },
    "id": "-OcttI8DA4Uw",
    "outputId": "89b09f4d-f63d-49e2-eb69-3e2b65469774"
   },
   "outputs": [],
   "source": [
    "model.save_pretrained(\"classification_model\")\n",
    "tokenizer.save_pretrained(\"tokenizer\")"
   ]
  },
  {
   "cell_type": "code",
   "execution_count": 20,
   "id": "eCL81FV9BMjZ",
   "metadata": {
    "id": "eCL81FV9BMjZ"
   },
   "outputs": [],
   "source": [
    "model= AutoModelForSequenceClassification.from_pretrained(\"classification_model\",\n",
    "                                                                num_labels = 3,\n",
    "                                                                ignore_mismatched_sizes=True,\n",
    "                                                                output_attentions = False,\n",
    "                                                                output_hidden_states = False)\n"
   ]
  },
  {
   "cell_type": "markdown",
   "id": "2f985cc5-d5ba-4647-bded-ed83c979906c",
   "metadata": {
    "id": "jO-NbcqnB13p"
   },
   "source": [
    "# Predict"
   ]
  },
  {
   "cell_type": "code",
   "execution_count": 32,
   "id": "9b71d8bc-d0b8-4ca4-a286-75d984054d4f",
   "metadata": {},
   "outputs": [
    {
     "data": {
      "text/html": [
       "<div>\n",
       "<style scoped>\n",
       "    .dataframe tbody tr th:only-of-type {\n",
       "        vertical-align: middle;\n",
       "    }\n",
       "\n",
       "    .dataframe tbody tr th {\n",
       "        vertical-align: top;\n",
       "    }\n",
       "\n",
       "    .dataframe thead th {\n",
       "        text-align: right;\n",
       "    }\n",
       "</style>\n",
       "<table border=\"1\" class=\"dataframe\">\n",
       "  <thead>\n",
       "    <tr style=\"text-align: right;\">\n",
       "      <th></th>\n",
       "      <th>id</th>\n",
       "      <th>inputs</th>\n",
       "    </tr>\n",
       "  </thead>\n",
       "  <tbody>\n",
       "    <tr>\n",
       "      <th>0</th>\n",
       "      <td>c6d58c3f69</td>\n",
       "      <td>[CLS] بکس، کیسی، راہیل، یسعیاہ، کیلی، کیلی، اور کولمبین ہائی اسکول کے دوسرے طلبا کے نام سے بکسوں کو نشان زد کیا جائے گا جس نے اس سال پہلے اپنی زندگی کھو دی [SEP] کیسی کے لئے کوئی یادگار نہیں ہوگا, کولمین ہائی اسکول کے طالب علموں میں سے ایک جو مر گیا. [SEP]</td>\n",
       "    </tr>\n",
       "    <tr>\n",
       "      <th>1</th>\n",
       "      <td>cefcc82292</td>\n",
       "      <td>[CLS] هذا هو ما تم نصحنا به. [SEP] عندما يتم إخبارهم بما يجب عليهم فعله ، فشلت الإدارة في السماح لنا بالدخول إلى الأسرار التجارية. [SEP]</td>\n",
       "    </tr>\n",
       "    <tr>\n",
       "      <th>2</th>\n",
       "      <td>e98005252c</td>\n",
       "      <td>[CLS] et cela est en grande partie dû au fait que les mères prennent de la drogue [SEP] les mères se droguent. [SEP]</td>\n",
       "    </tr>\n",
       "    <tr>\n",
       "      <th>3</th>\n",
       "      <td>58518c10ba</td>\n",
       "      <td>[CLS] 与城市及其他公民及社区组织代表就ima的艺术发展进行对话&amp;amp [SEP] ima与其他组织合作，因为它们都依靠共享资金。 [SEP]</td>\n",
       "    </tr>\n",
       "    <tr>\n",
       "      <th>4</th>\n",
       "      <td>c32b0d16df</td>\n",
       "      <td>[CLS] она все еще была там. [SEP] мы думали, что она ушла, однако, она осталась. [SEP]</td>\n",
       "    </tr>\n",
       "  </tbody>\n",
       "</table>\n",
       "</div>"
      ],
      "text/plain": [
       "           id  \\\n",
       "0  c6d58c3f69   \n",
       "1  cefcc82292   \n",
       "2  e98005252c   \n",
       "3  58518c10ba   \n",
       "4  c32b0d16df   \n",
       "\n",
       "                                                                                                                                                                                                                                                             inputs  \n",
       "0  [CLS] بکس، کیسی، راہیل، یسعیاہ، کیلی، کیلی، اور کولمبین ہائی اسکول کے دوسرے طلبا کے نام سے بکسوں کو نشان زد کیا جائے گا جس نے اس سال پہلے اپنی زندگی کھو دی [SEP] کیسی کے لئے کوئی یادگار نہیں ہوگا, کولمین ہائی اسکول کے طالب علموں میں سے ایک جو مر گیا. [SEP]  \n",
       "1                                                                                                                          [CLS] هذا هو ما تم نصحنا به. [SEP] عندما يتم إخبارهم بما يجب عليهم فعله ، فشلت الإدارة في السماح لنا بالدخول إلى الأسرار التجارية. [SEP]  \n",
       "2                                                                                                                                              [CLS] et cela est en grande partie dû au fait que les mères prennent de la drogue [SEP] les mères se droguent. [SEP]  \n",
       "3                                                                                                                                                                                        [CLS] 与城市及其他公民及社区组织代表就ima的艺术发展进行对话&amp [SEP] ima与其他组织合作，因为它们都依靠共享资金。 [SEP]  \n",
       "4                                                                                                                                                                            [CLS] она все еще была там. [SEP] мы думали, что она ушла, однако, она осталась. [SEP]  "
      ]
     },
     "execution_count": 32,
     "metadata": {},
     "output_type": "execute_result"
    }
   ],
   "source": [
    "test_df = pd.read_csv(\"data/test.csv\")\n",
    "\n",
    "test_df['premise']  = test_df['premise'].apply(lambda x: x.lower())\n",
    "test_df['hypothesis']  = test_df['hypothesis'].apply(lambda x: x.lower())\n",
    "test_df['inputs'] = \"[CLS] \" + test_df['premise'] + \" [SEP] \" + test_df['hypothesis'] + \" [SEP]\"\n",
    "test_df.drop([\"premise\", \"hypothesis\", \"lang_abv\", \"language\"], axis=1, inplace=True)\n",
    "\n",
    "test_df.head()"
   ]
  },
  {
   "cell_type": "code",
   "execution_count": 33,
   "id": "e441cf3c-f2a1-4d92-bcd9-57b70766df09",
   "metadata": {},
   "outputs": [],
   "source": [
    "def predict(inputs):\n",
    "\n",
    "    encoded_dict = tokenizer(inputs,\n",
    "                            add_special_tokens = True,\n",
    "                            return_attention_mask = True,\n",
    "                            return_tensors = 'pt',\n",
    "                   )\n",
    "\n",
    "    output = model(input_ids=encoded_dict[\"input_ids\"],\n",
    "                          attention_mask=encoded_dict[\"attention_mask\"])\n",
    "    label = torch.argmax(output.logits.detach().cpu(), 1)\n",
    "    return int(label)\n",
    "\n",
    "    "
   ]
  },
  {
   "cell_type": "code",
   "execution_count": 34,
   "id": "084534a9-db13-4dc8-ae00-963e53669c1b",
   "metadata": {},
   "outputs": [],
   "source": [
    "test_df[\"prediction\"] = test_df[\"inputs\"].apply(lambda x: predict(x))"
   ]
  },
  {
   "cell_type": "code",
   "execution_count": 35,
   "id": "b137485e-bf93-4a3d-b567-183fc0381b3e",
   "metadata": {},
   "outputs": [],
   "source": [
    "test_df[[\"id\", \"prediction\"]].to_csv(\"data/submission.csv\", index=False)"
   ]
  },
  {
   "cell_type": "code",
   "execution_count": null,
   "id": "52655110-af15-4385-853f-06d45f45539b",
   "metadata": {},
   "outputs": [],
   "source": []
  }
 ],
 "metadata": {
  "accelerator": "GPU",
  "colab": {
   "cell_execution_strategy": "setup",
   "gpuType": "T4",
   "provenance": []
  },
  "kernelspec": {
   "display_name": "Python 3 (ipykernel)",
   "language": "python",
   "name": "python3"
  },
  "language_info": {
   "codemirror_mode": {
    "name": "ipython",
    "version": 3
   },
   "file_extension": ".py",
   "mimetype": "text/x-python",
   "name": "python",
   "nbconvert_exporter": "python",
   "pygments_lexer": "ipython3",
   "version": "3.10.10"
  },
  "widgets": {
   "application/vnd.jupyter.widget-state+json": {
    "05e01d2b549547a19d94236055a03f56": {
     "model_module": "@jupyter-widgets/base",
     "model_module_version": "1.2.0",
     "model_name": "LayoutModel",
     "state": {
      "_model_module": "@jupyter-widgets/base",
      "_model_module_version": "1.2.0",
      "_model_name": "LayoutModel",
      "_view_count": null,
      "_view_module": "@jupyter-widgets/base",
      "_view_module_version": "1.2.0",
      "_view_name": "LayoutView",
      "align_content": null,
      "align_items": null,
      "align_self": null,
      "border": null,
      "bottom": null,
      "display": "inline-flex",
      "flex": null,
      "flex_flow": "row wrap",
      "grid_area": null,
      "grid_auto_columns": null,
      "grid_auto_flow": null,
      "grid_auto_rows": null,
      "grid_column": null,
      "grid_gap": null,
      "grid_row": null,
      "grid_template_areas": null,
      "grid_template_columns": null,
      "grid_template_rows": null,
      "height": null,
      "justify_content": null,
      "justify_items": null,
      "left": null,
      "margin": null,
      "max_height": null,
      "max_width": null,
      "min_height": null,
      "min_width": null,
      "object_fit": null,
      "object_position": null,
      "order": null,
      "overflow": null,
      "overflow_x": null,
      "overflow_y": null,
      "padding": null,
      "right": null,
      "top": null,
      "visibility": "hidden",
      "width": "100%"
     }
    },
    "0d6ac5513a8f44028141b8dfbf37d205": {
     "model_module": "@jupyter-widgets/base",
     "model_module_version": "1.2.0",
     "model_name": "LayoutModel",
     "state": {
      "_model_module": "@jupyter-widgets/base",
      "_model_module_version": "1.2.0",
      "_model_name": "LayoutModel",
      "_view_count": null,
      "_view_module": "@jupyter-widgets/base",
      "_view_module_version": "1.2.0",
      "_view_name": "LayoutView",
      "align_content": null,
      "align_items": null,
      "align_self": null,
      "border": null,
      "bottom": null,
      "display": null,
      "flex": null,
      "flex_flow": null,
      "grid_area": null,
      "grid_auto_columns": null,
      "grid_auto_flow": null,
      "grid_auto_rows": null,
      "grid_column": null,
      "grid_gap": null,
      "grid_row": null,
      "grid_template_areas": null,
      "grid_template_columns": null,
      "grid_template_rows": null,
      "height": null,
      "justify_content": null,
      "justify_items": null,
      "left": null,
      "margin": null,
      "max_height": null,
      "max_width": null,
      "min_height": null,
      "min_width": null,
      "object_fit": null,
      "object_position": null,
      "order": null,
      "overflow": null,
      "overflow_x": null,
      "overflow_y": null,
      "padding": null,
      "right": null,
      "top": null,
      "visibility": null,
      "width": null
     }
    },
    "1304e7704867490bb9b0872e3c228a14": {
     "model_module": "@jupyter-widgets/controls",
     "model_module_version": "1.5.0",
     "model_name": "HTMLModel",
     "state": {
      "_dom_classes": [],
      "_model_module": "@jupyter-widgets/controls",
      "_model_module_version": "1.5.0",
      "_model_name": "HTMLModel",
      "_view_count": null,
      "_view_module": "@jupyter-widgets/controls",
      "_view_module_version": "1.5.0",
      "_view_name": "HTMLView",
      "description": "",
      "description_tooltip": null,
      "layout": "IPY_MODEL_ba6adb1cd11e4be887ea3a6d60ca23fb",
      "placeholder": "​",
      "style": "IPY_MODEL_2fe17b2f22fc4329a157167216426fdd",
      "value": " 2/2 [00:00&lt;00:00, 29.43it/s]"
     }
    },
    "1dacaeb0c11344e1910556cb3f942052": {
     "model_module": "@jupyter-widgets/controls",
     "model_module_version": "1.5.0",
     "model_name": "HBoxModel",
     "state": {
      "_dom_classes": [],
      "_model_module": "@jupyter-widgets/controls",
      "_model_module_version": "1.5.0",
      "_model_name": "HBoxModel",
      "_view_count": null,
      "_view_module": "@jupyter-widgets/controls",
      "_view_module_version": "1.5.0",
      "_view_name": "HBoxView",
      "box_style": "",
      "children": [
       "IPY_MODEL_b7c742a25b2c40bfa979ed9c94b62ecc",
       "IPY_MODEL_b5ee3745ecbe46cdbf153f3c84f10dc1",
       "IPY_MODEL_1304e7704867490bb9b0872e3c228a14"
      ],
      "layout": "IPY_MODEL_05e01d2b549547a19d94236055a03f56"
     }
    },
    "1eb4ba3dfc48459f99adddd5239dd749": {
     "model_module": "@jupyter-widgets/controls",
     "model_module_version": "1.5.0",
     "model_name": "HBoxModel",
     "state": {
      "_dom_classes": [],
      "_model_module": "@jupyter-widgets/controls",
      "_model_module_version": "1.5.0",
      "_model_name": "HBoxModel",
      "_view_count": null,
      "_view_module": "@jupyter-widgets/controls",
      "_view_module_version": "1.5.0",
      "_view_name": "HBoxView",
      "box_style": "",
      "children": [
       "IPY_MODEL_585e42df913b4299ae638c7376681edc",
       "IPY_MODEL_e4a996a4dfe246c78c3e48b16e700cef",
       "IPY_MODEL_8aebb2b0f9654bc7828b57c785d1723f"
      ],
      "layout": "IPY_MODEL_c04f9e73ed364ffcbc0085a1b2b4ef0f"
     }
    },
    "2fe17b2f22fc4329a157167216426fdd": {
     "model_module": "@jupyter-widgets/controls",
     "model_module_version": "1.5.0",
     "model_name": "DescriptionStyleModel",
     "state": {
      "_model_module": "@jupyter-widgets/controls",
      "_model_module_version": "1.5.0",
      "_model_name": "DescriptionStyleModel",
      "_view_count": null,
      "_view_module": "@jupyter-widgets/base",
      "_view_module_version": "1.2.0",
      "_view_name": "StyleView",
      "description_width": ""
     }
    },
    "49a49da8f98043f0a1eea3ac733caf0c": {
     "model_module": "@jupyter-widgets/base",
     "model_module_version": "1.2.0",
     "model_name": "LayoutModel",
     "state": {
      "_model_module": "@jupyter-widgets/base",
      "_model_module_version": "1.2.0",
      "_model_name": "LayoutModel",
      "_view_count": null,
      "_view_module": "@jupyter-widgets/base",
      "_view_module_version": "1.2.0",
      "_view_name": "LayoutView",
      "align_content": null,
      "align_items": null,
      "align_self": null,
      "border": null,
      "bottom": null,
      "display": null,
      "flex": "2",
      "flex_flow": null,
      "grid_area": null,
      "grid_auto_columns": null,
      "grid_auto_flow": null,
      "grid_auto_rows": null,
      "grid_column": null,
      "grid_gap": null,
      "grid_row": null,
      "grid_template_areas": null,
      "grid_template_columns": null,
      "grid_template_rows": null,
      "height": null,
      "justify_content": null,
      "justify_items": null,
      "left": null,
      "margin": null,
      "max_height": null,
      "max_width": null,
      "min_height": null,
      "min_width": null,
      "object_fit": null,
      "object_position": null,
      "order": null,
      "overflow": null,
      "overflow_x": null,
      "overflow_y": null,
      "padding": null,
      "right": null,
      "top": null,
      "visibility": null,
      "width": null
     }
    },
    "4e5cbe80dd6f44efa3a001ee7e015b33": {
     "model_module": "@jupyter-widgets/controls",
     "model_module_version": "1.5.0",
     "model_name": "FloatProgressModel",
     "state": {
      "_dom_classes": [],
      "_model_module": "@jupyter-widgets/controls",
      "_model_module_version": "1.5.0",
      "_model_name": "FloatProgressModel",
      "_view_count": null,
      "_view_module": "@jupyter-widgets/controls",
      "_view_module_version": "1.5.0",
      "_view_name": "ProgressView",
      "bar_style": "",
      "description": "",
      "description_tooltip": null,
      "layout": "IPY_MODEL_fc7eaeae4791459ca838b78f9626dcbb",
      "max": 303,
      "min": 0,
      "orientation": "horizontal",
      "style": "IPY_MODEL_565201174c17421caef0b02b9e31428f",
      "value": 303
     }
    },
    "5414e1765165431ea1699153f7bad0f8": {
     "model_module": "@jupyter-widgets/controls",
     "model_module_version": "1.5.0",
     "model_name": "ProgressStyleModel",
     "state": {
      "_model_module": "@jupyter-widgets/controls",
      "_model_module_version": "1.5.0",
      "_model_name": "ProgressStyleModel",
      "_view_count": null,
      "_view_module": "@jupyter-widgets/base",
      "_view_module_version": "1.2.0",
      "_view_name": "StyleView",
      "bar_color": null,
      "description_width": ""
     }
    },
    "565201174c17421caef0b02b9e31428f": {
     "model_module": "@jupyter-widgets/controls",
     "model_module_version": "1.5.0",
     "model_name": "ProgressStyleModel",
     "state": {
      "_model_module": "@jupyter-widgets/controls",
      "_model_module_version": "1.5.0",
      "_model_name": "ProgressStyleModel",
      "_view_count": null,
      "_view_module": "@jupyter-widgets/base",
      "_view_module_version": "1.2.0",
      "_view_name": "StyleView",
      "bar_color": null,
      "description_width": ""
     }
    },
    "585e42df913b4299ae638c7376681edc": {
     "model_module": "@jupyter-widgets/controls",
     "model_module_version": "1.5.0",
     "model_name": "HTMLModel",
     "state": {
      "_dom_classes": [],
      "_model_module": "@jupyter-widgets/controls",
      "_model_module_version": "1.5.0",
      "_model_name": "HTMLModel",
      "_view_count": null,
      "_view_module": "@jupyter-widgets/controls",
      "_view_module_version": "1.5.0",
      "_view_name": "HTMLView",
      "description": "",
      "description_tooltip": null,
      "layout": "IPY_MODEL_cd9adf9d2c8443838b639cdc689c13d1",
      "placeholder": "​",
      "style": "IPY_MODEL_bf71fb48587f479eb05d8a5455681094",
      "value": "Epoch 0: 100%"
     }
    },
    "7cbe15aaccc748d39794652d0431c70a": {
     "model_module": "@jupyter-widgets/base",
     "model_module_version": "1.2.0",
     "model_name": "LayoutModel",
     "state": {
      "_model_module": "@jupyter-widgets/base",
      "_model_module_version": "1.2.0",
      "_model_name": "LayoutModel",
      "_view_count": null,
      "_view_module": "@jupyter-widgets/base",
      "_view_module_version": "1.2.0",
      "_view_name": "LayoutView",
      "align_content": null,
      "align_items": null,
      "align_self": null,
      "border": null,
      "bottom": null,
      "display": null,
      "flex": null,
      "flex_flow": null,
      "grid_area": null,
      "grid_auto_columns": null,
      "grid_auto_flow": null,
      "grid_auto_rows": null,
      "grid_column": null,
      "grid_gap": null,
      "grid_row": null,
      "grid_template_areas": null,
      "grid_template_columns": null,
      "grid_template_rows": null,
      "height": null,
      "justify_content": null,
      "justify_items": null,
      "left": null,
      "margin": null,
      "max_height": null,
      "max_width": null,
      "min_height": null,
      "min_width": null,
      "object_fit": null,
      "object_position": null,
      "order": null,
      "overflow": null,
      "overflow_x": null,
      "overflow_y": null,
      "padding": null,
      "right": null,
      "top": null,
      "visibility": null,
      "width": null
     }
    },
    "7d3557be7eca442da041ca19871acb5c": {
     "model_module": "@jupyter-widgets/controls",
     "model_module_version": "1.5.0",
     "model_name": "HBoxModel",
     "state": {
      "_dom_classes": [],
      "_model_module": "@jupyter-widgets/controls",
      "_model_module_version": "1.5.0",
      "_model_name": "HBoxModel",
      "_view_count": null,
      "_view_module": "@jupyter-widgets/controls",
      "_view_module_version": "1.5.0",
      "_view_name": "HBoxView",
      "box_style": "",
      "children": [
       "IPY_MODEL_b4acafa342bd43e089da3f430df3d776",
       "IPY_MODEL_4e5cbe80dd6f44efa3a001ee7e015b33",
       "IPY_MODEL_fb410a780f9742098b59f243f8f4d68a"
      ],
      "layout": "IPY_MODEL_ca8587dff85942198721f352190f1bee"
     }
    },
    "8aebb2b0f9654bc7828b57c785d1723f": {
     "model_module": "@jupyter-widgets/controls",
     "model_module_version": "1.5.0",
     "model_name": "HTMLModel",
     "state": {
      "_dom_classes": [],
      "_model_module": "@jupyter-widgets/controls",
      "_model_module_version": "1.5.0",
      "_model_name": "HTMLModel",
      "_view_count": null,
      "_view_module": "@jupyter-widgets/controls",
      "_view_module_version": "1.5.0",
      "_view_name": "HTMLView",
      "description": "",
      "description_tooltip": null,
      "layout": "IPY_MODEL_7cbe15aaccc748d39794652d0431c70a",
      "placeholder": "​",
      "style": "IPY_MODEL_b1cec8b9636c4012b75822a94b29a28a",
      "value": " 1212/1212 [04:00&lt;00:00,  5.04it/s, v_num=4, validation_loss=1.110, validation_accuracy=0.335]"
     }
    },
    "8ec6dc3641f34a97b2a1f8bdfc82dca4": {
     "model_module": "@jupyter-widgets/base",
     "model_module_version": "1.2.0",
     "model_name": "LayoutModel",
     "state": {
      "_model_module": "@jupyter-widgets/base",
      "_model_module_version": "1.2.0",
      "_model_name": "LayoutModel",
      "_view_count": null,
      "_view_module": "@jupyter-widgets/base",
      "_view_module_version": "1.2.0",
      "_view_name": "LayoutView",
      "align_content": null,
      "align_items": null,
      "align_self": null,
      "border": null,
      "bottom": null,
      "display": null,
      "flex": null,
      "flex_flow": null,
      "grid_area": null,
      "grid_auto_columns": null,
      "grid_auto_flow": null,
      "grid_auto_rows": null,
      "grid_column": null,
      "grid_gap": null,
      "grid_row": null,
      "grid_template_areas": null,
      "grid_template_columns": null,
      "grid_template_rows": null,
      "height": null,
      "justify_content": null,
      "justify_items": null,
      "left": null,
      "margin": null,
      "max_height": null,
      "max_width": null,
      "min_height": null,
      "min_width": null,
      "object_fit": null,
      "object_position": null,
      "order": null,
      "overflow": null,
      "overflow_x": null,
      "overflow_y": null,
      "padding": null,
      "right": null,
      "top": null,
      "visibility": null,
      "width": null
     }
    },
    "9fa44429727448058ecd154c64381038": {
     "model_module": "@jupyter-widgets/controls",
     "model_module_version": "1.5.0",
     "model_name": "DescriptionStyleModel",
     "state": {
      "_model_module": "@jupyter-widgets/controls",
      "_model_module_version": "1.5.0",
      "_model_name": "DescriptionStyleModel",
      "_view_count": null,
      "_view_module": "@jupyter-widgets/base",
      "_view_module_version": "1.2.0",
      "_view_name": "StyleView",
      "description_width": ""
     }
    },
    "a6d5b09228414232a47b8106299803fb": {
     "model_module": "@jupyter-widgets/controls",
     "model_module_version": "1.5.0",
     "model_name": "ProgressStyleModel",
     "state": {
      "_model_module": "@jupyter-widgets/controls",
      "_model_module_version": "1.5.0",
      "_model_name": "ProgressStyleModel",
      "_view_count": null,
      "_view_module": "@jupyter-widgets/base",
      "_view_module_version": "1.2.0",
      "_view_name": "StyleView",
      "bar_color": null,
      "description_width": ""
     }
    },
    "b1cec8b9636c4012b75822a94b29a28a": {
     "model_module": "@jupyter-widgets/controls",
     "model_module_version": "1.5.0",
     "model_name": "DescriptionStyleModel",
     "state": {
      "_model_module": "@jupyter-widgets/controls",
      "_model_module_version": "1.5.0",
      "_model_name": "DescriptionStyleModel",
      "_view_count": null,
      "_view_module": "@jupyter-widgets/base",
      "_view_module_version": "1.2.0",
      "_view_name": "StyleView",
      "description_width": ""
     }
    },
    "b4acafa342bd43e089da3f430df3d776": {
     "model_module": "@jupyter-widgets/controls",
     "model_module_version": "1.5.0",
     "model_name": "HTMLModel",
     "state": {
      "_dom_classes": [],
      "_model_module": "@jupyter-widgets/controls",
      "_model_module_version": "1.5.0",
      "_model_name": "HTMLModel",
      "_view_count": null,
      "_view_module": "@jupyter-widgets/controls",
      "_view_module_version": "1.5.0",
      "_view_name": "HTMLView",
      "description": "",
      "description_tooltip": null,
      "layout": "IPY_MODEL_8ec6dc3641f34a97b2a1f8bdfc82dca4",
      "placeholder": "​",
      "style": "IPY_MODEL_fc258ef73bb3412ea64d89687617b611",
      "value": "Validation DataLoader 0: 100%"
     }
    },
    "b5ee3745ecbe46cdbf153f3c84f10dc1": {
     "model_module": "@jupyter-widgets/controls",
     "model_module_version": "1.5.0",
     "model_name": "FloatProgressModel",
     "state": {
      "_dom_classes": [],
      "_model_module": "@jupyter-widgets/controls",
      "_model_module_version": "1.5.0",
      "_model_name": "FloatProgressModel",
      "_view_count": null,
      "_view_module": "@jupyter-widgets/controls",
      "_view_module_version": "1.5.0",
      "_view_name": "ProgressView",
      "bar_style": "",
      "description": "",
      "description_tooltip": null,
      "layout": "IPY_MODEL_49a49da8f98043f0a1eea3ac733caf0c",
      "max": 2,
      "min": 0,
      "orientation": "horizontal",
      "style": "IPY_MODEL_a6d5b09228414232a47b8106299803fb",
      "value": 2
     }
    },
    "b7c742a25b2c40bfa979ed9c94b62ecc": {
     "model_module": "@jupyter-widgets/controls",
     "model_module_version": "1.5.0",
     "model_name": "HTMLModel",
     "state": {
      "_dom_classes": [],
      "_model_module": "@jupyter-widgets/controls",
      "_model_module_version": "1.5.0",
      "_model_name": "HTMLModel",
      "_view_count": null,
      "_view_module": "@jupyter-widgets/controls",
      "_view_module_version": "1.5.0",
      "_view_name": "HTMLView",
      "description": "",
      "description_tooltip": null,
      "layout": "IPY_MODEL_0d6ac5513a8f44028141b8dfbf37d205",
      "placeholder": "​",
      "style": "IPY_MODEL_9fa44429727448058ecd154c64381038",
      "value": "Sanity Checking DataLoader 0: 100%"
     }
    },
    "b842d559a42547a38a70e6d2846b22a5": {
     "model_module": "@jupyter-widgets/controls",
     "model_module_version": "1.5.0",
     "model_name": "DescriptionStyleModel",
     "state": {
      "_model_module": "@jupyter-widgets/controls",
      "_model_module_version": "1.5.0",
      "_model_name": "DescriptionStyleModel",
      "_view_count": null,
      "_view_module": "@jupyter-widgets/base",
      "_view_module_version": "1.2.0",
      "_view_name": "StyleView",
      "description_width": ""
     }
    },
    "ba6adb1cd11e4be887ea3a6d60ca23fb": {
     "model_module": "@jupyter-widgets/base",
     "model_module_version": "1.2.0",
     "model_name": "LayoutModel",
     "state": {
      "_model_module": "@jupyter-widgets/base",
      "_model_module_version": "1.2.0",
      "_model_name": "LayoutModel",
      "_view_count": null,
      "_view_module": "@jupyter-widgets/base",
      "_view_module_version": "1.2.0",
      "_view_name": "LayoutView",
      "align_content": null,
      "align_items": null,
      "align_self": null,
      "border": null,
      "bottom": null,
      "display": null,
      "flex": null,
      "flex_flow": null,
      "grid_area": null,
      "grid_auto_columns": null,
      "grid_auto_flow": null,
      "grid_auto_rows": null,
      "grid_column": null,
      "grid_gap": null,
      "grid_row": null,
      "grid_template_areas": null,
      "grid_template_columns": null,
      "grid_template_rows": null,
      "height": null,
      "justify_content": null,
      "justify_items": null,
      "left": null,
      "margin": null,
      "max_height": null,
      "max_width": null,
      "min_height": null,
      "min_width": null,
      "object_fit": null,
      "object_position": null,
      "order": null,
      "overflow": null,
      "overflow_x": null,
      "overflow_y": null,
      "padding": null,
      "right": null,
      "top": null,
      "visibility": null,
      "width": null
     }
    },
    "bf71fb48587f479eb05d8a5455681094": {
     "model_module": "@jupyter-widgets/controls",
     "model_module_version": "1.5.0",
     "model_name": "DescriptionStyleModel",
     "state": {
      "_model_module": "@jupyter-widgets/controls",
      "_model_module_version": "1.5.0",
      "_model_name": "DescriptionStyleModel",
      "_view_count": null,
      "_view_module": "@jupyter-widgets/base",
      "_view_module_version": "1.2.0",
      "_view_name": "StyleView",
      "description_width": ""
     }
    },
    "c04f9e73ed364ffcbc0085a1b2b4ef0f": {
     "model_module": "@jupyter-widgets/base",
     "model_module_version": "1.2.0",
     "model_name": "LayoutModel",
     "state": {
      "_model_module": "@jupyter-widgets/base",
      "_model_module_version": "1.2.0",
      "_model_name": "LayoutModel",
      "_view_count": null,
      "_view_module": "@jupyter-widgets/base",
      "_view_module_version": "1.2.0",
      "_view_name": "LayoutView",
      "align_content": null,
      "align_items": null,
      "align_self": null,
      "border": null,
      "bottom": null,
      "display": "inline-flex",
      "flex": null,
      "flex_flow": "row wrap",
      "grid_area": null,
      "grid_auto_columns": null,
      "grid_auto_flow": null,
      "grid_auto_rows": null,
      "grid_column": null,
      "grid_gap": null,
      "grid_row": null,
      "grid_template_areas": null,
      "grid_template_columns": null,
      "grid_template_rows": null,
      "height": null,
      "justify_content": null,
      "justify_items": null,
      "left": null,
      "margin": null,
      "max_height": null,
      "max_width": null,
      "min_height": null,
      "min_width": null,
      "object_fit": null,
      "object_position": null,
      "order": null,
      "overflow": null,
      "overflow_x": null,
      "overflow_y": null,
      "padding": null,
      "right": null,
      "top": null,
      "visibility": null,
      "width": "100%"
     }
    },
    "ca8587dff85942198721f352190f1bee": {
     "model_module": "@jupyter-widgets/base",
     "model_module_version": "1.2.0",
     "model_name": "LayoutModel",
     "state": {
      "_model_module": "@jupyter-widgets/base",
      "_model_module_version": "1.2.0",
      "_model_name": "LayoutModel",
      "_view_count": null,
      "_view_module": "@jupyter-widgets/base",
      "_view_module_version": "1.2.0",
      "_view_name": "LayoutView",
      "align_content": null,
      "align_items": null,
      "align_self": null,
      "border": null,
      "bottom": null,
      "display": "inline-flex",
      "flex": null,
      "flex_flow": "row wrap",
      "grid_area": null,
      "grid_auto_columns": null,
      "grid_auto_flow": null,
      "grid_auto_rows": null,
      "grid_column": null,
      "grid_gap": null,
      "grid_row": null,
      "grid_template_areas": null,
      "grid_template_columns": null,
      "grid_template_rows": null,
      "height": null,
      "justify_content": null,
      "justify_items": null,
      "left": null,
      "margin": null,
      "max_height": null,
      "max_width": null,
      "min_height": null,
      "min_width": null,
      "object_fit": null,
      "object_position": null,
      "order": null,
      "overflow": null,
      "overflow_x": null,
      "overflow_y": null,
      "padding": null,
      "right": null,
      "top": null,
      "visibility": "hidden",
      "width": "100%"
     }
    },
    "cd9adf9d2c8443838b639cdc689c13d1": {
     "model_module": "@jupyter-widgets/base",
     "model_module_version": "1.2.0",
     "model_name": "LayoutModel",
     "state": {
      "_model_module": "@jupyter-widgets/base",
      "_model_module_version": "1.2.0",
      "_model_name": "LayoutModel",
      "_view_count": null,
      "_view_module": "@jupyter-widgets/base",
      "_view_module_version": "1.2.0",
      "_view_name": "LayoutView",
      "align_content": null,
      "align_items": null,
      "align_self": null,
      "border": null,
      "bottom": null,
      "display": null,
      "flex": null,
      "flex_flow": null,
      "grid_area": null,
      "grid_auto_columns": null,
      "grid_auto_flow": null,
      "grid_auto_rows": null,
      "grid_column": null,
      "grid_gap": null,
      "grid_row": null,
      "grid_template_areas": null,
      "grid_template_columns": null,
      "grid_template_rows": null,
      "height": null,
      "justify_content": null,
      "justify_items": null,
      "left": null,
      "margin": null,
      "max_height": null,
      "max_width": null,
      "min_height": null,
      "min_width": null,
      "object_fit": null,
      "object_position": null,
      "order": null,
      "overflow": null,
      "overflow_x": null,
      "overflow_y": null,
      "padding": null,
      "right": null,
      "top": null,
      "visibility": null,
      "width": null
     }
    },
    "cf19be963b5e4f2da1cf5182b9630141": {
     "model_module": "@jupyter-widgets/base",
     "model_module_version": "1.2.0",
     "model_name": "LayoutModel",
     "state": {
      "_model_module": "@jupyter-widgets/base",
      "_model_module_version": "1.2.0",
      "_model_name": "LayoutModel",
      "_view_count": null,
      "_view_module": "@jupyter-widgets/base",
      "_view_module_version": "1.2.0",
      "_view_name": "LayoutView",
      "align_content": null,
      "align_items": null,
      "align_self": null,
      "border": null,
      "bottom": null,
      "display": null,
      "flex": "2",
      "flex_flow": null,
      "grid_area": null,
      "grid_auto_columns": null,
      "grid_auto_flow": null,
      "grid_auto_rows": null,
      "grid_column": null,
      "grid_gap": null,
      "grid_row": null,
      "grid_template_areas": null,
      "grid_template_columns": null,
      "grid_template_rows": null,
      "height": null,
      "justify_content": null,
      "justify_items": null,
      "left": null,
      "margin": null,
      "max_height": null,
      "max_width": null,
      "min_height": null,
      "min_width": null,
      "object_fit": null,
      "object_position": null,
      "order": null,
      "overflow": null,
      "overflow_x": null,
      "overflow_y": null,
      "padding": null,
      "right": null,
      "top": null,
      "visibility": null,
      "width": null
     }
    },
    "d5d8495ba07a412f81310aa302812419": {
     "model_module": "@jupyter-widgets/base",
     "model_module_version": "1.2.0",
     "model_name": "LayoutModel",
     "state": {
      "_model_module": "@jupyter-widgets/base",
      "_model_module_version": "1.2.0",
      "_model_name": "LayoutModel",
      "_view_count": null,
      "_view_module": "@jupyter-widgets/base",
      "_view_module_version": "1.2.0",
      "_view_name": "LayoutView",
      "align_content": null,
      "align_items": null,
      "align_self": null,
      "border": null,
      "bottom": null,
      "display": null,
      "flex": null,
      "flex_flow": null,
      "grid_area": null,
      "grid_auto_columns": null,
      "grid_auto_flow": null,
      "grid_auto_rows": null,
      "grid_column": null,
      "grid_gap": null,
      "grid_row": null,
      "grid_template_areas": null,
      "grid_template_columns": null,
      "grid_template_rows": null,
      "height": null,
      "justify_content": null,
      "justify_items": null,
      "left": null,
      "margin": null,
      "max_height": null,
      "max_width": null,
      "min_height": null,
      "min_width": null,
      "object_fit": null,
      "object_position": null,
      "order": null,
      "overflow": null,
      "overflow_x": null,
      "overflow_y": null,
      "padding": null,
      "right": null,
      "top": null,
      "visibility": null,
      "width": null
     }
    },
    "e4a996a4dfe246c78c3e48b16e700cef": {
     "model_module": "@jupyter-widgets/controls",
     "model_module_version": "1.5.0",
     "model_name": "FloatProgressModel",
     "state": {
      "_dom_classes": [],
      "_model_module": "@jupyter-widgets/controls",
      "_model_module_version": "1.5.0",
      "_model_name": "FloatProgressModel",
      "_view_count": null,
      "_view_module": "@jupyter-widgets/controls",
      "_view_module_version": "1.5.0",
      "_view_name": "ProgressView",
      "bar_style": "",
      "description": "",
      "description_tooltip": null,
      "layout": "IPY_MODEL_cf19be963b5e4f2da1cf5182b9630141",
      "max": 1212,
      "min": 0,
      "orientation": "horizontal",
      "style": "IPY_MODEL_5414e1765165431ea1699153f7bad0f8",
      "value": 1212
     }
    },
    "fb410a780f9742098b59f243f8f4d68a": {
     "model_module": "@jupyter-widgets/controls",
     "model_module_version": "1.5.0",
     "model_name": "HTMLModel",
     "state": {
      "_dom_classes": [],
      "_model_module": "@jupyter-widgets/controls",
      "_model_module_version": "1.5.0",
      "_model_name": "HTMLModel",
      "_view_count": null,
      "_view_module": "@jupyter-widgets/controls",
      "_view_module_version": "1.5.0",
      "_view_name": "HTMLView",
      "description": "",
      "description_tooltip": null,
      "layout": "IPY_MODEL_d5d8495ba07a412f81310aa302812419",
      "placeholder": "​",
      "style": "IPY_MODEL_b842d559a42547a38a70e6d2846b22a5",
      "value": " 303/303 [00:11&lt;00:00, 27.07it/s]"
     }
    },
    "fc258ef73bb3412ea64d89687617b611": {
     "model_module": "@jupyter-widgets/controls",
     "model_module_version": "1.5.0",
     "model_name": "DescriptionStyleModel",
     "state": {
      "_model_module": "@jupyter-widgets/controls",
      "_model_module_version": "1.5.0",
      "_model_name": "DescriptionStyleModel",
      "_view_count": null,
      "_view_module": "@jupyter-widgets/base",
      "_view_module_version": "1.2.0",
      "_view_name": "StyleView",
      "description_width": ""
     }
    },
    "fc7eaeae4791459ca838b78f9626dcbb": {
     "model_module": "@jupyter-widgets/base",
     "model_module_version": "1.2.0",
     "model_name": "LayoutModel",
     "state": {
      "_model_module": "@jupyter-widgets/base",
      "_model_module_version": "1.2.0",
      "_model_name": "LayoutModel",
      "_view_count": null,
      "_view_module": "@jupyter-widgets/base",
      "_view_module_version": "1.2.0",
      "_view_name": "LayoutView",
      "align_content": null,
      "align_items": null,
      "align_self": null,
      "border": null,
      "bottom": null,
      "display": null,
      "flex": "2",
      "flex_flow": null,
      "grid_area": null,
      "grid_auto_columns": null,
      "grid_auto_flow": null,
      "grid_auto_rows": null,
      "grid_column": null,
      "grid_gap": null,
      "grid_row": null,
      "grid_template_areas": null,
      "grid_template_columns": null,
      "grid_template_rows": null,
      "height": null,
      "justify_content": null,
      "justify_items": null,
      "left": null,
      "margin": null,
      "max_height": null,
      "max_width": null,
      "min_height": null,
      "min_width": null,
      "object_fit": null,
      "object_position": null,
      "order": null,
      "overflow": null,
      "overflow_x": null,
      "overflow_y": null,
      "padding": null,
      "right": null,
      "top": null,
      "visibility": null,
      "width": null
     }
    }
   }
  }
 },
 "nbformat": 4,
 "nbformat_minor": 5
}
