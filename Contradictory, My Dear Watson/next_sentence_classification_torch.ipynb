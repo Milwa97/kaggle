{
 "cells": [
  {
   "cell_type": "markdown",
   "id": "8910a07e-d1b5-4e78-9a8e-7f3b119ba01f",
   "metadata": {},
   "source": [
    "# Contradictory, My Dear Watson\n",
    "\n",
    "Link: https://www.kaggle.com/competitions/contradictory-my-dear-watson\n",
    "\n",
    "Challenge description:\n",
    "\n",
    "If you have two sentences, there are three ways they could be related: one could entail the other, one could contradict the other, or they could be unrelated. Natural Language Inferencing (NLI) is a popular NLP problem that involves determining how pairs of sentences (consisting of a premise and a hypothesis) are related.\n",
    "\n",
    "Your task is to create an NLI model that assigns labels of 0, 1, or 2 (corresponding to entailment, neutral, and contradiction) to pairs of premises and hypotheses. To make things more interesting, the train and test set include text in fifteen different languages! You can find more details on the dataset by reviewing the Data page.\n",
    "\n",
    "Today, the most common approaches to NLI problems include using embeddings and transformers like BERT. In this competition, we’re providing a starter notebook to try your hand at this problem using the power of Tensor Processing Units (TPUs). TPUs are powerful hardware accelerators specialized in deep learning tasks, including Natural Language Processing. Kaggle provides all users TPU Quota at no cost, which you can use to explore this competition. Check out our TPU documentation and Kaggle’s YouTube playlist for more information and resources.\n"
   ]
  },
  {
   "cell_type": "markdown",
   "id": "47b46145-f082-4513-8f26-5e5581844dd3",
   "metadata": {
    "colab": {
     "base_uri": "https://localhost:8080/"
    },
    "id": "BfY77LHWf2tN",
    "outputId": "ef7f8da7-51b9-4344-e73d-2a9e8a24b3bc"
   },
   "source": [
    "!pip install transformers -qU\n",
    "!pip install datasets -qU\n",
    "!pip install pip install pytorch-lightning -qU"
   ]
  },
  {
   "cell_type": "code",
   "execution_count": 1,
   "id": "b5ccc971",
   "metadata": {
    "colab": {
     "base_uri": "https://localhost:8080/"
    },
    "id": "b5ccc971",
    "outputId": "df143527-3893-4acf-8470-63af13f9a897"
   },
   "outputs": [],
   "source": [
    "import re\n",
    "import time\n",
    "from typing import List, Optional, Tuple\n",
    "from tqdm.auto import tqdm\n",
    "import numpy as np\n",
    "import pandas as pd\n",
    "import matplotlib.pyplot as plt\n",
    "import seaborn as sns\n",
    "\n",
    "from sklearn.metrics import confusion_matrix\n",
    "\n",
    "import torch\n",
    "from torch.nn import ConstantPad1d\n",
    "from torch.utils.data import Dataset, DataLoader, RandomSampler, SequentialSampler, random_split\n",
    "from pytorch_lightning import LightningDataModule, LightningModule, Trainer\n",
    "from pytorch_lightning.callbacks import EarlyStopping\n",
    "\n",
    "from transformers import (\n",
    "    AutoConfig,\n",
    "    AutoModelForSequenceClassification,\n",
    "    AutoTokenizer,\n",
    "    get_linear_schedule_with_warmup,\n",
    "    AdamW\n",
    ")\n",
    "\n",
    "import warnings\n",
    "warnings.filterwarnings(action=\"ignore\")\n",
    "\n",
    "pd.set_option('display.max_colwidth', 3000)\n",
    "pd.set_option('display.max_columns', None)\n",
    "\n",
    "torch.manual_seed(0)\n",
    "\n",
    "device = torch.device('cuda' if torch.cuda.is_available() else 'cpu')\n",
    "device = \"cpu\""
   ]
  },
  {
   "cell_type": "code",
   "execution_count": 2,
   "id": "9634e4e3",
   "metadata": {
    "colab": {
     "base_uri": "https://localhost:8080/",
     "height": 493
    },
    "id": "9634e4e3",
    "outputId": "77a5e9da-a287-41ec-a899-68d92f4aaba7"
   },
   "outputs": [
    {
     "data": {
      "text/html": [
       "<div>\n",
       "<style scoped>\n",
       "    .dataframe tbody tr th:only-of-type {\n",
       "        vertical-align: middle;\n",
       "    }\n",
       "\n",
       "    .dataframe tbody tr th {\n",
       "        vertical-align: top;\n",
       "    }\n",
       "\n",
       "    .dataframe thead th {\n",
       "        text-align: right;\n",
       "    }\n",
       "</style>\n",
       "<table border=\"1\" class=\"dataframe\">\n",
       "  <thead>\n",
       "    <tr style=\"text-align: right;\">\n",
       "      <th></th>\n",
       "      <th>premise</th>\n",
       "      <th>hypothesis</th>\n",
       "      <th>language</th>\n",
       "      <th>label</th>\n",
       "      <th>inputs</th>\n",
       "      <th>language_id</th>\n",
       "      <th>label_name</th>\n",
       "    </tr>\n",
       "  </thead>\n",
       "  <tbody>\n",
       "    <tr>\n",
       "      <th>0</th>\n",
       "      <td>and these comments were considered in formulating the interim rules.</td>\n",
       "      <td>the rules developed in the interim were put together with these comments in mind.</td>\n",
       "      <td>English</td>\n",
       "      <td>0</td>\n",
       "      <td>[CLS] and these comments were considered in formulating the interim rules. [SEP] the rules developed in the interim were put together with these comments in mind. [SEP]</td>\n",
       "      <td>0</td>\n",
       "      <td>entailment</td>\n",
       "    </tr>\n",
       "    <tr>\n",
       "      <th>1</th>\n",
       "      <td>these are issues that we wrestle with in practice groups of law firms, she said.</td>\n",
       "      <td>practice groups are not permitted to work on these issues.</td>\n",
       "      <td>English</td>\n",
       "      <td>2</td>\n",
       "      <td>[CLS] these are issues that we wrestle with in practice groups of law firms, she said.  [SEP] practice groups are not permitted to work on these issues. [SEP]</td>\n",
       "      <td>0</td>\n",
       "      <td>contradiction</td>\n",
       "    </tr>\n",
       "    <tr>\n",
       "      <th>2</th>\n",
       "      <td>des petites choses comme celles-là font une différence énorme dans ce que j'essaye de faire.</td>\n",
       "      <td>j'essayais d'accomplir quelque chose.</td>\n",
       "      <td>French</td>\n",
       "      <td>0</td>\n",
       "      <td>[CLS] des petites choses comme celles-là font une différence énorme dans ce que j'essaye de faire. [SEP] j'essayais d'accomplir quelque chose. [SEP]</td>\n",
       "      <td>1</td>\n",
       "      <td>entailment</td>\n",
       "    </tr>\n",
       "    <tr>\n",
       "      <th>3</th>\n",
       "      <td>you know they can't really defend themselves like somebody grown uh say my age you know yeah</td>\n",
       "      <td>they can't defend themselves because of their age.</td>\n",
       "      <td>English</td>\n",
       "      <td>0</td>\n",
       "      <td>[CLS] you know they can't really defend themselves like somebody grown uh say my age you know yeah [SEP] they can't defend themselves because of their age. [SEP]</td>\n",
       "      <td>0</td>\n",
       "      <td>entailment</td>\n",
       "    </tr>\n",
       "    <tr>\n",
       "      <th>4</th>\n",
       "      <td>ในการเล่นบทบาทสมมุติก็เช่นกัน โอกาสที่จะได้แสดงออกและได้เล่นหลายบทบาทไปพร้อมกัน ๆ อาจช่วยให้เด็กจับความคล้ายคลึงและความแตกต่างระหว่างผู้คนในด้านความปรารถนา ความเชื่อ และความรู้สึกได้</td>\n",
       "      <td>เด็กสามารถเห็นได้ว่าชาติพันธุ์แตกต่างกันอย่างไร</td>\n",
       "      <td>Thai</td>\n",
       "      <td>1</td>\n",
       "      <td>[CLS] ในการเล่นบทบาทสมมุติก็เช่นกัน โอกาสที่จะได้แสดงออกและได้เล่นหลายบทบาทไปพร้อมกัน ๆ อาจช่วยให้เด็กจับความคล้ายคลึงและความแตกต่างระหว่างผู้คนในด้านความปรารถนา ความเชื่อ และความรู้สึกได้ [SEP] เด็กสามารถเห็นได้ว่าชาติพันธุ์แตกต่างกันอย่างไร [SEP]</td>\n",
       "      <td>2</td>\n",
       "      <td>neutral</td>\n",
       "    </tr>\n",
       "  </tbody>\n",
       "</table>\n",
       "</div>"
      ],
      "text/plain": [
       "                                                                                                                                                                                  premise  \\\n",
       "0                                                                                                                    and these comments were considered in formulating the interim rules.   \n",
       "1                                                                                                       these are issues that we wrestle with in practice groups of law firms, she said.    \n",
       "2                                                                                            des petites choses comme celles-là font une différence énorme dans ce que j'essaye de faire.   \n",
       "3                                                                                            you know they can't really defend themselves like somebody grown uh say my age you know yeah   \n",
       "4  ในการเล่นบทบาทสมมุติก็เช่นกัน โอกาสที่จะได้แสดงออกและได้เล่นหลายบทบาทไปพร้อมกัน ๆ อาจช่วยให้เด็กจับความคล้ายคลึงและความแตกต่างระหว่างผู้คนในด้านความปรารถนา ความเชื่อ และความรู้สึกได้   \n",
       "\n",
       "                                                                          hypothesis  \\\n",
       "0  the rules developed in the interim were put together with these comments in mind.   \n",
       "1                         practice groups are not permitted to work on these issues.   \n",
       "2                                              j'essayais d'accomplir quelque chose.   \n",
       "3                                 they can't defend themselves because of their age.   \n",
       "4                                    เด็กสามารถเห็นได้ว่าชาติพันธุ์แตกต่างกันอย่างไร   \n",
       "\n",
       "  language  label  \\\n",
       "0  English      0   \n",
       "1  English      2   \n",
       "2   French      0   \n",
       "3  English      0   \n",
       "4     Thai      1   \n",
       "\n",
       "                                                                                                                                                                                                                                                     inputs  \\\n",
       "0                                                                                  [CLS] and these comments were considered in formulating the interim rules. [SEP] the rules developed in the interim were put together with these comments in mind. [SEP]   \n",
       "1                                                                                            [CLS] these are issues that we wrestle with in practice groups of law firms, she said.  [SEP] practice groups are not permitted to work on these issues. [SEP]   \n",
       "2                                                                                                      [CLS] des petites choses comme celles-là font une différence énorme dans ce que j'essaye de faire. [SEP] j'essayais d'accomplir quelque chose. [SEP]   \n",
       "3                                                                                         [CLS] you know they can't really defend themselves like somebody grown uh say my age you know yeah [SEP] they can't defend themselves because of their age. [SEP]   \n",
       "4  [CLS] ในการเล่นบทบาทสมมุติก็เช่นกัน โอกาสที่จะได้แสดงออกและได้เล่นหลายบทบาทไปพร้อมกัน ๆ อาจช่วยให้เด็กจับความคล้ายคลึงและความแตกต่างระหว่างผู้คนในด้านความปรารถนา ความเชื่อ และความรู้สึกได้ [SEP] เด็กสามารถเห็นได้ว่าชาติพันธุ์แตกต่างกันอย่างไร [SEP]   \n",
       "\n",
       "   language_id     label_name  \n",
       "0            0     entailment  \n",
       "1            0  contradiction  \n",
       "2            1     entailment  \n",
       "3            0     entailment  \n",
       "4            2        neutral  "
      ]
     },
     "execution_count": 2,
     "metadata": {},
     "output_type": "execute_result"
    }
   ],
   "source": [
    "df = pd.read_csv(\"data/train.csv\")\n",
    "\n",
    "labels_mapping = {0: \"entailment\", 1: \"neutral\", 2: \"contradiction\"}\n",
    "ids_to_language = {i: language for i, language in enumerate(df[\"language\"].unique())}\n",
    "language2ids = {language: i for i, language in ids_to_language.items()}\n",
    "\n",
    "df['premise']  = df['premise'].apply(lambda x: x.lower())\n",
    "df['hypothesis']  = df['hypothesis'].apply(lambda x: x.lower())\n",
    "df['inputs'] = \"[CLS] \" + df['premise'] + \" [SEP] \" + df['hypothesis'] + \" [SEP]\"\n",
    "df['language_id'] = df[\"language\"].map(language2ids)\n",
    "df['label_name'] = df[\"label\"].map(labels_mapping)\n",
    "df.drop([\"id\", \"lang_abv\"], axis=1, inplace=True)\n",
    "df.head()"
   ]
  },
  {
   "cell_type": "markdown",
   "id": "19412623-484f-4476-9b03-5c39db2a5e02",
   "metadata": {
    "id": "q_wG8MvSyCQr"
   },
   "source": [
    "# Data Overview"
   ]
  },
  {
   "cell_type": "code",
   "execution_count": 3,
   "id": "a0de6566-bc60-466a-81d4-4957a74fb109",
   "metadata": {},
   "outputs": [
    {
     "data": {
      "image/png": "[encoded data removed]",
      "text/plain": [
       "<Figure size 800x800 with 1 Axes>"
      ]
     },
     "metadata": {},
     "output_type": "display_data"
    }
   ],
   "source": [
    "df_stats = df.groupby(\"language\").agg(count=(\"premise\", 'count')).reset_index()\n",
    "fig, ax = plt.subplots(figsize=(8,8))\n",
    "fig.suptitle(\"Proportion of different languages in the dataset\")\n",
    "ax.pie(df_stats[\"count\"], labels=df_stats[\"language\"], \n",
    "       autopct='%1.2f%%', \n",
    "       explode= [0.1]*len(df_stats),\n",
    "       textprops={'fontsize': 8},\n",
    "       labeldistance=1.1,\n",
    "       pctdistance=0.8,\n",
    "       colors=sns.color_palette('Set2'))\n",
    "fig.show()"
   ]
  },
  {
   "cell_type": "code",
   "execution_count": 4,
   "id": "j7Oyjr8PtD3s",
   "metadata": {
    "colab": {
     "base_uri": "https://localhost:8080/",
     "height": 596
    },
    "id": "j7Oyjr8PtD3s",
    "outputId": "5187adbb-0a49-474f-d15c-215b51652980",
    "scrolled": true
   },
   "outputs": [
    {
     "data": {
      "image/png": "[encoded data removed]",
      "text/plain": [
       "<Figure size 1100x500 with 1 Axes>"
      ]
     },
     "metadata": {},
     "output_type": "display_data"
    }
   ],
   "source": [
    "fig, ax = plt.subplots(figsize=(11,5))\n",
    "sns.countplot(data=df, x=\"language\", hue=\"label_name\", palette=\"hls\", ax=ax)\n",
    "ax.grid(alpha=0.25)\n",
    "ax.tick_params(axis='x', rotation=45)"
   ]
  },
  {
   "cell_type": "markdown",
   "id": "h0KIdYkTPmSU",
   "metadata": {
    "id": "h0KIdYkTPmSU"
   },
   "source": [
    "# Tokenizer & Model\n"
   ]
  },
  {
   "cell_type": "code",
   "execution_count": 5,
   "id": "GfUOOlA8IOcv",
   "metadata": {
    "colab": {
     "base_uri": "https://localhost:8080/"
    },
    "id": "GfUOOlA8IOcv",
    "outputId": "7f1ebf4c-61e8-4904-b8b8-d608f873335b"
   },
   "outputs": [
    {
     "name": "stderr",
     "output_type": "stream",
     "text": [
      "Some weights of BertForSequenceClassification were not initialized from the model checkpoint at bert-base-uncased and are newly initialized: ['classifier.bias', 'classifier.weight']\n",
      "You should probably TRAIN this model on a down-stream task to be able to use it for predictions and inference.\n"
     ]
    },
    {
     "data": {
      "text/plain": [
       "{'unk_token': '[UNK]',\n",
       " 'sep_token': '[SEP]',\n",
       " 'pad_token': '[PAD]',\n",
       " 'cls_token': '[CLS]',\n",
       " 'mask_token': '[MASK]'}"
      ]
     },
     "execution_count": 5,
     "metadata": {},
     "output_type": "execute_result"
    }
   ],
   "source": [
    "model_name_or_path = \"bert-base-uncased\"#'symanto/xlm-roberta-base-snli-mnli-anli-xnli'\n",
    "\n",
    "model= AutoModelForSequenceClassification.from_pretrained(model_name_or_path,\n",
    "                                                          num_labels = 3,\n",
    "                                                          ignore_mismatched_sizes=True,\n",
    "                                                          output_attentions = False,\n",
    "                                                          output_hidden_states = False)\n",
    "\n",
    "tokenizer = AutoTokenizer.from_pretrained(model_name_or_path, do_lower_case=True)\n",
    "tokenizer.special_tokens_map"
   ]
  },
  {
   "cell_type": "markdown",
   "id": "e8389030-0bce-4171-9da4-ca89b00f2e14",
   "metadata": {
    "id": "e8389030-0bce-4171-9da4-ca89b00f2e14"
   },
   "source": [
    "# Dataset"
   ]
  },
  {
   "cell_type": "code",
   "execution_count": 6,
   "id": "6c45199b",
   "metadata": {
    "id": "6c45199b"
   },
   "outputs": [],
   "source": [
    "class CustomDataset(Dataset):\n",
    "\n",
    "    def __init__(self, df, tokenizer):\n",
    "        super().__init__()\n",
    "        self.tokenizer = tokenizer\n",
    "        self.inputs = df[\"inputs\"].values\n",
    "        self.labels = torch.tensor(df[\"label\"].values).to(torch.int64)\n",
    "        self.language = torch.tensor(df[\"language_id\"].values).to(torch.int64)\n",
    "\n",
    "    def __getitem__(self, idx):\n",
    "        encoded_dict = tokenizer(self.inputs[idx],\n",
    "                                 add_special_tokens = True,\n",
    "                                 return_attention_mask = True,\n",
    "                                 return_tensors = 'pt',\n",
    "                   )\n",
    "        return encoded_dict['input_ids'][0], encoded_dict['attention_mask'][0], self.labels[idx], self.language[idx]\n",
    "\n",
    "    def __len__(self):\n",
    "        return len(self.labels)"
   ]
  },
  {
   "cell_type": "code",
   "execution_count": 7,
   "id": "a84ca1b2",
   "metadata": {
    "colab": {
     "base_uri": "https://localhost:8080/"
    },
    "id": "a84ca1b2",
    "outputId": "06702a22-7ab4-4c16-c3e6-ca2b0fdbd2f6"
   },
   "outputs": [
    {
     "name": "stdout",
     "output_type": "stream",
     "text": [
      "9,696 training samples\n",
      "2,424 validation samples\n"
     ]
    }
   ],
   "source": [
    "dataset = CustomDataset(df, tokenizer)\n",
    "train_size = int(0.8 * len(dataset))\n",
    "validation_size = len(dataset)  - train_size\n",
    "train_dataset, validation_dataset = random_split(dataset, [train_size, validation_size])\n",
    "\n",
    "print('{:>5,} training samples'.format(train_size))\n",
    "print('{:>5,} validation samples'.format(validation_size))\n"
   ]
  },
  {
   "cell_type": "markdown",
   "id": "57bcf81d-15bd-49ef-bb13-52e75d11786e",
   "metadata": {
    "id": "57bcf81d-15bd-49ef-bb13-52e75d11786e"
   },
   "source": [
    "# Dataloaders"
   ]
  },
  {
   "cell_type": "code",
   "execution_count": 8,
   "id": "wbkv8Xh2BpAl",
   "metadata": {
    "id": "wbkv8Xh2BpAl"
   },
   "outputs": [],
   "source": [
    "def padding_function(x, max_len):\n",
    "    return ConstantPad1d((0, max_len - len(x)), 0)(x)\n",
    "\n",
    "def collate_fn(batch):\n",
    "    max_len = max([len(sample[0]) for sample in batch])\n",
    "    ids = torch.stack([padding_function(sample[0], max_len) for sample in batch])\n",
    "    attention_masks = torch.stack([padding_function(sample[1], max_len) for sample in batch])\n",
    "    labels = torch.tensor([sample[2] for sample in batch])\n",
    "    language = torch.tensor([sample[3] for sample in batch])\n",
    "\n",
    "    return ids.to(device), attention_masks.to(device), labels.to(device), language.to(device)\n"
   ]
  },
  {
   "cell_type": "code",
   "execution_count": 9,
   "id": "a85031d2",
   "metadata": {
    "id": "a85031d2"
   },
   "outputs": [],
   "source": [
    "batch_size = 16\n",
    "\n",
    "train_dataloader = DataLoader(\n",
    "            train_dataset,\n",
    "            sampler = RandomSampler(train_dataset),\n",
    "            batch_size = batch_size,\n",
    "            collate_fn=collate_fn\n",
    "        )\n",
    "\n",
    "validation_dataloader = DataLoader(\n",
    "            validation_dataset,\n",
    "            sampler = SequentialSampler(validation_dataset),\n",
    "            batch_size = batch_size,\n",
    "            collate_fn=collate_fn\n",
    "        )"
   ]
  },
  {
   "cell_type": "markdown",
   "id": "c0f7c3a0-2b0f-4684-b57d-b16eef60a423",
   "metadata": {},
   "source": [
    "# Train model"
   ]
  },
  {
   "cell_type": "code",
   "execution_count": 10,
   "id": "5b4395d9-90b4-4d63-a17b-a5f57a0428c9",
   "metadata": {},
   "outputs": [],
   "source": [
    "avg_train_accuracy = []\n",
    "avg_train_loss = []\n",
    "avg_val_loss = []\n",
    "avg_val_accuracy = []\n",
    "\n",
    "epochs = 3\n",
    "learning_rate = 1e-5\n",
    "adam_epsilon = 1e-7\n",
    "weight_decay = 0.005\n",
    "\n",
    "optimizer = AdamW(model.parameters(), lr=learning_rate,  eps=adam_epsilon)"
   ]
  },
  {
   "cell_type": "code",
   "execution_count": 11,
   "id": "4eNLmuYYGpGd",
   "metadata": {
    "id": "4eNLmuYYGpGd",
    "scrolled": true
   },
   "outputs": [
    {
     "data": {
      "application/vnd.jupyter.widget-view+json": {
       "model_id": "e05e49820d7e4a1080b55a27888099c5",
       "version_major": 2,
       "version_minor": 0
      },
      "text/plain": [
       "  0%|          | 0/606 [00:00<?, ?it/s]"
      ]
     },
     "metadata": {},
     "output_type": "display_data"
    },
    {
     "name": "stdout",
     "output_type": "stream",
     "text": [
      "torch.Size([16, 212])\n"
     ]
    },
    {
     "ename": "ValueError",
     "evalue": "Wrong shape for input_ids (shape torch.Size([16, 212])) or attention_mask (shape torch.Size([16]))",
     "output_type": "error",
     "traceback": [
      "\u001b[0;31m---------------------------------------------------------------------------\u001b[0m",
      "\u001b[0;31mValueError\u001b[0m                                Traceback (most recent call last)",
      "Cell \u001b[0;32mIn[11], line 17\u001b[0m\n\u001b[1;32m     14\u001b[0m optimizer\u001b[38;5;241m.\u001b[39mzero_grad()\n\u001b[1;32m     16\u001b[0m \u001b[38;5;28mprint\u001b[39m(batch[\u001b[38;5;241m0\u001b[39m]\u001b[38;5;241m.\u001b[39mshape)\n\u001b[0;32m---> 17\u001b[0m output \u001b[38;5;241m=\u001b[39m \u001b[43mmodel\u001b[49m\u001b[43m(\u001b[49m\u001b[43minput_ids\u001b[49m\u001b[38;5;241;43m=\u001b[39;49m\u001b[43mbatch\u001b[49m\u001b[43m[\u001b[49m\u001b[38;5;241;43m0\u001b[39;49m\u001b[43m]\u001b[49m\u001b[43m,\u001b[49m\n\u001b[1;32m     18\u001b[0m \u001b[43m               \u001b[49m\u001b[43mtoken_type_ids\u001b[49m\u001b[38;5;241;43m=\u001b[39;49m\u001b[43mbatch\u001b[49m\u001b[43m[\u001b[49m\u001b[38;5;241;43m1\u001b[39;49m\u001b[43m]\u001b[49m\u001b[43m,\u001b[49m\n\u001b[1;32m     19\u001b[0m \u001b[43m               \u001b[49m\u001b[43mattention_mask\u001b[49m\u001b[38;5;241;43m=\u001b[39;49m\u001b[43mbatch\u001b[49m\u001b[43m[\u001b[49m\u001b[38;5;241;43m2\u001b[39;49m\u001b[43m]\u001b[49m\u001b[43m,\u001b[49m\n\u001b[1;32m     20\u001b[0m \u001b[43m               \u001b[49m\u001b[43mlabels\u001b[49m\u001b[38;5;241;43m=\u001b[39;49m\u001b[43mbatch\u001b[49m\u001b[43m[\u001b[49m\u001b[38;5;241;43m3\u001b[39;49m\u001b[43m]\u001b[49m\u001b[43m)\u001b[49m\n\u001b[1;32m     22\u001b[0m label_ids \u001b[38;5;241m=\u001b[39m batch[\u001b[38;5;241m3\u001b[39m]\u001b[38;5;241m.\u001b[39mto(\u001b[38;5;124m'\u001b[39m\u001b[38;5;124mcpu\u001b[39m\u001b[38;5;124m'\u001b[39m)\u001b[38;5;241m.\u001b[39mnumpy()\n\u001b[1;32m     23\u001b[0m predictions \u001b[38;5;241m=\u001b[39m torch\u001b[38;5;241m.\u001b[39margmax(output\u001b[38;5;241m.\u001b[39mlogits\u001b[38;5;241m.\u001b[39mdetach()\u001b[38;5;241m.\u001b[39mcpu(), \u001b[38;5;241m1\u001b[39m)\u001b[38;5;241m.\u001b[39mnumpy()\n",
      "File \u001b[0;32m~/Desktop/kaggle/venv/lib/python3.10/site-packages/torch/nn/modules/module.py:1501\u001b[0m, in \u001b[0;36mModule._call_impl\u001b[0;34m(self, *args, **kwargs)\u001b[0m\n\u001b[1;32m   1496\u001b[0m \u001b[38;5;66;03m# If we don't have any hooks, we want to skip the rest of the logic in\u001b[39;00m\n\u001b[1;32m   1497\u001b[0m \u001b[38;5;66;03m# this function, and just call forward.\u001b[39;00m\n\u001b[1;32m   1498\u001b[0m \u001b[38;5;28;01mif\u001b[39;00m \u001b[38;5;129;01mnot\u001b[39;00m (\u001b[38;5;28mself\u001b[39m\u001b[38;5;241m.\u001b[39m_backward_hooks \u001b[38;5;129;01mor\u001b[39;00m \u001b[38;5;28mself\u001b[39m\u001b[38;5;241m.\u001b[39m_backward_pre_hooks \u001b[38;5;129;01mor\u001b[39;00m \u001b[38;5;28mself\u001b[39m\u001b[38;5;241m.\u001b[39m_forward_hooks \u001b[38;5;129;01mor\u001b[39;00m \u001b[38;5;28mself\u001b[39m\u001b[38;5;241m.\u001b[39m_forward_pre_hooks\n\u001b[1;32m   1499\u001b[0m         \u001b[38;5;129;01mor\u001b[39;00m _global_backward_pre_hooks \u001b[38;5;129;01mor\u001b[39;00m _global_backward_hooks\n\u001b[1;32m   1500\u001b[0m         \u001b[38;5;129;01mor\u001b[39;00m _global_forward_hooks \u001b[38;5;129;01mor\u001b[39;00m _global_forward_pre_hooks):\n\u001b[0;32m-> 1501\u001b[0m     \u001b[38;5;28;01mreturn\u001b[39;00m \u001b[43mforward_call\u001b[49m\u001b[43m(\u001b[49m\u001b[38;5;241;43m*\u001b[39;49m\u001b[43margs\u001b[49m\u001b[43m,\u001b[49m\u001b[43m \u001b[49m\u001b[38;5;241;43m*\u001b[39;49m\u001b[38;5;241;43m*\u001b[39;49m\u001b[43mkwargs\u001b[49m\u001b[43m)\u001b[49m\n\u001b[1;32m   1502\u001b[0m \u001b[38;5;66;03m# Do not call functions when jit is used\u001b[39;00m\n\u001b[1;32m   1503\u001b[0m full_backward_hooks, non_full_backward_hooks \u001b[38;5;241m=\u001b[39m [], []\n",
      "File \u001b[0;32m~/Desktop/kaggle/venv/lib/python3.10/site-packages/transformers/models/bert/modeling_bert.py:1562\u001b[0m, in \u001b[0;36mBertForSequenceClassification.forward\u001b[0;34m(self, input_ids, attention_mask, token_type_ids, position_ids, head_mask, inputs_embeds, labels, output_attentions, output_hidden_states, return_dict)\u001b[0m\n\u001b[1;32m   1554\u001b[0m \u001b[38;5;250m\u001b[39m\u001b[38;5;124mr\u001b[39m\u001b[38;5;124;03m\"\"\"\u001b[39;00m\n\u001b[1;32m   1555\u001b[0m \u001b[38;5;124;03mlabels (`torch.LongTensor` of shape `(batch_size,)`, *optional*):\u001b[39;00m\n\u001b[1;32m   1556\u001b[0m \u001b[38;5;124;03m    Labels for computing the sequence classification/regression loss. Indices should be in `[0, ...,\u001b[39;00m\n\u001b[1;32m   1557\u001b[0m \u001b[38;5;124;03m    config.num_labels - 1]`. If `config.num_labels == 1` a regression loss is computed (Mean-Square loss), If\u001b[39;00m\n\u001b[1;32m   1558\u001b[0m \u001b[38;5;124;03m    `config.num_labels > 1` a classification loss is computed (Cross-Entropy).\u001b[39;00m\n\u001b[1;32m   1559\u001b[0m \u001b[38;5;124;03m\"\"\"\u001b[39;00m\n\u001b[1;32m   1560\u001b[0m return_dict \u001b[38;5;241m=\u001b[39m return_dict \u001b[38;5;28;01mif\u001b[39;00m return_dict \u001b[38;5;129;01mis\u001b[39;00m \u001b[38;5;129;01mnot\u001b[39;00m \u001b[38;5;28;01mNone\u001b[39;00m \u001b[38;5;28;01melse\u001b[39;00m \u001b[38;5;28mself\u001b[39m\u001b[38;5;241m.\u001b[39mconfig\u001b[38;5;241m.\u001b[39muse_return_dict\n\u001b[0;32m-> 1562\u001b[0m outputs \u001b[38;5;241m=\u001b[39m \u001b[38;5;28;43mself\u001b[39;49m\u001b[38;5;241;43m.\u001b[39;49m\u001b[43mbert\u001b[49m\u001b[43m(\u001b[49m\n\u001b[1;32m   1563\u001b[0m \u001b[43m    \u001b[49m\u001b[43minput_ids\u001b[49m\u001b[43m,\u001b[49m\n\u001b[1;32m   1564\u001b[0m \u001b[43m    \u001b[49m\u001b[43mattention_mask\u001b[49m\u001b[38;5;241;43m=\u001b[39;49m\u001b[43mattention_mask\u001b[49m\u001b[43m,\u001b[49m\n\u001b[1;32m   1565\u001b[0m \u001b[43m    \u001b[49m\u001b[43mtoken_type_ids\u001b[49m\u001b[38;5;241;43m=\u001b[39;49m\u001b[43mtoken_type_ids\u001b[49m\u001b[43m,\u001b[49m\n\u001b[1;32m   1566\u001b[0m \u001b[43m    \u001b[49m\u001b[43mposition_ids\u001b[49m\u001b[38;5;241;43m=\u001b[39;49m\u001b[43mposition_ids\u001b[49m\u001b[43m,\u001b[49m\n\u001b[1;32m   1567\u001b[0m \u001b[43m    \u001b[49m\u001b[43mhead_mask\u001b[49m\u001b[38;5;241;43m=\u001b[39;49m\u001b[43mhead_mask\u001b[49m\u001b[43m,\u001b[49m\n\u001b[1;32m   1568\u001b[0m \u001b[43m    \u001b[49m\u001b[43minputs_embeds\u001b[49m\u001b[38;5;241;43m=\u001b[39;49m\u001b[43minputs_embeds\u001b[49m\u001b[43m,\u001b[49m\n\u001b[1;32m   1569\u001b[0m \u001b[43m    \u001b[49m\u001b[43moutput_attentions\u001b[49m\u001b[38;5;241;43m=\u001b[39;49m\u001b[43moutput_attentions\u001b[49m\u001b[43m,\u001b[49m\n\u001b[1;32m   1570\u001b[0m \u001b[43m    \u001b[49m\u001b[43moutput_hidden_states\u001b[49m\u001b[38;5;241;43m=\u001b[39;49m\u001b[43moutput_hidden_states\u001b[49m\u001b[43m,\u001b[49m\n\u001b[1;32m   1571\u001b[0m \u001b[43m    \u001b[49m\u001b[43mreturn_dict\u001b[49m\u001b[38;5;241;43m=\u001b[39;49m\u001b[43mreturn_dict\u001b[49m\u001b[43m,\u001b[49m\n\u001b[1;32m   1572\u001b[0m \u001b[43m\u001b[49m\u001b[43m)\u001b[49m\n\u001b[1;32m   1574\u001b[0m pooled_output \u001b[38;5;241m=\u001b[39m outputs[\u001b[38;5;241m1\u001b[39m]\n\u001b[1;32m   1576\u001b[0m pooled_output \u001b[38;5;241m=\u001b[39m \u001b[38;5;28mself\u001b[39m\u001b[38;5;241m.\u001b[39mdropout(pooled_output)\n",
      "File \u001b[0;32m~/Desktop/kaggle/venv/lib/python3.10/site-packages/torch/nn/modules/module.py:1501\u001b[0m, in \u001b[0;36mModule._call_impl\u001b[0;34m(self, *args, **kwargs)\u001b[0m\n\u001b[1;32m   1496\u001b[0m \u001b[38;5;66;03m# If we don't have any hooks, we want to skip the rest of the logic in\u001b[39;00m\n\u001b[1;32m   1497\u001b[0m \u001b[38;5;66;03m# this function, and just call forward.\u001b[39;00m\n\u001b[1;32m   1498\u001b[0m \u001b[38;5;28;01mif\u001b[39;00m \u001b[38;5;129;01mnot\u001b[39;00m (\u001b[38;5;28mself\u001b[39m\u001b[38;5;241m.\u001b[39m_backward_hooks \u001b[38;5;129;01mor\u001b[39;00m \u001b[38;5;28mself\u001b[39m\u001b[38;5;241m.\u001b[39m_backward_pre_hooks \u001b[38;5;129;01mor\u001b[39;00m \u001b[38;5;28mself\u001b[39m\u001b[38;5;241m.\u001b[39m_forward_hooks \u001b[38;5;129;01mor\u001b[39;00m \u001b[38;5;28mself\u001b[39m\u001b[38;5;241m.\u001b[39m_forward_pre_hooks\n\u001b[1;32m   1499\u001b[0m         \u001b[38;5;129;01mor\u001b[39;00m _global_backward_pre_hooks \u001b[38;5;129;01mor\u001b[39;00m _global_backward_hooks\n\u001b[1;32m   1500\u001b[0m         \u001b[38;5;129;01mor\u001b[39;00m _global_forward_hooks \u001b[38;5;129;01mor\u001b[39;00m _global_forward_pre_hooks):\n\u001b[0;32m-> 1501\u001b[0m     \u001b[38;5;28;01mreturn\u001b[39;00m \u001b[43mforward_call\u001b[49m\u001b[43m(\u001b[49m\u001b[38;5;241;43m*\u001b[39;49m\u001b[43margs\u001b[49m\u001b[43m,\u001b[49m\u001b[43m \u001b[49m\u001b[38;5;241;43m*\u001b[39;49m\u001b[38;5;241;43m*\u001b[39;49m\u001b[43mkwargs\u001b[49m\u001b[43m)\u001b[49m\n\u001b[1;32m   1502\u001b[0m \u001b[38;5;66;03m# Do not call functions when jit is used\u001b[39;00m\n\u001b[1;32m   1503\u001b[0m full_backward_hooks, non_full_backward_hooks \u001b[38;5;241m=\u001b[39m [], []\n",
      "File \u001b[0;32m~/Desktop/kaggle/venv/lib/python3.10/site-packages/transformers/models/bert/modeling_bert.py:995\u001b[0m, in \u001b[0;36mBertModel.forward\u001b[0;34m(self, input_ids, attention_mask, token_type_ids, position_ids, head_mask, inputs_embeds, encoder_hidden_states, encoder_attention_mask, past_key_values, use_cache, output_attentions, output_hidden_states, return_dict)\u001b[0m\n\u001b[1;32m    991\u001b[0m         token_type_ids \u001b[38;5;241m=\u001b[39m torch\u001b[38;5;241m.\u001b[39mzeros(input_shape, dtype\u001b[38;5;241m=\u001b[39mtorch\u001b[38;5;241m.\u001b[39mlong, device\u001b[38;5;241m=\u001b[39mdevice)\n\u001b[1;32m    993\u001b[0m \u001b[38;5;66;03m# We can provide a self-attention mask of dimensions [batch_size, from_seq_length, to_seq_length]\u001b[39;00m\n\u001b[1;32m    994\u001b[0m \u001b[38;5;66;03m# ourselves in which case we just need to make it broadcastable to all heads.\u001b[39;00m\n\u001b[0;32m--> 995\u001b[0m extended_attention_mask: torch\u001b[38;5;241m.\u001b[39mTensor \u001b[38;5;241m=\u001b[39m \u001b[38;5;28;43mself\u001b[39;49m\u001b[38;5;241;43m.\u001b[39;49m\u001b[43mget_extended_attention_mask\u001b[49m\u001b[43m(\u001b[49m\u001b[43mattention_mask\u001b[49m\u001b[43m,\u001b[49m\u001b[43m \u001b[49m\u001b[43minput_shape\u001b[49m\u001b[43m)\u001b[49m\n\u001b[1;32m    997\u001b[0m \u001b[38;5;66;03m# If a 2D or 3D attention mask is provided for the cross-attention\u001b[39;00m\n\u001b[1;32m    998\u001b[0m \u001b[38;5;66;03m# we need to make broadcastable to [batch_size, num_heads, seq_length, seq_length]\u001b[39;00m\n\u001b[1;32m    999\u001b[0m \u001b[38;5;28;01mif\u001b[39;00m \u001b[38;5;28mself\u001b[39m\u001b[38;5;241m.\u001b[39mconfig\u001b[38;5;241m.\u001b[39mis_decoder \u001b[38;5;129;01mand\u001b[39;00m encoder_hidden_states \u001b[38;5;129;01mis\u001b[39;00m \u001b[38;5;129;01mnot\u001b[39;00m \u001b[38;5;28;01mNone\u001b[39;00m:\n",
      "File \u001b[0;32m~/Desktop/kaggle/venv/lib/python3.10/site-packages/transformers/modeling_utils.py:899\u001b[0m, in \u001b[0;36mModuleUtilsMixin.get_extended_attention_mask\u001b[0;34m(self, attention_mask, input_shape, device, dtype)\u001b[0m\n\u001b[1;32m    897\u001b[0m         extended_attention_mask \u001b[38;5;241m=\u001b[39m attention_mask[:, \u001b[38;5;28;01mNone\u001b[39;00m, \u001b[38;5;28;01mNone\u001b[39;00m, :]\n\u001b[1;32m    898\u001b[0m \u001b[38;5;28;01melse\u001b[39;00m:\n\u001b[0;32m--> 899\u001b[0m     \u001b[38;5;28;01mraise\u001b[39;00m \u001b[38;5;167;01mValueError\u001b[39;00m(\n\u001b[1;32m    900\u001b[0m         \u001b[38;5;124mf\u001b[39m\u001b[38;5;124m\"\u001b[39m\u001b[38;5;124mWrong shape for input_ids (shape \u001b[39m\u001b[38;5;132;01m{\u001b[39;00minput_shape\u001b[38;5;132;01m}\u001b[39;00m\u001b[38;5;124m) or attention_mask (shape \u001b[39m\u001b[38;5;132;01m{\u001b[39;00mattention_mask\u001b[38;5;241m.\u001b[39mshape\u001b[38;5;132;01m}\u001b[39;00m\u001b[38;5;124m)\u001b[39m\u001b[38;5;124m\"\u001b[39m\n\u001b[1;32m    901\u001b[0m     )\n\u001b[1;32m    903\u001b[0m \u001b[38;5;66;03m# Since attention_mask is 1.0 for positions we want to attend and 0.0 for\u001b[39;00m\n\u001b[1;32m    904\u001b[0m \u001b[38;5;66;03m# masked positions, this operation will create a tensor which is 0.0 for\u001b[39;00m\n\u001b[1;32m    905\u001b[0m \u001b[38;5;66;03m# positions we want to attend and the dtype's smallest value for masked positions.\u001b[39;00m\n\u001b[1;32m    906\u001b[0m \u001b[38;5;66;03m# Since we are adding it to the raw scores before the softmax, this is\u001b[39;00m\n\u001b[1;32m    907\u001b[0m \u001b[38;5;66;03m# effectively the same as removing these entirely.\u001b[39;00m\n\u001b[1;32m    908\u001b[0m extended_attention_mask \u001b[38;5;241m=\u001b[39m extended_attention_mask\u001b[38;5;241m.\u001b[39mto(dtype\u001b[38;5;241m=\u001b[39mdtype)  \u001b[38;5;66;03m# fp16 compatibility\u001b[39;00m\n",
      "\u001b[0;31mValueError\u001b[0m: Wrong shape for input_ids (shape torch.Size([16, 212])) or attention_mask (shape torch.Size([16]))"
     ]
    }
   ],
   "source": [
    "for epoch_i in range(0, epochs):\n",
    "\n",
    "    running_train_loss = 0\n",
    "    running_train_accuracy = 0\n",
    "    running_val_loss = 0\n",
    "    running_val_accuracy = 0\n",
    "\n",
    "    model.train()\n",
    "\n",
    "    loop = tqdm(train_dataloader)\n",
    "\n",
    "    for batch in loop:\n",
    "\n",
    "        optimizer.zero_grad()\n",
    "\n",
    "        print(batch[0].shape)\n",
    "        output = model(input_ids=batch[0],\n",
    "                       token_type_ids=batch[1],\n",
    "                       attention_mask=batch[2],\n",
    "                       labels=batch[3])\n",
    "\n",
    "        label_ids = batch[3].to('cpu').numpy()\n",
    "        predictions = torch.argmax(output.logits.detach().cpu(), 1).numpy()\n",
    "        running_train_accuracy += (label_ids==predictions).sum()\n",
    "\n",
    "        loss = output.loss\n",
    "        running_train_loss += loss.item()\n",
    "        loss.backward()\n",
    "        torch.nn.utils.clip_grad_norm_(model.parameters(), 1.0)\n",
    "\n",
    "        optimizer.step()\n",
    "\n",
    "        loop.set_description(f\"Training. Epoch [{epoch_i}/{epochs}]\")\n",
    "        loop.set_postfix(loss=loss.item(), acc=(label_ids==predictions).sum()/len(predictions))\n",
    "\n",
    "    avg_train_accuracy.append(running_train_accuracy / train_size)\n",
    "    avg_train_loss.append(running_train_loss / train_size)\n",
    "\n",
    "    model.eval()\n",
    "\n",
    "    with torch.no_grad():\n",
    "        loop = tqdm(validation_dataloader)\n",
    "        for batch in loop:\n",
    "\n",
    "            output = model(input_ids=batch[0],\n",
    "                          token_type_ids=batch[1],\n",
    "                          attention_mask=batch[2],\n",
    "                          labels=batch[3])\n",
    "\n",
    "            label_ids = batch[3].to('cpu').numpy()\n",
    "            predictions = torch.argmax(output.logits.detach().cpu(), 1).numpy()\n",
    "            running_val_accuracy += (label_ids==predictions).sum()\n",
    "\n",
    "            loss = output.loss\n",
    "            running_val_loss += loss.item()\n",
    "\n",
    "            loop.set_description(f\"Validation. Epoch [{epoch_i}/{epochs}]\")\n",
    "            loop.set_postfix(loss=loss.item(), acc=(label_ids==predictions).sum()/len(predictions))\n",
    "\n",
    "    avg_val_accuracy.append(running_val_accuracy / validation_size)\n",
    "    avg_val_loss.append(running_val_loss / validation_size)"
   ]
  },
  {
   "cell_type": "code",
   "execution_count": null,
   "id": "c86f8965-8d31-4471-a667-8df10d1697d9",
   "metadata": {},
   "outputs": [],
   "source": [
    "fig, axs = plt.subplots(2,2, figsize=(12, 7), sharex=True, sharey=True)\n",
    "\n",
    "axs[0][0].plot(avg_train_loss)\n",
    "axs[0][0].set_title(\"Average training loss\")\n",
    "\n",
    "axs[0][1].plot(avg_val_loss)\n",
    "axs[0][1].set_title(\"Average validation loss\")\n",
    "\n",
    "axs[1][0].plot(avg_train_accuracy)\n",
    "axs[1][0].set_title(\"Average train accuracy\")\n",
    "\n",
    "axs[1][1].plot(avg_val_accuracy)\n",
    "axs[1][1].set_title(\"Average validation accuracy\")\n",
    "\n",
    "axs[1][0].set_xlabel(\"Epoch\")\n",
    "axs[1][1].set_xlabel(\"Epoch\")\n",
    "axs[1][0].set_ylabel(\"Accuracy\")\n",
    "axs[0][0].set_ylabel(\"Loss\")\n",
    "\n",
    "for row in axs:\n",
    "    for ax in row:\n",
    "        ax.grid(c='gray', alpha=0.5)"
   ]
  },
  {
   "cell_type": "markdown",
   "id": "38a8838f-032c-47e4-b05e-81de7b740442",
   "metadata": {
    "id": "38a8838f-032c-47e4-b05e-81de7b740442"
   },
   "source": [
    "# Evaluate"
   ]
  },
  {
   "cell_type": "code",
   "execution_count": null,
   "id": "29f05e96-e759-4a22-9243-286d91da08c8",
   "metadata": {
    "id": "29f05e96-e759-4a22-9243-286d91da08c8"
   },
   "outputs": [],
   "source": [
    "def evaluate(model, dataloader):\n",
    "\n",
    "    true_labels = []\n",
    "    predicted_labels = []\n",
    "    language = []\n",
    "\n",
    "    for i, batch in enumerate(dataloader):\n",
    "\n",
    "        output = model(input_ids=batch[0],\n",
    "                          attention_mask=batch[1],\n",
    "                          labels=batch[2])\n",
    "        true_labels.append(batch[2].to('cpu').numpy())\n",
    "        language.append(batch[3].to('cpu').numpy())\n",
    "        predicted_labels.append(torch.argmax(output.logits.detach().cpu(), 1).numpy())\n",
    "\n",
    "    true_labels = np.concatenate(true_labels, axis=0)\n",
    "    predicted_labels = np.concatenate(predicted_labels, axis=0)\n",
    "    language = np.concatenate(language, axis=0)\n",
    "\n",
    "    res_df = pd.DataFrame({\"TrueLabel\": true_labels, \"PredictedLabel\": predicted_labels, \"LanguageId\": language})\n",
    "    res_df[\"Language\"] = res_df[\"LanguageId\"].map(ids_to_language)\n",
    "    res_df[\"CorrectPrediction\"] = (res_df[\"TrueLabel\"] == res_df[\"PredictedLabel\"])\n",
    "    res_df = res_df.groupby(\"Language\")[\"CorrectPrediction\"].agg(CorrectPredictions=\"sum\", AllPredictions=\"count\")\n",
    "    res_df[\"Accuracy\"] = round(res_df['CorrectPredictions']/res_df[\"AllPredictions\"], 2)\n",
    "    res_dict = res_df[\"Accuracy\"].to_dict()\n",
    "    res_dict[\"Average\"] = round(sum(true_labels==predicted_labels)/len(true_labels), 2)\n",
    "    res_dict[\"NumberOfSamples\"] = len(true_labels)\n",
    "\n",
    "    print(res_dict)\n",
    "    cm = confusion_matrix(true_labels, predicted_labels, labels=[0,1,2], normalize='true')\n",
    "    ax= plt.subplot()\n",
    "    sns.heatmap(np.round(cm, 2), annot=True, fmt='g', ax=ax, cmap='cool')\n",
    "    ax.set_xlabel('Predicted labels')\n",
    "    ax.set_ylabel('True labels')\n",
    "    ax.set_title('Confusion Matrix')\n",
    "    ax.xaxis.set_ticklabels([\"entailment\", \"neutral\", \"contradiction\"])\n",
    "    ax.yaxis.set_ticklabels([\"entailment\", \"neutral\", \"contradiction\"])\n",
    "    plt.show()\n",
    "\n",
    "    return res_dict"
   ]
  },
  {
   "cell_type": "code",
   "execution_count": null,
   "id": "0959d732-32cc-40ce-8439-e6a9440a138f",
   "metadata": {},
   "outputs": [],
   "source": [
    "evaluate(model, train_dataloader)\n",
    "evaluate(model, validation_dataloader)"
   ]
  },
  {
   "cell_type": "markdown",
   "id": "4d3db305-dcb2-4fee-8b11-2acfce018e7f",
   "metadata": {
    "id": "4d3db305-dcb2-4fee-8b11-2acfce018e7f"
   },
   "source": [
    "# Save pretrained model"
   ]
  },
  {
   "cell_type": "code",
   "execution_count": null,
   "id": "-OcttI8DA4Uw",
   "metadata": {
    "colab": {
     "base_uri": "https://localhost:8080/"
    },
    "id": "-OcttI8DA4Uw",
    "outputId": "89b09f4d-f63d-49e2-eb69-3e2b65469774"
   },
   "outputs": [],
   "source": [
    "model.save_pretrained(\"classification_model\")\n",
    "tokenizer.save_pretrained(\"tokenizer\")"
   ]
  },
  {
   "cell_type": "code",
   "execution_count": null,
   "id": "eCL81FV9BMjZ",
   "metadata": {
    "id": "eCL81FV9BMjZ"
   },
   "outputs": [],
   "source": [
    "model= AutoModelForSequenceClassification.from_pretrained(\"classification_model\",\n",
    "                                                                num_labels = 3,\n",
    "                                                                ignore_mismatched_sizes=True,\n",
    "                                                                output_attentions = False,\n",
    "                                                                output_hidden_states = False)\n"
   ]
  },
  {
   "cell_type": "markdown",
   "id": "2f985cc5-d5ba-4647-bded-ed83c979906c",
   "metadata": {
    "id": "jO-NbcqnB13p"
   },
   "source": [
    "# Predict"
   ]
  },
  {
   "cell_type": "code",
   "execution_count": null,
   "id": "9b71d8bc-d0b8-4ca4-a286-75d984054d4f",
   "metadata": {},
   "outputs": [],
   "source": [
    "test_df = pd.read_csv(\"data/test.csv\")\n",
    "\n",
    "test_df['premise']  = test_df['premise'].apply(lambda x: x.lower())\n",
    "test_df['hypothesis']  = test_df['hypothesis'].apply(lambda x: x.lower())\n",
    "test_df['inputs'] = \"[CLS] \" + test_df['premise'] + \" [SEP] \" + test_df['hypothesis'] + \" [SEP]\"\n",
    "test_df.drop([\"premise\", \"hypothesis\", \"lang_abv\", \"language\"], axis=1, inplace=True)\n",
    "\n",
    "test_df.head()"
   ]
  },
  {
   "cell_type": "code",
   "execution_count": null,
   "id": "e441cf3c-f2a1-4d92-bcd9-57b70766df09",
   "metadata": {},
   "outputs": [],
   "source": [
    "def predict(inputs):\n",
    "\n",
    "    encoded_dict = tokenizer(inputs,\n",
    "                            add_special_tokens = True,\n",
    "                            return_attention_mask = True,\n",
    "                            return_tensors = 'pt',\n",
    "                   )\n",
    "\n",
    "    output = model(input_ids=encoded_dict[\"input_ids\"],\n",
    "                          attention_mask=encoded_dict[\"attention_mask\"])\n",
    "    label = torch.argmax(output.logits.detach().cpu(), 1)\n",
    "    return int(label)\n",
    "\n",
    "    "
   ]
  },
  {
   "cell_type": "code",
   "execution_count": null,
   "id": "084534a9-db13-4dc8-ae00-963e53669c1b",
   "metadata": {},
   "outputs": [],
   "source": [
    "test_df[\"prediction\"] = test_df[\"inputs\"].apply(lambda x: predict(x))"
   ]
  },
  {
   "cell_type": "code",
   "execution_count": null,
   "id": "b137485e-bf93-4a3d-b567-183fc0381b3e",
   "metadata": {},
   "outputs": [],
   "source": [
    "test_df[[\"id\", \"prediction\"]].to_csv(\"data/submission.csv\", index=False)"
   ]
  },
  {
   "cell_type": "code",
   "execution_count": null,
   "id": "52655110-af15-4385-853f-06d45f45539b",
   "metadata": {},
   "outputs": [],
   "source": []
  }
 ],
 "metadata": {
  "accelerator": "GPU",
  "colab": {
   "cell_execution_strategy": "setup",
   "gpuType": "T4",
   "provenance": []
  },
  "kernelspec": {
   "display_name": "Python 3 (ipykernel)",
   "language": "python",
   "name": "python3"
  },
  "language_info": {
   "codemirror_mode": {
    "name": "ipython",
    "version": 3
   },
   "file_extension": ".py",
   "mimetype": "text/x-python",
   "name": "python",
   "nbconvert_exporter": "python",
   "pygments_lexer": "ipython3",
   "version": "3.10.10"
  },
  "widgets": {
   "application/vnd.jupyter.widget-state+json": {
    "05e01d2b549547a19d94236055a03f56": {
     "model_module": "@jupyter-widgets/base",
     "model_module_version": "1.2.0",
     "model_name": "LayoutModel",
     "state": {
      "_model_module": "@jupyter-widgets/base",
      "_model_module_version": "1.2.0",
      "_model_name": "LayoutModel",
      "_view_count": null,
      "_view_module": "@jupyter-widgets/base",
      "_view_module_version": "1.2.0",
      "_view_name": "LayoutView",
      "align_content": null,
      "align_items": null,
      "align_self": null,
      "border": null,
      "bottom": null,
      "display": "inline-flex",
      "flex": null,
      "flex_flow": "row wrap",
      "grid_area": null,
      "grid_auto_columns": null,
      "grid_auto_flow": null,
      "grid_auto_rows": null,
      "grid_column": null,
      "grid_gap": null,
      "grid_row": null,
      "grid_template_areas": null,
      "grid_template_columns": null,
      "grid_template_rows": null,
      "height": null,
      "justify_content": null,
      "justify_items": null,
      "left": null,
      "margin": null,
      "max_height": null,
      "max_width": null,
      "min_height": null,
      "min_width": null,
      "object_fit": null,
      "object_position": null,
      "order": null,
      "overflow": null,
      "overflow_x": null,
      "overflow_y": null,
      "padding": null,
      "right": null,
      "top": null,
      "visibility": "hidden",
      "width": "100%"
     }
    },
    "0d6ac5513a8f44028141b8dfbf37d205": {
     "model_module": "@jupyter-widgets/base",
     "model_module_version": "1.2.0",
     "model_name": "LayoutModel",
     "state": {
      "_model_module": "@jupyter-widgets/base",
      "_model_module_version": "1.2.0",
      "_model_name": "LayoutModel",
      "_view_count": null,
      "_view_module": "@jupyter-widgets/base",
      "_view_module_version": "1.2.0",
      "_view_name": "LayoutView",
      "align_content": null,
      "align_items": null,
      "align_self": null,
      "border": null,
      "bottom": null,
      "display": null,
      "flex": null,
      "flex_flow": null,
      "grid_area": null,
      "grid_auto_columns": null,
      "grid_auto_flow": null,
      "grid_auto_rows": null,
      "grid_column": null,
      "grid_gap": null,
      "grid_row": null,
      "grid_template_areas": null,
      "grid_template_columns": null,
      "grid_template_rows": null,
      "height": null,
      "justify_content": null,
      "justify_items": null,
      "left": null,
      "margin": null,
      "max_height": null,
      "max_width": null,
      "min_height": null,
      "min_width": null,
      "object_fit": null,
      "object_position": null,
      "order": null,
      "overflow": null,
      "overflow_x": null,
      "overflow_y": null,
      "padding": null,
      "right": null,
      "top": null,
      "visibility": null,
      "width": null
     }
    },
    "1304e7704867490bb9b0872e3c228a14": {
     "model_module": "@jupyter-widgets/controls",
     "model_module_version": "1.5.0",
     "model_name": "HTMLModel",
     "state": {
      "_dom_classes": [],
      "_model_module": "@jupyter-widgets/controls",
      "_model_module_version": "1.5.0",
      "_model_name": "HTMLModel",
      "_view_count": null,
      "_view_module": "@jupyter-widgets/controls",
      "_view_module_version": "1.5.0",
      "_view_name": "HTMLView",
      "description": "",
      "description_tooltip": null,
      "layout": "IPY_MODEL_ba6adb1cd11e4be887ea3a6d60ca23fb",
      "placeholder": "​",
      "style": "IPY_MODEL_2fe17b2f22fc4329a157167216426fdd",
      "value": " 2/2 [00:00&lt;00:00, 29.43it/s]"
     }
    },
    "1dacaeb0c11344e1910556cb3f942052": {
     "model_module": "@jupyter-widgets/controls",
     "model_module_version": "1.5.0",
     "model_name": "HBoxModel",
     "state": {
      "_dom_classes": [],
      "_model_module": "@jupyter-widgets/controls",
      "_model_module_version": "1.5.0",
      "_model_name": "HBoxModel",
      "_view_count": null,
      "_view_module": "@jupyter-widgets/controls",
      "_view_module_version": "1.5.0",
      "_view_name": "HBoxView",
      "box_style": "",
      "children": [
       "IPY_MODEL_b7c742a25b2c40bfa979ed9c94b62ecc",
       "IPY_MODEL_b5ee3745ecbe46cdbf153f3c84f10dc1",
       "IPY_MODEL_1304e7704867490bb9b0872e3c228a14"
      ],
      "layout": "IPY_MODEL_05e01d2b549547a19d94236055a03f56"
     }
    },
    "1eb4ba3dfc48459f99adddd5239dd749": {
     "model_module": "@jupyter-widgets/controls",
     "model_module_version": "1.5.0",
     "model_name": "HBoxModel",
     "state": {
      "_dom_classes": [],
      "_model_module": "@jupyter-widgets/controls",
      "_model_module_version": "1.5.0",
      "_model_name": "HBoxModel",
      "_view_count": null,
      "_view_module": "@jupyter-widgets/controls",
      "_view_module_version": "1.5.0",
      "_view_name": "HBoxView",
      "box_style": "",
      "children": [
       "IPY_MODEL_585e42df913b4299ae638c7376681edc",
       "IPY_MODEL_e4a996a4dfe246c78c3e48b16e700cef",
       "IPY_MODEL_8aebb2b0f9654bc7828b57c785d1723f"
      ],
      "layout": "IPY_MODEL_c04f9e73ed364ffcbc0085a1b2b4ef0f"
     }
    },
    "2fe17b2f22fc4329a157167216426fdd": {
     "model_module": "@jupyter-widgets/controls",
     "model_module_version": "1.5.0",
     "model_name": "DescriptionStyleModel",
     "state": {
      "_model_module": "@jupyter-widgets/controls",
      "_model_module_version": "1.5.0",
      "_model_name": "DescriptionStyleModel",
      "_view_count": null,
      "_view_module": "@jupyter-widgets/base",
      "_view_module_version": "1.2.0",
      "_view_name": "StyleView",
      "description_width": ""
     }
    },
    "49a49da8f98043f0a1eea3ac733caf0c": {
     "model_module": "@jupyter-widgets/base",
     "model_module_version": "1.2.0",
     "model_name": "LayoutModel",
     "state": {
      "_model_module": "@jupyter-widgets/base",
      "_model_module_version": "1.2.0",
      "_model_name": "LayoutModel",
      "_view_count": null,
      "_view_module": "@jupyter-widgets/base",
      "_view_module_version": "1.2.0",
      "_view_name": "LayoutView",
      "align_content": null,
      "align_items": null,
      "align_self": null,
      "border": null,
      "bottom": null,
      "display": null,
      "flex": "2",
      "flex_flow": null,
      "grid_area": null,
      "grid_auto_columns": null,
      "grid_auto_flow": null,
      "grid_auto_rows": null,
      "grid_column": null,
      "grid_gap": null,
      "grid_row": null,
      "grid_template_areas": null,
      "grid_template_columns": null,
      "grid_template_rows": null,
      "height": null,
      "justify_content": null,
      "justify_items": null,
      "left": null,
      "margin": null,
      "max_height": null,
      "max_width": null,
      "min_height": null,
      "min_width": null,
      "object_fit": null,
      "object_position": null,
      "order": null,
      "overflow": null,
      "overflow_x": null,
      "overflow_y": null,
      "padding": null,
      "right": null,
      "top": null,
      "visibility": null,
      "width": null
     }
    },
    "4e5cbe80dd6f44efa3a001ee7e015b33": {
     "model_module": "@jupyter-widgets/controls",
     "model_module_version": "1.5.0",
     "model_name": "FloatProgressModel",
     "state": {
      "_dom_classes": [],
      "_model_module": "@jupyter-widgets/controls",
      "_model_module_version": "1.5.0",
      "_model_name": "FloatProgressModel",
      "_view_count": null,
      "_view_module": "@jupyter-widgets/controls",
      "_view_module_version": "1.5.0",
      "_view_name": "ProgressView",
      "bar_style": "",
      "description": "",
      "description_tooltip": null,
      "layout": "IPY_MODEL_fc7eaeae4791459ca838b78f9626dcbb",
      "max": 303,
      "min": 0,
      "orientation": "horizontal",
      "style": "IPY_MODEL_565201174c17421caef0b02b9e31428f",
      "value": 303
     }
    },
    "5414e1765165431ea1699153f7bad0f8": {
     "model_module": "@jupyter-widgets/controls",
     "model_module_version": "1.5.0",
     "model_name": "ProgressStyleModel",
     "state": {
      "_model_module": "@jupyter-widgets/controls",
      "_model_module_version": "1.5.0",
      "_model_name": "ProgressStyleModel",
      "_view_count": null,
      "_view_module": "@jupyter-widgets/base",
      "_view_module_version": "1.2.0",
      "_view_name": "StyleView",
      "bar_color": null,
      "description_width": ""
     }
    },
    "565201174c17421caef0b02b9e31428f": {
     "model_module": "@jupyter-widgets/controls",
     "model_module_version": "1.5.0",
     "model_name": "ProgressStyleModel",
     "state": {
      "_model_module": "@jupyter-widgets/controls",
      "_model_module_version": "1.5.0",
      "_model_name": "ProgressStyleModel",
      "_view_count": null,
      "_view_module": "@jupyter-widgets/base",
      "_view_module_version": "1.2.0",
      "_view_name": "StyleView",
      "bar_color": null,
      "description_width": ""
     }
    },
    "585e42df913b4299ae638c7376681edc": {
     "model_module": "@jupyter-widgets/controls",
     "model_module_version": "1.5.0",
     "model_name": "HTMLModel",
     "state": {
      "_dom_classes": [],
      "_model_module": "@jupyter-widgets/controls",
      "_model_module_version": "1.5.0",
      "_model_name": "HTMLModel",
      "_view_count": null,
      "_view_module": "@jupyter-widgets/controls",
      "_view_module_version": "1.5.0",
      "_view_name": "HTMLView",
      "description": "",
      "description_tooltip": null,
      "layout": "IPY_MODEL_cd9adf9d2c8443838b639cdc689c13d1",
      "placeholder": "​",
      "style": "IPY_MODEL_bf71fb48587f479eb05d8a5455681094",
      "value": "Epoch 0: 100%"
     }
    },
    "7cbe15aaccc748d39794652d0431c70a": {
     "model_module": "@jupyter-widgets/base",
     "model_module_version": "1.2.0",
     "model_name": "LayoutModel",
     "state": {
      "_model_module": "@jupyter-widgets/base",
      "_model_module_version": "1.2.0",
      "_model_name": "LayoutModel",
      "_view_count": null,
      "_view_module": "@jupyter-widgets/base",
      "_view_module_version": "1.2.0",
      "_view_name": "LayoutView",
      "align_content": null,
      "align_items": null,
      "align_self": null,
      "border": null,
      "bottom": null,
      "display": null,
      "flex": null,
      "flex_flow": null,
      "grid_area": null,
      "grid_auto_columns": null,
      "grid_auto_flow": null,
      "grid_auto_rows": null,
      "grid_column": null,
      "grid_gap": null,
      "grid_row": null,
      "grid_template_areas": null,
      "grid_template_columns": null,
      "grid_template_rows": null,
      "height": null,
      "justify_content": null,
      "justify_items": null,
      "left": null,
      "margin": null,
      "max_height": null,
      "max_width": null,
      "min_height": null,
      "min_width": null,
      "object_fit": null,
      "object_position": null,
      "order": null,
      "overflow": null,
      "overflow_x": null,
      "overflow_y": null,
      "padding": null,
      "right": null,
      "top": null,
      "visibility": null,
      "width": null
     }
    },
    "7d3557be7eca442da041ca19871acb5c": {
     "model_module": "@jupyter-widgets/controls",
     "model_module_version": "1.5.0",
     "model_name": "HBoxModel",
     "state": {
      "_dom_classes": [],
      "_model_module": "@jupyter-widgets/controls",
      "_model_module_version": "1.5.0",
      "_model_name": "HBoxModel",
      "_view_count": null,
      "_view_module": "@jupyter-widgets/controls",
      "_view_module_version": "1.5.0",
      "_view_name": "HBoxView",
      "box_style": "",
      "children": [
       "IPY_MODEL_b4acafa342bd43e089da3f430df3d776",
       "IPY_MODEL_4e5cbe80dd6f44efa3a001ee7e015b33",
       "IPY_MODEL_fb410a780f9742098b59f243f8f4d68a"
      ],
      "layout": "IPY_MODEL_ca8587dff85942198721f352190f1bee"
     }
    },
    "8aebb2b0f9654bc7828b57c785d1723f": {
     "model_module": "@jupyter-widgets/controls",
     "model_module_version": "1.5.0",
     "model_name": "HTMLModel",
     "state": {
      "_dom_classes": [],
      "_model_module": "@jupyter-widgets/controls",
      "_model_module_version": "1.5.0",
      "_model_name": "HTMLModel",
      "_view_count": null,
      "_view_module": "@jupyter-widgets/controls",
      "_view_module_version": "1.5.0",
      "_view_name": "HTMLView",
      "description": "",
      "description_tooltip": null,
      "layout": "IPY_MODEL_7cbe15aaccc748d39794652d0431c70a",
      "placeholder": "​",
      "style": "IPY_MODEL_b1cec8b9636c4012b75822a94b29a28a",
      "value": " 1212/1212 [04:00&lt;00:00,  5.04it/s, v_num=4, validation_loss=1.110, validation_accuracy=0.335]"
     }
    },
    "8ec6dc3641f34a97b2a1f8bdfc82dca4": {
     "model_module": "@jupyter-widgets/base",
     "model_module_version": "1.2.0",
     "model_name": "LayoutModel",
     "state": {
      "_model_module": "@jupyter-widgets/base",
      "_model_module_version": "1.2.0",
      "_model_name": "LayoutModel",
      "_view_count": null,
      "_view_module": "@jupyter-widgets/base",
      "_view_module_version": "1.2.0",
      "_view_name": "LayoutView",
      "align_content": null,
      "align_items": null,
      "align_self": null,
      "border": null,
      "bottom": null,
      "display": null,
      "flex": null,
      "flex_flow": null,
      "grid_area": null,
      "grid_auto_columns": null,
      "grid_auto_flow": null,
      "grid_auto_rows": null,
      "grid_column": null,
      "grid_gap": null,
      "grid_row": null,
      "grid_template_areas": null,
      "grid_template_columns": null,
      "grid_template_rows": null,
      "height": null,
      "justify_content": null,
      "justify_items": null,
      "left": null,
      "margin": null,
      "max_height": null,
      "max_width": null,
      "min_height": null,
      "min_width": null,
      "object_fit": null,
      "object_position": null,
      "order": null,
      "overflow": null,
      "overflow_x": null,
      "overflow_y": null,
      "padding": null,
      "right": null,
      "top": null,
      "visibility": null,
      "width": null
     }
    },
    "9fa44429727448058ecd154c64381038": {
     "model_module": "@jupyter-widgets/controls",
     "model_module_version": "1.5.0",
     "model_name": "DescriptionStyleModel",
     "state": {
      "_model_module": "@jupyter-widgets/controls",
      "_model_module_version": "1.5.0",
      "_model_name": "DescriptionStyleModel",
      "_view_count": null,
      "_view_module": "@jupyter-widgets/base",
      "_view_module_version": "1.2.0",
      "_view_name": "StyleView",
      "description_width": ""
     }
    },
    "a6d5b09228414232a47b8106299803fb": {
     "model_module": "@jupyter-widgets/controls",
     "model_module_version": "1.5.0",
     "model_name": "ProgressStyleModel",
     "state": {
      "_model_module": "@jupyter-widgets/controls",
      "_model_module_version": "1.5.0",
      "_model_name": "ProgressStyleModel",
      "_view_count": null,
      "_view_module": "@jupyter-widgets/base",
      "_view_module_version": "1.2.0",
      "_view_name": "StyleView",
      "bar_color": null,
      "description_width": ""
     }
    },
    "b1cec8b9636c4012b75822a94b29a28a": {
     "model_module": "@jupyter-widgets/controls",
     "model_module_version": "1.5.0",
     "model_name": "DescriptionStyleModel",
     "state": {
      "_model_module": "@jupyter-widgets/controls",
      "_model_module_version": "1.5.0",
      "_model_name": "DescriptionStyleModel",
      "_view_count": null,
      "_view_module": "@jupyter-widgets/base",
      "_view_module_version": "1.2.0",
      "_view_name": "StyleView",
      "description_width": ""
     }
    },
    "b4acafa342bd43e089da3f430df3d776": {
     "model_module": "@jupyter-widgets/controls",
     "model_module_version": "1.5.0",
     "model_name": "HTMLModel",
     "state": {
      "_dom_classes": [],
      "_model_module": "@jupyter-widgets/controls",
      "_model_module_version": "1.5.0",
      "_model_name": "HTMLModel",
      "_view_count": null,
      "_view_module": "@jupyter-widgets/controls",
      "_view_module_version": "1.5.0",
      "_view_name": "HTMLView",
      "description": "",
      "description_tooltip": null,
      "layout": "IPY_MODEL_8ec6dc3641f34a97b2a1f8bdfc82dca4",
      "placeholder": "​",
      "style": "IPY_MODEL_fc258ef73bb3412ea64d89687617b611",
      "value": "Validation DataLoader 0: 100%"
     }
    },
    "b5ee3745ecbe46cdbf153f3c84f10dc1": {
     "model_module": "@jupyter-widgets/controls",
     "model_module_version": "1.5.0",
     "model_name": "FloatProgressModel",
     "state": {
      "_dom_classes": [],
      "_model_module": "@jupyter-widgets/controls",
      "_model_module_version": "1.5.0",
      "_model_name": "FloatProgressModel",
      "_view_count": null,
      "_view_module": "@jupyter-widgets/controls",
      "_view_module_version": "1.5.0",
      "_view_name": "ProgressView",
      "bar_style": "",
      "description": "",
      "description_tooltip": null,
      "layout": "IPY_MODEL_49a49da8f98043f0a1eea3ac733caf0c",
      "max": 2,
      "min": 0,
      "orientation": "horizontal",
      "style": "IPY_MODEL_a6d5b09228414232a47b8106299803fb",
      "value": 2
     }
    },
    "b7c742a25b2c40bfa979ed9c94b62ecc": {
     "model_module": "@jupyter-widgets/controls",
     "model_module_version": "1.5.0",
     "model_name": "HTMLModel",
     "state": {
      "_dom_classes": [],
      "_model_module": "@jupyter-widgets/controls",
      "_model_module_version": "1.5.0",
      "_model_name": "HTMLModel",
      "_view_count": null,
      "_view_module": "@jupyter-widgets/controls",
      "_view_module_version": "1.5.0",
      "_view_name": "HTMLView",
      "description": "",
      "description_tooltip": null,
      "layout": "IPY_MODEL_0d6ac5513a8f44028141b8dfbf37d205",
      "placeholder": "​",
      "style": "IPY_MODEL_9fa44429727448058ecd154c64381038",
      "value": "Sanity Checking DataLoader 0: 100%"
     }
    },
    "b842d559a42547a38a70e6d2846b22a5": {
     "model_module": "@jupyter-widgets/controls",
     "model_module_version": "1.5.0",
     "model_name": "DescriptionStyleModel",
     "state": {
      "_model_module": "@jupyter-widgets/controls",
      "_model_module_version": "1.5.0",
      "_model_name": "DescriptionStyleModel",
      "_view_count": null,
      "_view_module": "@jupyter-widgets/base",
      "_view_module_version": "1.2.0",
      "_view_name": "StyleView",
      "description_width": ""
     }
    },
    "ba6adb1cd11e4be887ea3a6d60ca23fb": {
     "model_module": "@jupyter-widgets/base",
     "model_module_version": "1.2.0",
     "model_name": "LayoutModel",
     "state": {
      "_model_module": "@jupyter-widgets/base",
      "_model_module_version": "1.2.0",
      "_model_name": "LayoutModel",
      "_view_count": null,
      "_view_module": "@jupyter-widgets/base",
      "_view_module_version": "1.2.0",
      "_view_name": "LayoutView",
      "align_content": null,
      "align_items": null,
      "align_self": null,
      "border": null,
      "bottom": null,
      "display": null,
      "flex": null,
      "flex_flow": null,
      "grid_area": null,
      "grid_auto_columns": null,
      "grid_auto_flow": null,
      "grid_auto_rows": null,
      "grid_column": null,
      "grid_gap": null,
      "grid_row": null,
      "grid_template_areas": null,
      "grid_template_columns": null,
      "grid_template_rows": null,
      "height": null,
      "justify_content": null,
      "justify_items": null,
      "left": null,
      "margin": null,
      "max_height": null,
      "max_width": null,
      "min_height": null,
      "min_width": null,
      "object_fit": null,
      "object_position": null,
      "order": null,
      "overflow": null,
      "overflow_x": null,
      "overflow_y": null,
      "padding": null,
      "right": null,
      "top": null,
      "visibility": null,
      "width": null
     }
    },
    "bf71fb48587f479eb05d8a5455681094": {
     "model_module": "@jupyter-widgets/controls",
     "model_module_version": "1.5.0",
     "model_name": "DescriptionStyleModel",
     "state": {
      "_model_module": "@jupyter-widgets/controls",
      "_model_module_version": "1.5.0",
      "_model_name": "DescriptionStyleModel",
      "_view_count": null,
      "_view_module": "@jupyter-widgets/base",
      "_view_module_version": "1.2.0",
      "_view_name": "StyleView",
      "description_width": ""
     }
    },
    "c04f9e73ed364ffcbc0085a1b2b4ef0f": {
     "model_module": "@jupyter-widgets/base",
     "model_module_version": "1.2.0",
     "model_name": "LayoutModel",
     "state": {
      "_model_module": "@jupyter-widgets/base",
      "_model_module_version": "1.2.0",
      "_model_name": "LayoutModel",
      "_view_count": null,
      "_view_module": "@jupyter-widgets/base",
      "_view_module_version": "1.2.0",
      "_view_name": "LayoutView",
      "align_content": null,
      "align_items": null,
      "align_self": null,
      "border": null,
      "bottom": null,
      "display": "inline-flex",
      "flex": null,
      "flex_flow": "row wrap",
      "grid_area": null,
      "grid_auto_columns": null,
      "grid_auto_flow": null,
      "grid_auto_rows": null,
      "grid_column": null,
      "grid_gap": null,
      "grid_row": null,
      "grid_template_areas": null,
      "grid_template_columns": null,
      "grid_template_rows": null,
      "height": null,
      "justify_content": null,
      "justify_items": null,
      "left": null,
      "margin": null,
      "max_height": null,
      "max_width": null,
      "min_height": null,
      "min_width": null,
      "object_fit": null,
      "object_position": null,
      "order": null,
      "overflow": null,
      "overflow_x": null,
      "overflow_y": null,
      "padding": null,
      "right": null,
      "top": null,
      "visibility": null,
      "width": "100%"
     }
    },
    "ca8587dff85942198721f352190f1bee": {
     "model_module": "@jupyter-widgets/base",
     "model_module_version": "1.2.0",
     "model_name": "LayoutModel",
     "state": {
      "_model_module": "@jupyter-widgets/base",
      "_model_module_version": "1.2.0",
      "_model_name": "LayoutModel",
      "_view_count": null,
      "_view_module": "@jupyter-widgets/base",
      "_view_module_version": "1.2.0",
      "_view_name": "LayoutView",
      "align_content": null,
      "align_items": null,
      "align_self": null,
      "border": null,
      "bottom": null,
      "display": "inline-flex",
      "flex": null,
      "flex_flow": "row wrap",
      "grid_area": null,
      "grid_auto_columns": null,
      "grid_auto_flow": null,
      "grid_auto_rows": null,
      "grid_column": null,
      "grid_gap": null,
      "grid_row": null,
      "grid_template_areas": null,
      "grid_template_columns": null,
      "grid_template_rows": null,
      "height": null,
      "justify_content": null,
      "justify_items": null,
      "left": null,
      "margin": null,
      "max_height": null,
      "max_width": null,
      "min_height": null,
      "min_width": null,
      "object_fit": null,
      "object_position": null,
      "order": null,
      "overflow": null,
      "overflow_x": null,
      "overflow_y": null,
      "padding": null,
      "right": null,
      "top": null,
      "visibility": "hidden",
      "width": "100%"
     }
    },
    "cd9adf9d2c8443838b639cdc689c13d1": {
     "model_module": "@jupyter-widgets/base",
     "model_module_version": "1.2.0",
     "model_name": "LayoutModel",
     "state": {
      "_model_module": "@jupyter-widgets/base",
      "_model_module_version": "1.2.0",
      "_model_name": "LayoutModel",
      "_view_count": null,
      "_view_module": "@jupyter-widgets/base",
      "_view_module_version": "1.2.0",
      "_view_name": "LayoutView",
      "align_content": null,
      "align_items": null,
      "align_self": null,
      "border": null,
      "bottom": null,
      "display": null,
      "flex": null,
      "flex_flow": null,
      "grid_area": null,
      "grid_auto_columns": null,
      "grid_auto_flow": null,
      "grid_auto_rows": null,
      "grid_column": null,
      "grid_gap": null,
      "grid_row": null,
      "grid_template_areas": null,
      "grid_template_columns": null,
      "grid_template_rows": null,
      "height": null,
      "justify_content": null,
      "justify_items": null,
      "left": null,
      "margin": null,
      "max_height": null,
      "max_width": null,
      "min_height": null,
      "min_width": null,
      "object_fit": null,
      "object_position": null,
      "order": null,
      "overflow": null,
      "overflow_x": null,
      "overflow_y": null,
      "padding": null,
      "right": null,
      "top": null,
      "visibility": null,
      "width": null
     }
    },
    "cf19be963b5e4f2da1cf5182b9630141": {
     "model_module": "@jupyter-widgets/base",
     "model_module_version": "1.2.0",
     "model_name": "LayoutModel",
     "state": {
      "_model_module": "@jupyter-widgets/base",
      "_model_module_version": "1.2.0",
      "_model_name": "LayoutModel",
      "_view_count": null,
      "_view_module": "@jupyter-widgets/base",
      "_view_module_version": "1.2.0",
      "_view_name": "LayoutView",
      "align_content": null,
      "align_items": null,
      "align_self": null,
      "border": null,
      "bottom": null,
      "display": null,
      "flex": "2",
      "flex_flow": null,
      "grid_area": null,
      "grid_auto_columns": null,
      "grid_auto_flow": null,
      "grid_auto_rows": null,
      "grid_column": null,
      "grid_gap": null,
      "grid_row": null,
      "grid_template_areas": null,
      "grid_template_columns": null,
      "grid_template_rows": null,
      "height": null,
      "justify_content": null,
      "justify_items": null,
      "left": null,
      "margin": null,
      "max_height": null,
      "max_width": null,
      "min_height": null,
      "min_width": null,
      "object_fit": null,
      "object_position": null,
      "order": null,
      "overflow": null,
      "overflow_x": null,
      "overflow_y": null,
      "padding": null,
      "right": null,
      "top": null,
      "visibility": null,
      "width": null
     }
    },
    "d5d8495ba07a412f81310aa302812419": {
     "model_module": "@jupyter-widgets/base",
     "model_module_version": "1.2.0",
     "model_name": "LayoutModel",
     "state": {
      "_model_module": "@jupyter-widgets/base",
      "_model_module_version": "1.2.0",
      "_model_name": "LayoutModel",
      "_view_count": null,
      "_view_module": "@jupyter-widgets/base",
      "_view_module_version": "1.2.0",
      "_view_name": "LayoutView",
      "align_content": null,
      "align_items": null,
      "align_self": null,
      "border": null,
      "bottom": null,
      "display": null,
      "flex": null,
      "flex_flow": null,
      "grid_area": null,
      "grid_auto_columns": null,
      "grid_auto_flow": null,
      "grid_auto_rows": null,
      "grid_column": null,
      "grid_gap": null,
      "grid_row": null,
      "grid_template_areas": null,
      "grid_template_columns": null,
      "grid_template_rows": null,
      "height": null,
      "justify_content": null,
      "justify_items": null,
      "left": null,
      "margin": null,
      "max_height": null,
      "max_width": null,
      "min_height": null,
      "min_width": null,
      "object_fit": null,
      "object_position": null,
      "order": null,
      "overflow": null,
      "overflow_x": null,
      "overflow_y": null,
      "padding": null,
      "right": null,
      "top": null,
      "visibility": null,
      "width": null
     }
    },
    "e4a996a4dfe246c78c3e48b16e700cef": {
     "model_module": "@jupyter-widgets/controls",
     "model_module_version": "1.5.0",
     "model_name": "FloatProgressModel",
     "state": {
      "_dom_classes": [],
      "_model_module": "@jupyter-widgets/controls",
      "_model_module_version": "1.5.0",
      "_model_name": "FloatProgressModel",
      "_view_count": null,
      "_view_module": "@jupyter-widgets/controls",
      "_view_module_version": "1.5.0",
      "_view_name": "ProgressView",
      "bar_style": "",
      "description": "",
      "description_tooltip": null,
      "layout": "IPY_MODEL_cf19be963b5e4f2da1cf5182b9630141",
      "max": 1212,
      "min": 0,
      "orientation": "horizontal",
      "style": "IPY_MODEL_5414e1765165431ea1699153f7bad0f8",
      "value": 1212
     }
    },
    "fb410a780f9742098b59f243f8f4d68a": {
     "model_module": "@jupyter-widgets/controls",
     "model_module_version": "1.5.0",
     "model_name": "HTMLModel",
     "state": {
      "_dom_classes": [],
      "_model_module": "@jupyter-widgets/controls",
      "_model_module_version": "1.5.0",
      "_model_name": "HTMLModel",
      "_view_count": null,
      "_view_module": "@jupyter-widgets/controls",
      "_view_module_version": "1.5.0",
      "_view_name": "HTMLView",
      "description": "",
      "description_tooltip": null,
      "layout": "IPY_MODEL_d5d8495ba07a412f81310aa302812419",
      "placeholder": "​",
      "style": "IPY_MODEL_b842d559a42547a38a70e6d2846b22a5",
      "value": " 303/303 [00:11&lt;00:00, 27.07it/s]"
     }
    },
    "fc258ef73bb3412ea64d89687617b611": {
     "model_module": "@jupyter-widgets/controls",
     "model_module_version": "1.5.0",
     "model_name": "DescriptionStyleModel",
     "state": {
      "_model_module": "@jupyter-widgets/controls",
      "_model_module_version": "1.5.0",
      "_model_name": "DescriptionStyleModel",
      "_view_count": null,
      "_view_module": "@jupyter-widgets/base",
      "_view_module_version": "1.2.0",
      "_view_name": "StyleView",
      "description_width": ""
     }
    },
    "fc7eaeae4791459ca838b78f9626dcbb": {
     "model_module": "@jupyter-widgets/base",
     "model_module_version": "1.2.0",
     "model_name": "LayoutModel",
     "state": {
      "_model_module": "@jupyter-widgets/base",
      "_model_module_version": "1.2.0",
      "_model_name": "LayoutModel",
      "_view_count": null,
      "_view_module": "@jupyter-widgets/base",
      "_view_module_version": "1.2.0",
      "_view_name": "LayoutView",
      "align_content": null,
      "align_items": null,
      "align_self": null,
      "border": null,
      "bottom": null,
      "display": null,
      "flex": "2",
      "flex_flow": null,
      "grid_area": null,
      "grid_auto_columns": null,
      "grid_auto_flow": null,
      "grid_auto_rows": null,
      "grid_column": null,
      "grid_gap": null,
      "grid_row": null,
      "grid_template_areas": null,
      "grid_template_columns": null,
      "grid_template_rows": null,
      "height": null,
      "justify_content": null,
      "justify_items": null,
      "left": null,
      "margin": null,
      "max_height": null,
      "max_width": null,
      "min_height": null,
      "min_width": null,
      "object_fit": null,
      "object_position": null,
      "order": null,
      "overflow": null,
      "overflow_x": null,
      "overflow_y": null,
      "padding": null,
      "right": null,
      "top": null,
      "visibility": null,
      "width": null
     }
    }
   }
  }
 },
 "nbformat": 4,
 "nbformat_minor": 5
}
